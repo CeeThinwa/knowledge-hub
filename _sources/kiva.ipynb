{
 "cells": [
  {
   "cell_type": "code",
   "execution_count": 1,
   "id": "consolidated-visibility",
   "metadata": {
    "tags": [
     "remove-cell"
    ]
   },
   "outputs": [],
   "source": [
    "import warnings\n",
    "warnings.filterwarnings('ignore')"
   ]
  },
  {
   "cell_type": "markdown",
   "id": "approved-communications",
   "metadata": {},
   "source": [
    "# Kiva Project\n",
    "\n",
    "**(adapted from https://bit.ly/2J7G9f8)**\n",
    "\n",
    "## PROBLEM:\n",
    "\n",
    "### Context\n",
    "\n",
    "Kiva.org is an online crowdfunding platform to extend financial services to poor and financially excluded people around the world. Kiva lenders have provided over $1 billion dollars in loans to over 2 million people.\n",
    "\n",
    "In order to set investment priorities, help inform lenders, and understand their target communities, knowing the level of poverty of each borrower is critical. However, this requires inference based on a limited set of information for each borrower.\n",
    "\n",
    "Submissions in this challenge will take the form of Python data analysis.\n",
    "\n",
    "Kiva has provided a dataset of loans issued over the 2014-2018 time period, and participants are invited to use this data as well as source external public datasets to help Kiva build models for assessing borrower welfare levels. With a stronger understanding of their borrowers and their poverty levels, Kiva will be able to better assess and maximize the impact of their work.\n",
    "\n",
    "### Problem statement\n",
    "\n",
    "For the locations in which Kiva has active loans, the objective is to pair Kiva's data with additional data sources to estimate the welfare level of borrowers in specific regions, based on shared economic and demographic characteristics.\n",
    "\n",
    "A good solution would connect the features of each loan or product to one of several poverty mapping datasets, which indicate the average level of welfare in a region on as granular a level as possible. Many datasets indicate the poverty rate in a given area, with varying levels of granularity. Kiva would like to be able to disaggregate these regional averages by gender, sector, or borrowing behavior in order to estimate a Kiva borrower’s level of welfare using all of the relevant information about them. Strong submissions will attempt to map vaguely described locations to more accurate geocodes.\n",
    "\n",
    "### Personal disclaimer\n",
    "\n",
    "From a research perspective, the results obtained are never going to be a full representation of the realities that borrowers experience. It is meant to spark a discussion around how we can identify the welfare level of borrowers and improve them where we can.\n",
    "\n",
    "\n",
    "## SOLUTION:\n",
    "\n",
    "### Python Packages & Functions\n",
    "\n",
    "Here we upload all the Python packages and datasets required for analysis."
   ]
  },
  {
   "cell_type": "code",
   "execution_count": 2,
   "id": "unusual-bernard",
   "metadata": {
    "tags": [
     "hide-input"
    ]
   },
   "outputs": [],
   "source": [
    "# Packages\n",
    "import numpy as np\n",
    "\n",
    "import pandas as pd\n",
    "\n",
    "import matplotlib.pyplot as plt\n",
    "import matplotlib.dates as mdates"
   ]
  },
  {
   "cell_type": "markdown",
   "id": "aquatic-consumer",
   "metadata": {},
   "source": [
    "### Data\n",
    "\n",
    "#### 1. Original Data"
   ]
  },
  {
   "cell_type": "code",
   "execution_count": 3,
   "id": "objective-count",
   "metadata": {
    "tags": [
     "hide-input"
    ]
   },
   "outputs": [],
   "source": [
    "loan_data = pd.read_csv('C://Users//CT//Documents//GitHub//knowledge-hub//book//data//kiva-project//kiva_loans.csv')\n",
    "\n",
    "location_data = pd.read_csv('C://Users//CT//Documents//GitHub//knowledge-hub//book//data//kiva-project//kiva_mpi_region_locations.csv')\n",
    "\n",
    "loan_themes  = pd.read_csv('C://Users//CT//Documents//GitHub//knowledge-hub//book//data//kiva-project//loan_theme_ids.csv')\n",
    "\n",
    "regional_lts = pd.read_csv('C://Users//CT//Documents//GitHub//knowledge-hub//book//data//kiva-project//loan_themes_by_region.csv')"
   ]
  },
  {
   "cell_type": "code",
   "execution_count": 4,
   "id": "derived-netscape",
   "metadata": {
    "tags": [
     "hide-input"
    ]
   },
   "outputs": [
    {
     "name": "stdout",
     "output_type": "stream",
     "text": [
      "loan_data shape: (671205, 20)\n",
      "location_data shape: (2772, 9)\n",
      "loan_themes shape: (779092, 4)\n",
      "regional_lts shape: (15736, 21)\n"
     ]
    }
   ],
   "source": [
    "dfs = {'loan_data':loan_data, 'location_data':location_data,\n",
    "       'loan_themes':loan_themes, 'regional_lts':regional_lts}\n",
    "\n",
    "for key, val in dfs.items():\n",
    "\n",
    "    print(str(key+' shape:'), val.shape)"
   ]
  },
  {
   "cell_type": "markdown",
   "id": "tropical-cooler",
   "metadata": {},
   "source": [
    "<br>\n",
    "\n",
    "<u>**Descriptions of the original datasets**</u>\n",
    " \n",
    " There are four data sources provided by Kiva:\n",
    "\n",
    "* ***loan_data***\n",
    "    1. **id** - Unique ID for loan\n",
    "    2. **funded_amount** - The amount disbursed by Kiva to the field agent (USD)\n",
    "    3. **loan_amount** - The amount disbursed by the field agent to the borrower (USD)\n",
    "    4. **activity** - More granular category\n",
    "    5. **sector** - High level category\n",
    "    6. **use** - Exact usage of loan amount\n",
    "    7. **country_code** - ISO country code of country in which loan was disbursed\n",
    "    8. **country** - Full country name of country in which loan was disbursed\n",
    "    9. **region** - Full region name within the country\n",
    "    10. **currency** - The currency in which the loan was disbursed\n",
    "    11. **partner_id** - ID of partner organization\n",
    "    12. **posted_time** - The time at which the loan is posted on Kiva by the field agent\n",
    "    13. **disbursed_time** - The time at which the loan is disbursed by the field agent to the borrower\n",
    "    14. **funded_time** - The time at which the loan posted to Kiva gets funded by lenders completely\n",
    "    15. **term_in_months** - The duration for which the loan was disbursed in months\n",
    "    16. **lender_count** - The total number of lenders that contributed to this loan\n",
    "    17. **tags**\n",
    "    18. **borrower_genders** - Comma separated M,F letters, where each instance represents a single male/female in the group\n",
    "    19. **repayment_interval**\n",
    "    20. **date**"
   ]
  },
  {
   "cell_type": "markdown",
   "id": "decent-sheriff",
   "metadata": {},
   "source": [
    "* ***location_data***\n",
    "    1. **LocationName** - region, country\n",
    "    2. **ISO** - some sort of unique abbreviation for country\n",
    "    3. **country** - country\n",
    "    4. **region** - region within country\n",
    "    5. **world_region** - parts of the world\n",
    "    6. **MPI** - multidimensional poverty index\n",
    "    7. **geo** - (latitude, longitude)\n",
    "    8. **lat** - latitude\n",
    "    9. **lon** - longitude"
   ]
  },
  {
   "cell_type": "markdown",
   "id": "electric-efficiency",
   "metadata": {},
   "source": [
    "* ***loan_themes***\n",
    "    1. **id** - Unique ID for loan (Loan ID)\n",
    "    2. **Loan Theme ID** - ID for Loan Theme\n",
    "    3. **Loan Theme Type** - Category name of type of loan\n",
    "    4. **Partner ID**"
   ]
  },
  {
   "cell_type": "markdown",
   "id": "periodic-heading",
   "metadata": {},
   "source": [
    "* ***regional_lts***\n",
    "    1. **Partner ID**\n",
    "    2. **Field Partner Name**\n",
    "    3. **sector**\n",
    "    4. **Loan Theme ID**\n",
    "    5. **Loan Theme Type**\n",
    "    6. **country**\n",
    "    7. **forkiva**\n",
    "    8. **region**\n",
    "    9. **geocode_old**\n",
    "    10. **ISO**\n",
    "    11. **number**\n",
    "    12. **amount**\n",
    "    13. **LocationName**\n",
    "    14. **geocode**\n",
    "    15. **names**\n",
    "    16. **geo**\n",
    "    17. **lat**\n",
    "    18. **lon**\n",
    "    19. **mpi_region**\n",
    "    20. **mpi_geo**\n",
    "    21. **rural_pct**"
   ]
  },
  {
   "cell_type": "markdown",
   "id": "sudden-delhi",
   "metadata": {},
   "source": [
    "<br>\n",
    "\n",
    "#### 2. Supplementary Data\n",
    "\n",
    "In this section, we aim to gather the following data from the World Bank:\n",
    "\n",
    "[Per Capita Expenditure (PCE)](https://www.quora.com/What-does-per-capita-expenditure-mean?share=1) for each country - this is the total market value of all purchases in a country divided by that country's total population (data: https://bit.ly/3blw0be)"
   ]
  },
  {
   "cell_type": "code",
   "execution_count": 5,
   "id": "obvious-peoples",
   "metadata": {
    "tags": [
     "hide-input"
    ]
   },
   "outputs": [
    {
     "name": "stdout",
     "output_type": "stream",
     "text": [
      "PCE data shape: (185, 62)\n"
     ]
    }
   ],
   "source": [
    "# Per Capita Expenditure\n",
    "PCE_data = pd.read_csv('C://Users//CT//Documents//GitHub//knowledge-hub//book//data//kiva-project//PCE data.tsv', sep='\\t')\n",
    "\n",
    "print('PCE data shape:',PCE_data.shape)\n",
    "\n",
    "PCE_data = PCE_data.drop(['Unnamed: 61'],axis=1) # dropping the column containing only NaN values"
   ]
  },
  {
   "cell_type": "code",
   "execution_count": 6,
   "id": "aware-furniture",
   "metadata": {
    "tags": [
     "hide-input"
    ]
   },
   "outputs": [
    {
     "data": {
      "text/plain": [
       "dict_keys(['loan_data', 'location_data', 'loan_themes', 'regional_lts', 'PCE_data'])"
      ]
     },
     "execution_count": 6,
     "metadata": {},
     "output_type": "execute_result"
    }
   ],
   "source": [
    "# add this dataset to the dictionary\n",
    "dfs['PCE_data'] = PCE_data\n",
    "\n",
    "dfs.keys()"
   ]
  },
  {
   "cell_type": "markdown",
   "id": "standing-array",
   "metadata": {},
   "source": [
    "<br>\n",
    "\n",
    "#### Data Summary"
   ]
  },
  {
   "cell_type": "code",
   "execution_count": 7,
   "id": "colored-validity",
   "metadata": {
    "tags": [
     "hide-input"
    ]
   },
   "outputs": [
    {
     "name": "stdout",
     "output_type": "stream",
     "text": [
      "\n",
      "SUMMARY STATISTICS WITHOUT AGGREGATION: loan_data \n",
      "\n"
     ]
    },
    {
     "data": {
      "text/html": [
       "<div>\n",
       "<style scoped>\n",
       "    .dataframe tbody tr th:only-of-type {\n",
       "        vertical-align: middle;\n",
       "    }\n",
       "\n",
       "    .dataframe tbody tr th {\n",
       "        vertical-align: top;\n",
       "    }\n",
       "\n",
       "    .dataframe thead th {\n",
       "        text-align: right;\n",
       "    }\n",
       "</style>\n",
       "<table border=\"1\" class=\"dataframe\">\n",
       "  <thead>\n",
       "    <tr style=\"text-align: right;\">\n",
       "      <th></th>\n",
       "      <th>id</th>\n",
       "      <th>funded_amount</th>\n",
       "      <th>loan_amount</th>\n",
       "      <th>partner_id</th>\n",
       "      <th>term_in_months</th>\n",
       "      <th>lender_count</th>\n",
       "    </tr>\n",
       "  </thead>\n",
       "  <tbody>\n",
       "    <tr>\n",
       "      <th>count</th>\n",
       "      <td>6.712050e+05</td>\n",
       "      <td>671205.000000</td>\n",
       "      <td>671205.000000</td>\n",
       "      <td>657698.000000</td>\n",
       "      <td>671205.000000</td>\n",
       "      <td>671205.000000</td>\n",
       "    </tr>\n",
       "    <tr>\n",
       "      <th>mean</th>\n",
       "      <td>9.932486e+05</td>\n",
       "      <td>785.995061</td>\n",
       "      <td>842.397107</td>\n",
       "      <td>178.199616</td>\n",
       "      <td>13.739022</td>\n",
       "      <td>20.590922</td>\n",
       "    </tr>\n",
       "    <tr>\n",
       "      <th>std</th>\n",
       "      <td>1.966113e+05</td>\n",
       "      <td>1130.398941</td>\n",
       "      <td>1198.660073</td>\n",
       "      <td>94.247581</td>\n",
       "      <td>8.598919</td>\n",
       "      <td>28.459551</td>\n",
       "    </tr>\n",
       "    <tr>\n",
       "      <th>min</th>\n",
       "      <td>6.530470e+05</td>\n",
       "      <td>0.000000</td>\n",
       "      <td>25.000000</td>\n",
       "      <td>9.000000</td>\n",
       "      <td>1.000000</td>\n",
       "      <td>0.000000</td>\n",
       "    </tr>\n",
       "    <tr>\n",
       "      <th>25%</th>\n",
       "      <td>8.230720e+05</td>\n",
       "      <td>250.000000</td>\n",
       "      <td>275.000000</td>\n",
       "      <td>126.000000</td>\n",
       "      <td>8.000000</td>\n",
       "      <td>7.000000</td>\n",
       "    </tr>\n",
       "    <tr>\n",
       "      <th>50%</th>\n",
       "      <td>9.927800e+05</td>\n",
       "      <td>450.000000</td>\n",
       "      <td>500.000000</td>\n",
       "      <td>145.000000</td>\n",
       "      <td>13.000000</td>\n",
       "      <td>13.000000</td>\n",
       "    </tr>\n",
       "    <tr>\n",
       "      <th>75%</th>\n",
       "      <td>1.163653e+06</td>\n",
       "      <td>900.000000</td>\n",
       "      <td>1000.000000</td>\n",
       "      <td>204.000000</td>\n",
       "      <td>14.000000</td>\n",
       "      <td>24.000000</td>\n",
       "    </tr>\n",
       "    <tr>\n",
       "      <th>max</th>\n",
       "      <td>1.340339e+06</td>\n",
       "      <td>100000.000000</td>\n",
       "      <td>100000.000000</td>\n",
       "      <td>536.000000</td>\n",
       "      <td>158.000000</td>\n",
       "      <td>2986.000000</td>\n",
       "    </tr>\n",
       "  </tbody>\n",
       "</table>\n",
       "</div>"
      ],
      "text/plain": [
       "                 id  funded_amount    loan_amount     partner_id  \\\n",
       "count  6.712050e+05  671205.000000  671205.000000  657698.000000   \n",
       "mean   9.932486e+05     785.995061     842.397107     178.199616   \n",
       "std    1.966113e+05    1130.398941    1198.660073      94.247581   \n",
       "min    6.530470e+05       0.000000      25.000000       9.000000   \n",
       "25%    8.230720e+05     250.000000     275.000000     126.000000   \n",
       "50%    9.927800e+05     450.000000     500.000000     145.000000   \n",
       "75%    1.163653e+06     900.000000    1000.000000     204.000000   \n",
       "max    1.340339e+06  100000.000000  100000.000000     536.000000   \n",
       "\n",
       "       term_in_months   lender_count  \n",
       "count   671205.000000  671205.000000  \n",
       "mean        13.739022      20.590922  \n",
       "std          8.598919      28.459551  \n",
       "min          1.000000       0.000000  \n",
       "25%          8.000000       7.000000  \n",
       "50%         13.000000      13.000000  \n",
       "75%         14.000000      24.000000  \n",
       "max        158.000000    2986.000000  "
      ]
     },
     "metadata": {},
     "output_type": "display_data"
    },
    {
     "name": "stdout",
     "output_type": "stream",
     "text": [
      "\n",
      "\n"
     ]
    },
    {
     "data": {
      "text/html": [
       "<div>\n",
       "<style scoped>\n",
       "    .dataframe tbody tr th:only-of-type {\n",
       "        vertical-align: middle;\n",
       "    }\n",
       "\n",
       "    .dataframe tbody tr th {\n",
       "        vertical-align: top;\n",
       "    }\n",
       "\n",
       "    .dataframe thead th {\n",
       "        text-align: right;\n",
       "    }\n",
       "</style>\n",
       "<table border=\"1\" class=\"dataframe\">\n",
       "  <thead>\n",
       "    <tr style=\"text-align: right;\">\n",
       "      <th></th>\n",
       "      <th>activity</th>\n",
       "      <th>sector</th>\n",
       "      <th>use</th>\n",
       "      <th>country_code</th>\n",
       "      <th>country</th>\n",
       "      <th>region</th>\n",
       "      <th>currency</th>\n",
       "      <th>posted_time</th>\n",
       "      <th>disbursed_time</th>\n",
       "      <th>funded_time</th>\n",
       "      <th>tags</th>\n",
       "      <th>borrower_genders</th>\n",
       "      <th>repayment_interval</th>\n",
       "      <th>date</th>\n",
       "    </tr>\n",
       "  </thead>\n",
       "  <tbody>\n",
       "    <tr>\n",
       "      <th>count</th>\n",
       "      <td>671205</td>\n",
       "      <td>671205</td>\n",
       "      <td>666973</td>\n",
       "      <td>671197</td>\n",
       "      <td>671205</td>\n",
       "      <td>614405</td>\n",
       "      <td>671205</td>\n",
       "      <td>671205</td>\n",
       "      <td>668809</td>\n",
       "      <td>622874</td>\n",
       "      <td>499789</td>\n",
       "      <td>666984</td>\n",
       "      <td>671205</td>\n",
       "      <td>671205</td>\n",
       "    </tr>\n",
       "    <tr>\n",
       "      <th>unique</th>\n",
       "      <td>163</td>\n",
       "      <td>15</td>\n",
       "      <td>424912</td>\n",
       "      <td>86</td>\n",
       "      <td>87</td>\n",
       "      <td>12695</td>\n",
       "      <td>67</td>\n",
       "      <td>667399</td>\n",
       "      <td>5719</td>\n",
       "      <td>498007</td>\n",
       "      <td>86719</td>\n",
       "      <td>11298</td>\n",
       "      <td>4</td>\n",
       "      <td>1298</td>\n",
       "    </tr>\n",
       "    <tr>\n",
       "      <th>top</th>\n",
       "      <td>Farming</td>\n",
       "      <td>Agriculture</td>\n",
       "      <td>to buy a water filter to provide safe drinking...</td>\n",
       "      <td>PH</td>\n",
       "      <td>Philippines</td>\n",
       "      <td>Kaduna</td>\n",
       "      <td>PHP</td>\n",
       "      <td>2017-05-15 00:00:00+00:00</td>\n",
       "      <td>2017-02-01 08:00:00+00:00</td>\n",
       "      <td>2016-09-21 13:03:24+00:00</td>\n",
       "      <td>user_favorite</td>\n",
       "      <td>female</td>\n",
       "      <td>monthly</td>\n",
       "      <td>2017-03-20</td>\n",
       "    </tr>\n",
       "    <tr>\n",
       "      <th>freq</th>\n",
       "      <td>72955</td>\n",
       "      <td>180302</td>\n",
       "      <td>5217</td>\n",
       "      <td>160441</td>\n",
       "      <td>160441</td>\n",
       "      <td>10000</td>\n",
       "      <td>160440</td>\n",
       "      <td>25</td>\n",
       "      <td>2800</td>\n",
       "      <td>33</td>\n",
       "      <td>27088</td>\n",
       "      <td>426502</td>\n",
       "      <td>342717</td>\n",
       "      <td>1308</td>\n",
       "    </tr>\n",
       "  </tbody>\n",
       "</table>\n",
       "</div>"
      ],
      "text/plain": [
       "       activity       sector  \\\n",
       "count    671205       671205   \n",
       "unique      163           15   \n",
       "top     Farming  Agriculture   \n",
       "freq      72955       180302   \n",
       "\n",
       "                                                      use country_code  \\\n",
       "count                                              666973       671197   \n",
       "unique                                             424912           86   \n",
       "top     to buy a water filter to provide safe drinking...           PH   \n",
       "freq                                                 5217       160441   \n",
       "\n",
       "            country  region currency                posted_time  \\\n",
       "count        671205  614405   671205                     671205   \n",
       "unique           87   12695       67                     667399   \n",
       "top     Philippines  Kaduna      PHP  2017-05-15 00:00:00+00:00   \n",
       "freq         160441   10000   160440                         25   \n",
       "\n",
       "                   disbursed_time                funded_time           tags  \\\n",
       "count                      668809                     622874         499789   \n",
       "unique                       5719                     498007          86719   \n",
       "top     2017-02-01 08:00:00+00:00  2016-09-21 13:03:24+00:00  user_favorite   \n",
       "freq                         2800                         33          27088   \n",
       "\n",
       "       borrower_genders repayment_interval        date  \n",
       "count            666984             671205      671205  \n",
       "unique            11298                  4        1298  \n",
       "top              female            monthly  2017-03-20  \n",
       "freq             426502             342717        1308  "
      ]
     },
     "metadata": {},
     "output_type": "display_data"
    },
    {
     "name": "stdout",
     "output_type": "stream",
     "text": [
      "\n",
      "\n",
      "\n",
      "SUMMARY STATISTICS WITHOUT AGGREGATION: location_data \n",
      "\n"
     ]
    },
    {
     "data": {
      "text/html": [
       "<div>\n",
       "<style scoped>\n",
       "    .dataframe tbody tr th:only-of-type {\n",
       "        vertical-align: middle;\n",
       "    }\n",
       "\n",
       "    .dataframe tbody tr th {\n",
       "        vertical-align: top;\n",
       "    }\n",
       "\n",
       "    .dataframe thead th {\n",
       "        text-align: right;\n",
       "    }\n",
       "</style>\n",
       "<table border=\"1\" class=\"dataframe\">\n",
       "  <thead>\n",
       "    <tr style=\"text-align: right;\">\n",
       "      <th></th>\n",
       "      <th>MPI</th>\n",
       "      <th>lat</th>\n",
       "      <th>lon</th>\n",
       "    </tr>\n",
       "  </thead>\n",
       "  <tbody>\n",
       "    <tr>\n",
       "      <th>count</th>\n",
       "      <td>984.000000</td>\n",
       "      <td>892.000000</td>\n",
       "      <td>892.000000</td>\n",
       "    </tr>\n",
       "    <tr>\n",
       "      <th>mean</th>\n",
       "      <td>0.211330</td>\n",
       "      <td>9.169710</td>\n",
       "      <td>16.635888</td>\n",
       "    </tr>\n",
       "    <tr>\n",
       "      <th>std</th>\n",
       "      <td>0.183621</td>\n",
       "      <td>16.484531</td>\n",
       "      <td>61.234566</td>\n",
       "    </tr>\n",
       "    <tr>\n",
       "      <th>min</th>\n",
       "      <td>0.000000</td>\n",
       "      <td>-34.947896</td>\n",
       "      <td>-122.747131</td>\n",
       "    </tr>\n",
       "    <tr>\n",
       "      <th>25%</th>\n",
       "      <td>0.053000</td>\n",
       "      <td>-1.027901</td>\n",
       "      <td>-12.819854</td>\n",
       "    </tr>\n",
       "    <tr>\n",
       "      <th>50%</th>\n",
       "      <td>0.155000</td>\n",
       "      <td>11.211379</td>\n",
       "      <td>26.419389</td>\n",
       "    </tr>\n",
       "    <tr>\n",
       "      <th>75%</th>\n",
       "      <td>0.341500</td>\n",
       "      <td>18.084292</td>\n",
       "      <td>47.019436</td>\n",
       "    </tr>\n",
       "    <tr>\n",
       "      <th>max</th>\n",
       "      <td>0.744000</td>\n",
       "      <td>49.264748</td>\n",
       "      <td>138.581284</td>\n",
       "    </tr>\n",
       "  </tbody>\n",
       "</table>\n",
       "</div>"
      ],
      "text/plain": [
       "              MPI         lat         lon\n",
       "count  984.000000  892.000000  892.000000\n",
       "mean     0.211330    9.169710   16.635888\n",
       "std      0.183621   16.484531   61.234566\n",
       "min      0.000000  -34.947896 -122.747131\n",
       "25%      0.053000   -1.027901  -12.819854\n",
       "50%      0.155000   11.211379   26.419389\n",
       "75%      0.341500   18.084292   47.019436\n",
       "max      0.744000   49.264748  138.581284"
      ]
     },
     "metadata": {},
     "output_type": "display_data"
    },
    {
     "name": "stdout",
     "output_type": "stream",
     "text": [
      "\n",
      "\n"
     ]
    },
    {
     "data": {
      "text/html": [
       "<div>\n",
       "<style scoped>\n",
       "    .dataframe tbody tr th:only-of-type {\n",
       "        vertical-align: middle;\n",
       "    }\n",
       "\n",
       "    .dataframe tbody tr th {\n",
       "        vertical-align: top;\n",
       "    }\n",
       "\n",
       "    .dataframe thead th {\n",
       "        text-align: right;\n",
       "    }\n",
       "</style>\n",
       "<table border=\"1\" class=\"dataframe\">\n",
       "  <thead>\n",
       "    <tr style=\"text-align: right;\">\n",
       "      <th></th>\n",
       "      <th>LocationName</th>\n",
       "      <th>ISO</th>\n",
       "      <th>country</th>\n",
       "      <th>region</th>\n",
       "      <th>world_region</th>\n",
       "      <th>geo</th>\n",
       "    </tr>\n",
       "  </thead>\n",
       "  <tbody>\n",
       "    <tr>\n",
       "      <th>count</th>\n",
       "      <td>984</td>\n",
       "      <td>1008</td>\n",
       "      <td>1008</td>\n",
       "      <td>984</td>\n",
       "      <td>1008</td>\n",
       "      <td>2772</td>\n",
       "    </tr>\n",
       "    <tr>\n",
       "      <th>unique</th>\n",
       "      <td>984</td>\n",
       "      <td>102</td>\n",
       "      <td>102</td>\n",
       "      <td>928</td>\n",
       "      <td>6</td>\n",
       "      <td>881</td>\n",
       "    </tr>\n",
       "    <tr>\n",
       "      <th>top</th>\n",
       "      <td>Bombali, Sierra Leone</td>\n",
       "      <td>NGA</td>\n",
       "      <td>Nigeria</td>\n",
       "      <td>Eastern</td>\n",
       "      <td>Sub-Saharan Africa</td>\n",
       "      <td>(1000.0, 1000.0)</td>\n",
       "    </tr>\n",
       "    <tr>\n",
       "      <th>freq</th>\n",
       "      <td>1</td>\n",
       "      <td>37</td>\n",
       "      <td>37</td>\n",
       "      <td>8</td>\n",
       "      <td>432</td>\n",
       "      <td>1880</td>\n",
       "    </tr>\n",
       "  </tbody>\n",
       "</table>\n",
       "</div>"
      ],
      "text/plain": [
       "                 LocationName   ISO  country   region        world_region  \\\n",
       "count                     984  1008     1008      984                1008   \n",
       "unique                    984   102      102      928                   6   \n",
       "top     Bombali, Sierra Leone   NGA  Nigeria  Eastern  Sub-Saharan Africa   \n",
       "freq                        1    37       37        8                 432   \n",
       "\n",
       "                     geo  \n",
       "count               2772  \n",
       "unique               881  \n",
       "top     (1000.0, 1000.0)  \n",
       "freq                1880  "
      ]
     },
     "metadata": {},
     "output_type": "display_data"
    },
    {
     "name": "stdout",
     "output_type": "stream",
     "text": [
      "\n",
      "\n",
      "\n",
      "SUMMARY STATISTICS WITHOUT AGGREGATION: loan_themes \n",
      "\n"
     ]
    },
    {
     "data": {
      "text/html": [
       "<div>\n",
       "<style scoped>\n",
       "    .dataframe tbody tr th:only-of-type {\n",
       "        vertical-align: middle;\n",
       "    }\n",
       "\n",
       "    .dataframe tbody tr th {\n",
       "        vertical-align: top;\n",
       "    }\n",
       "\n",
       "    .dataframe thead th {\n",
       "        text-align: right;\n",
       "    }\n",
       "</style>\n",
       "<table border=\"1\" class=\"dataframe\">\n",
       "  <thead>\n",
       "    <tr style=\"text-align: right;\">\n",
       "      <th></th>\n",
       "      <th>id</th>\n",
       "      <th>Partner ID</th>\n",
       "    </tr>\n",
       "  </thead>\n",
       "  <tbody>\n",
       "    <tr>\n",
       "      <th>count</th>\n",
       "      <td>7.790920e+05</td>\n",
       "      <td>764279.000000</td>\n",
       "    </tr>\n",
       "    <tr>\n",
       "      <th>mean</th>\n",
       "      <td>1.047475e+06</td>\n",
       "      <td>180.825840</td>\n",
       "    </tr>\n",
       "    <tr>\n",
       "      <th>std</th>\n",
       "      <td>2.282538e+05</td>\n",
       "      <td>97.914029</td>\n",
       "    </tr>\n",
       "    <tr>\n",
       "      <th>min</th>\n",
       "      <td>6.386310e+05</td>\n",
       "      <td>9.000000</td>\n",
       "    </tr>\n",
       "    <tr>\n",
       "      <th>25%</th>\n",
       "      <td>8.499768e+05</td>\n",
       "      <td>126.000000</td>\n",
       "    </tr>\n",
       "    <tr>\n",
       "      <th>50%</th>\n",
       "      <td>1.046528e+06</td>\n",
       "      <td>145.000000</td>\n",
       "    </tr>\n",
       "    <tr>\n",
       "      <th>75%</th>\n",
       "      <td>1.244768e+06</td>\n",
       "      <td>204.000000</td>\n",
       "    </tr>\n",
       "    <tr>\n",
       "      <th>max</th>\n",
       "      <td>1.444243e+06</td>\n",
       "      <td>557.000000</td>\n",
       "    </tr>\n",
       "  </tbody>\n",
       "</table>\n",
       "</div>"
      ],
      "text/plain": [
       "                 id     Partner ID\n",
       "count  7.790920e+05  764279.000000\n",
       "mean   1.047475e+06     180.825840\n",
       "std    2.282538e+05      97.914029\n",
       "min    6.386310e+05       9.000000\n",
       "25%    8.499768e+05     126.000000\n",
       "50%    1.046528e+06     145.000000\n",
       "75%    1.244768e+06     204.000000\n",
       "max    1.444243e+06     557.000000"
      ]
     },
     "metadata": {},
     "output_type": "display_data"
    },
    {
     "name": "stdout",
     "output_type": "stream",
     "text": [
      "\n",
      "\n"
     ]
    },
    {
     "data": {
      "text/html": [
       "<div>\n",
       "<style scoped>\n",
       "    .dataframe tbody tr th:only-of-type {\n",
       "        vertical-align: middle;\n",
       "    }\n",
       "\n",
       "    .dataframe tbody tr th {\n",
       "        vertical-align: top;\n",
       "    }\n",
       "\n",
       "    .dataframe thead th {\n",
       "        text-align: right;\n",
       "    }\n",
       "</style>\n",
       "<table border=\"1\" class=\"dataframe\">\n",
       "  <thead>\n",
       "    <tr style=\"text-align: right;\">\n",
       "      <th></th>\n",
       "      <th>Loan Theme ID</th>\n",
       "      <th>Loan Theme Type</th>\n",
       "    </tr>\n",
       "  </thead>\n",
       "  <tbody>\n",
       "    <tr>\n",
       "      <th>count</th>\n",
       "      <td>764279</td>\n",
       "      <td>764279</td>\n",
       "    </tr>\n",
       "    <tr>\n",
       "      <th>unique</th>\n",
       "      <td>956</td>\n",
       "      <td>203</td>\n",
       "    </tr>\n",
       "    <tr>\n",
       "      <th>top</th>\n",
       "      <td>a1050000000wf0q</td>\n",
       "      <td>General</td>\n",
       "    </tr>\n",
       "    <tr>\n",
       "      <th>freq</th>\n",
       "      <td>110264</td>\n",
       "      <td>380693</td>\n",
       "    </tr>\n",
       "  </tbody>\n",
       "</table>\n",
       "</div>"
      ],
      "text/plain": [
       "          Loan Theme ID Loan Theme Type\n",
       "count            764279          764279\n",
       "unique              956             203\n",
       "top     a1050000000wf0q         General\n",
       "freq             110264          380693"
      ]
     },
     "metadata": {},
     "output_type": "display_data"
    },
    {
     "name": "stdout",
     "output_type": "stream",
     "text": [
      "\n",
      "\n",
      "\n",
      "SUMMARY STATISTICS WITHOUT AGGREGATION: regional_lts \n",
      "\n"
     ]
    },
    {
     "data": {
      "text/html": [
       "<div>\n",
       "<style scoped>\n",
       "    .dataframe tbody tr th:only-of-type {\n",
       "        vertical-align: middle;\n",
       "    }\n",
       "\n",
       "    .dataframe tbody tr th {\n",
       "        vertical-align: top;\n",
       "    }\n",
       "\n",
       "    .dataframe thead th {\n",
       "        text-align: right;\n",
       "    }\n",
       "</style>\n",
       "<table border=\"1\" class=\"dataframe\">\n",
       "  <thead>\n",
       "    <tr style=\"text-align: right;\">\n",
       "      <th></th>\n",
       "      <th>Partner ID</th>\n",
       "      <th>number</th>\n",
       "      <th>amount</th>\n",
       "      <th>lat</th>\n",
       "      <th>lon</th>\n",
       "      <th>rural_pct</th>\n",
       "    </tr>\n",
       "  </thead>\n",
       "  <tbody>\n",
       "    <tr>\n",
       "      <th>count</th>\n",
       "      <td>15736.000000</td>\n",
       "      <td>15736.000000</td>\n",
       "      <td>1.573600e+04</td>\n",
       "      <td>13662.000000</td>\n",
       "      <td>13662.000000</td>\n",
       "      <td>14344.000000</td>\n",
       "    </tr>\n",
       "    <tr>\n",
       "      <th>mean</th>\n",
       "      <td>191.376144</td>\n",
       "      <td>53.628432</td>\n",
       "      <td>2.003991e+04</td>\n",
       "      <td>14.328878</td>\n",
       "      <td>29.433569</td>\n",
       "      <td>68.084635</td>\n",
       "    </tr>\n",
       "    <tr>\n",
       "      <th>std</th>\n",
       "      <td>118.705003</td>\n",
       "      <td>403.079799</td>\n",
       "      <td>9.636941e+04</td>\n",
       "      <td>16.757689</td>\n",
       "      <td>83.255739</td>\n",
       "      <td>26.550064</td>\n",
       "    </tr>\n",
       "    <tr>\n",
       "      <th>min</th>\n",
       "      <td>9.000000</td>\n",
       "      <td>1.000000</td>\n",
       "      <td>2.500000e+01</td>\n",
       "      <td>-34.610548</td>\n",
       "      <td>-172.790661</td>\n",
       "      <td>0.000000</td>\n",
       "    </tr>\n",
       "    <tr>\n",
       "      <th>25%</th>\n",
       "      <td>123.000000</td>\n",
       "      <td>1.000000</td>\n",
       "      <td>9.500000e+02</td>\n",
       "      <td>6.266728</td>\n",
       "      <td>-71.967463</td>\n",
       "      <td>60.000000</td>\n",
       "    </tr>\n",
       "    <tr>\n",
       "      <th>50%</th>\n",
       "      <td>154.000000</td>\n",
       "      <td>4.000000</td>\n",
       "      <td>2.600000e+03</td>\n",
       "      <td>13.484101</td>\n",
       "      <td>41.899993</td>\n",
       "      <td>73.000000</td>\n",
       "    </tr>\n",
       "    <tr>\n",
       "      <th>75%</th>\n",
       "      <td>217.000000</td>\n",
       "      <td>15.000000</td>\n",
       "      <td>8.750000e+03</td>\n",
       "      <td>22.189940</td>\n",
       "      <td>106.677321</td>\n",
       "      <td>85.000000</td>\n",
       "    </tr>\n",
       "    <tr>\n",
       "      <th>max</th>\n",
       "      <td>545.000000</td>\n",
       "      <td>22538.000000</td>\n",
       "      <td>4.929900e+06</td>\n",
       "      <td>51.314017</td>\n",
       "      <td>159.972900</td>\n",
       "      <td>100.000000</td>\n",
       "    </tr>\n",
       "  </tbody>\n",
       "</table>\n",
       "</div>"
      ],
      "text/plain": [
       "         Partner ID        number        amount           lat           lon  \\\n",
       "count  15736.000000  15736.000000  1.573600e+04  13662.000000  13662.000000   \n",
       "mean     191.376144     53.628432  2.003991e+04     14.328878     29.433569   \n",
       "std      118.705003    403.079799  9.636941e+04     16.757689     83.255739   \n",
       "min        9.000000      1.000000  2.500000e+01    -34.610548   -172.790661   \n",
       "25%      123.000000      1.000000  9.500000e+02      6.266728    -71.967463   \n",
       "50%      154.000000      4.000000  2.600000e+03     13.484101     41.899993   \n",
       "75%      217.000000     15.000000  8.750000e+03     22.189940    106.677321   \n",
       "max      545.000000  22538.000000  4.929900e+06     51.314017    159.972900   \n",
       "\n",
       "          rural_pct  \n",
       "count  14344.000000  \n",
       "mean      68.084635  \n",
       "std       26.550064  \n",
       "min        0.000000  \n",
       "25%       60.000000  \n",
       "50%       73.000000  \n",
       "75%       85.000000  \n",
       "max      100.000000  "
      ]
     },
     "metadata": {},
     "output_type": "display_data"
    },
    {
     "name": "stdout",
     "output_type": "stream",
     "text": [
      "\n",
      "\n"
     ]
    },
    {
     "data": {
      "text/html": [
       "<div>\n",
       "<style scoped>\n",
       "    .dataframe tbody tr th:only-of-type {\n",
       "        vertical-align: middle;\n",
       "    }\n",
       "\n",
       "    .dataframe tbody tr th {\n",
       "        vertical-align: top;\n",
       "    }\n",
       "\n",
       "    .dataframe thead th {\n",
       "        text-align: right;\n",
       "    }\n",
       "</style>\n",
       "<table border=\"1\" class=\"dataframe\">\n",
       "  <thead>\n",
       "    <tr style=\"text-align: right;\">\n",
       "      <th></th>\n",
       "      <th>Field Partner Name</th>\n",
       "      <th>sector</th>\n",
       "      <th>Loan Theme ID</th>\n",
       "      <th>Loan Theme Type</th>\n",
       "      <th>country</th>\n",
       "      <th>forkiva</th>\n",
       "      <th>region</th>\n",
       "      <th>geocode_old</th>\n",
       "      <th>ISO</th>\n",
       "      <th>LocationName</th>\n",
       "      <th>geocode</th>\n",
       "      <th>names</th>\n",
       "      <th>geo</th>\n",
       "      <th>mpi_region</th>\n",
       "      <th>mpi_geo</th>\n",
       "    </tr>\n",
       "  </thead>\n",
       "  <tbody>\n",
       "    <tr>\n",
       "      <th>count</th>\n",
       "      <td>15736</td>\n",
       "      <td>15736</td>\n",
       "      <td>15736</td>\n",
       "      <td>15736</td>\n",
       "      <td>15736</td>\n",
       "      <td>15736</td>\n",
       "      <td>15736</td>\n",
       "      <td>1200</td>\n",
       "      <td>15722</td>\n",
       "      <td>15736</td>\n",
       "      <td>13662</td>\n",
       "      <td>13661</td>\n",
       "      <td>15736</td>\n",
       "      <td>15722</td>\n",
       "      <td>9671</td>\n",
       "    </tr>\n",
       "    <tr>\n",
       "      <th>unique</th>\n",
       "      <td>302</td>\n",
       "      <td>11</td>\n",
       "      <td>718</td>\n",
       "      <td>170</td>\n",
       "      <td>79</td>\n",
       "      <td>2</td>\n",
       "      <td>9526</td>\n",
       "      <td>340</td>\n",
       "      <td>77</td>\n",
       "      <td>9561</td>\n",
       "      <td>6557</td>\n",
       "      <td>6275</td>\n",
       "      <td>6558</td>\n",
       "      <td>392</td>\n",
       "      <td>335</td>\n",
       "    </tr>\n",
       "    <tr>\n",
       "      <th>top</th>\n",
       "      <td>Alalay sa Kaunlaran (ASKI)</td>\n",
       "      <td>General Financial Inclusion</td>\n",
       "      <td>a1050000000wf0V</td>\n",
       "      <td>General</td>\n",
       "      <td>Philippines</td>\n",
       "      <td>No</td>\n",
       "      <td>Chouf</td>\n",
       "      <td>(-1.2833333, 36.8166667)</td>\n",
       "      <td>PHL</td>\n",
       "      <td>Chouf, Lebanon</td>\n",
       "      <td>[(19.7126764, 105.8393447)]</td>\n",
       "      <td>Philippines</td>\n",
       "      <td>(1000.0, 1000.0)</td>\n",
       "      <td>Northern Mindanao, Philippines</td>\n",
       "      <td>(8.020163499999999, 124.6856509)</td>\n",
       "    </tr>\n",
       "    <tr>\n",
       "      <th>freq</th>\n",
       "      <td>1207</td>\n",
       "      <td>13679</td>\n",
       "      <td>1152</td>\n",
       "      <td>5661</td>\n",
       "      <td>3467</td>\n",
       "      <td>13211</td>\n",
       "      <td>25</td>\n",
       "      <td>20</td>\n",
       "      <td>3467</td>\n",
       "      <td>25</td>\n",
       "      <td>43</td>\n",
       "      <td>137</td>\n",
       "      <td>2074</td>\n",
       "      <td>1174</td>\n",
       "      <td>1174</td>\n",
       "    </tr>\n",
       "  </tbody>\n",
       "</table>\n",
       "</div>"
      ],
      "text/plain": [
       "                Field Partner Name                       sector  \\\n",
       "count                        15736                        15736   \n",
       "unique                         302                           11   \n",
       "top     Alalay sa Kaunlaran (ASKI)  General Financial Inclusion   \n",
       "freq                          1207                        13679   \n",
       "\n",
       "          Loan Theme ID Loan Theme Type      country forkiva region  \\\n",
       "count             15736           15736        15736   15736  15736   \n",
       "unique              718             170           79       2   9526   \n",
       "top     a1050000000wf0V         General  Philippines      No  Chouf   \n",
       "freq               1152            5661         3467   13211     25   \n",
       "\n",
       "                     geocode_old    ISO    LocationName  \\\n",
       "count                       1200  15722           15736   \n",
       "unique                       340     77            9561   \n",
       "top     (-1.2833333, 36.8166667)    PHL  Chouf, Lebanon   \n",
       "freq                          20   3467              25   \n",
       "\n",
       "                            geocode        names               geo  \\\n",
       "count                         13662        13661             15736   \n",
       "unique                         6557         6275              6558   \n",
       "top     [(19.7126764, 105.8393447)]  Philippines  (1000.0, 1000.0)   \n",
       "freq                             43          137              2074   \n",
       "\n",
       "                            mpi_region                           mpi_geo  \n",
       "count                            15722                              9671  \n",
       "unique                             392                               335  \n",
       "top     Northern Mindanao, Philippines  (8.020163499999999, 124.6856509)  \n",
       "freq                              1174                              1174  "
      ]
     },
     "metadata": {},
     "output_type": "display_data"
    },
    {
     "name": "stdout",
     "output_type": "stream",
     "text": [
      "\n",
      "\n",
      "\n",
      "SUMMARY STATISTICS WITHOUT AGGREGATION: PCE_data \n",
      "\n"
     ]
    },
    {
     "data": {
      "text/html": [
       "<div>\n",
       "<style scoped>\n",
       "    .dataframe tbody tr th:only-of-type {\n",
       "        vertical-align: middle;\n",
       "    }\n",
       "\n",
       "    .dataframe tbody tr th {\n",
       "        vertical-align: top;\n",
       "    }\n",
       "\n",
       "    .dataframe thead th {\n",
       "        text-align: right;\n",
       "    }\n",
       "</style>\n",
       "<table border=\"1\" class=\"dataframe\">\n",
       "  <thead>\n",
       "    <tr style=\"text-align: right;\">\n",
       "      <th></th>\n",
       "      <th>Country</th>\n",
       "      <th>1960</th>\n",
       "      <th>1961</th>\n",
       "      <th>1962</th>\n",
       "      <th>1963</th>\n",
       "      <th>1964</th>\n",
       "      <th>1965</th>\n",
       "      <th>1966</th>\n",
       "      <th>1967</th>\n",
       "      <th>1968</th>\n",
       "      <th>...</th>\n",
       "      <th>2010</th>\n",
       "      <th>2011</th>\n",
       "      <th>2012</th>\n",
       "      <th>2013</th>\n",
       "      <th>2014</th>\n",
       "      <th>2015</th>\n",
       "      <th>2016</th>\n",
       "      <th>2017</th>\n",
       "      <th>2018</th>\n",
       "      <th>2019</th>\n",
       "    </tr>\n",
       "  </thead>\n",
       "  <tbody>\n",
       "    <tr>\n",
       "      <th>count</th>\n",
       "      <td>185</td>\n",
       "      <td>43</td>\n",
       "      <td>44</td>\n",
       "      <td>45</td>\n",
       "      <td>45</td>\n",
       "      <td>47</td>\n",
       "      <td>50</td>\n",
       "      <td>51</td>\n",
       "      <td>52</td>\n",
       "      <td>52</td>\n",
       "      <td>...</td>\n",
       "      <td>178</td>\n",
       "      <td>164</td>\n",
       "      <td>163</td>\n",
       "      <td>162</td>\n",
       "      <td>160</td>\n",
       "      <td>158</td>\n",
       "      <td>157</td>\n",
       "      <td>156</td>\n",
       "      <td>152</td>\n",
       "      <td>137</td>\n",
       "    </tr>\n",
       "    <tr>\n",
       "      <th>unique</th>\n",
       "      <td>185</td>\n",
       "      <td>43</td>\n",
       "      <td>44</td>\n",
       "      <td>45</td>\n",
       "      <td>45</td>\n",
       "      <td>47</td>\n",
       "      <td>50</td>\n",
       "      <td>51</td>\n",
       "      <td>52</td>\n",
       "      <td>52</td>\n",
       "      <td>...</td>\n",
       "      <td>178</td>\n",
       "      <td>164</td>\n",
       "      <td>163</td>\n",
       "      <td>162</td>\n",
       "      <td>160</td>\n",
       "      <td>158</td>\n",
       "      <td>157</td>\n",
       "      <td>156</td>\n",
       "      <td>152</td>\n",
       "      <td>137</td>\n",
       "    </tr>\n",
       "    <tr>\n",
       "      <th>top</th>\n",
       "      <td>Portugal</td>\n",
       "      <td>358.28</td>\n",
       "      <td>694.83</td>\n",
       "      <td>4,162.15</td>\n",
       "      <td>1,022.73</td>\n",
       "      <td>734.25</td>\n",
       "      <td>12,299.20</td>\n",
       "      <td>782.56</td>\n",
       "      <td>577.19</td>\n",
       "      <td>3,813.85</td>\n",
       "      <td>...</td>\n",
       "      <td>1,890.92</td>\n",
       "      <td>1,257.63</td>\n",
       "      <td>2,851.80</td>\n",
       "      <td>563.96</td>\n",
       "      <td>9,436.84</td>\n",
       "      <td>39,584.00</td>\n",
       "      <td>19,181.30</td>\n",
       "      <td>9,555.73</td>\n",
       "      <td>2,877.38</td>\n",
       "      <td>1,413.68</td>\n",
       "    </tr>\n",
       "    <tr>\n",
       "      <th>freq</th>\n",
       "      <td>1</td>\n",
       "      <td>1</td>\n",
       "      <td>1</td>\n",
       "      <td>1</td>\n",
       "      <td>1</td>\n",
       "      <td>1</td>\n",
       "      <td>1</td>\n",
       "      <td>1</td>\n",
       "      <td>1</td>\n",
       "      <td>1</td>\n",
       "      <td>...</td>\n",
       "      <td>1</td>\n",
       "      <td>1</td>\n",
       "      <td>1</td>\n",
       "      <td>1</td>\n",
       "      <td>1</td>\n",
       "      <td>1</td>\n",
       "      <td>1</td>\n",
       "      <td>1</td>\n",
       "      <td>1</td>\n",
       "      <td>1</td>\n",
       "    </tr>\n",
       "  </tbody>\n",
       "</table>\n",
       "<p>4 rows × 61 columns</p>\n",
       "</div>"
      ],
      "text/plain": [
       "         Country    1960    1961      1962      1963    1964       1965  \\\n",
       "count        185      43      44        45        45      47         50   \n",
       "unique       185      43      44        45        45      47         50   \n",
       "top     Portugal  358.28  694.83  4,162.15  1,022.73  734.25  12,299.20   \n",
       "freq           1       1       1         1         1       1          1   \n",
       "\n",
       "          1966    1967      1968  ...      2010      2011      2012    2013  \\\n",
       "count       51      52        52  ...       178       164       163     162   \n",
       "unique      51      52        52  ...       178       164       163     162   \n",
       "top     782.56  577.19  3,813.85  ...  1,890.92  1,257.63  2,851.80  563.96   \n",
       "freq         1       1         1  ...         1         1         1       1   \n",
       "\n",
       "            2014       2015       2016      2017      2018      2019  \n",
       "count        160        158        157       156       152       137  \n",
       "unique       160        158        157       156       152       137  \n",
       "top     9,436.84  39,584.00  19,181.30  9,555.73  2,877.38  1,413.68  \n",
       "freq           1          1          1         1         1         1  \n",
       "\n",
       "[4 rows x 61 columns]"
      ]
     },
     "metadata": {},
     "output_type": "display_data"
    },
    {
     "name": "stdout",
     "output_type": "stream",
     "text": [
      "\n",
      "\n"
     ]
    },
    {
     "data": {
      "text/html": [
       "<div>\n",
       "<style scoped>\n",
       "    .dataframe tbody tr th:only-of-type {\n",
       "        vertical-align: middle;\n",
       "    }\n",
       "\n",
       "    .dataframe tbody tr th {\n",
       "        vertical-align: top;\n",
       "    }\n",
       "\n",
       "    .dataframe thead th {\n",
       "        text-align: right;\n",
       "    }\n",
       "</style>\n",
       "<table border=\"1\" class=\"dataframe\">\n",
       "  <thead>\n",
       "    <tr style=\"text-align: right;\">\n",
       "      <th></th>\n",
       "      <th>Country</th>\n",
       "      <th>1960</th>\n",
       "      <th>1961</th>\n",
       "      <th>1962</th>\n",
       "      <th>1963</th>\n",
       "      <th>1964</th>\n",
       "      <th>1965</th>\n",
       "      <th>1966</th>\n",
       "      <th>1967</th>\n",
       "      <th>1968</th>\n",
       "      <th>...</th>\n",
       "      <th>2010</th>\n",
       "      <th>2011</th>\n",
       "      <th>2012</th>\n",
       "      <th>2013</th>\n",
       "      <th>2014</th>\n",
       "      <th>2015</th>\n",
       "      <th>2016</th>\n",
       "      <th>2017</th>\n",
       "      <th>2018</th>\n",
       "      <th>2019</th>\n",
       "    </tr>\n",
       "  </thead>\n",
       "  <tbody>\n",
       "    <tr>\n",
       "      <th>count</th>\n",
       "      <td>185</td>\n",
       "      <td>43</td>\n",
       "      <td>44</td>\n",
       "      <td>45</td>\n",
       "      <td>45</td>\n",
       "      <td>47</td>\n",
       "      <td>50</td>\n",
       "      <td>51</td>\n",
       "      <td>52</td>\n",
       "      <td>52</td>\n",
       "      <td>...</td>\n",
       "      <td>178</td>\n",
       "      <td>164</td>\n",
       "      <td>163</td>\n",
       "      <td>162</td>\n",
       "      <td>160</td>\n",
       "      <td>158</td>\n",
       "      <td>157</td>\n",
       "      <td>156</td>\n",
       "      <td>152</td>\n",
       "      <td>137</td>\n",
       "    </tr>\n",
       "    <tr>\n",
       "      <th>unique</th>\n",
       "      <td>185</td>\n",
       "      <td>43</td>\n",
       "      <td>44</td>\n",
       "      <td>45</td>\n",
       "      <td>45</td>\n",
       "      <td>47</td>\n",
       "      <td>50</td>\n",
       "      <td>51</td>\n",
       "      <td>52</td>\n",
       "      <td>52</td>\n",
       "      <td>...</td>\n",
       "      <td>178</td>\n",
       "      <td>164</td>\n",
       "      <td>163</td>\n",
       "      <td>162</td>\n",
       "      <td>160</td>\n",
       "      <td>158</td>\n",
       "      <td>157</td>\n",
       "      <td>156</td>\n",
       "      <td>152</td>\n",
       "      <td>137</td>\n",
       "    </tr>\n",
       "    <tr>\n",
       "      <th>top</th>\n",
       "      <td>Portugal</td>\n",
       "      <td>358.28</td>\n",
       "      <td>694.83</td>\n",
       "      <td>4,162.15</td>\n",
       "      <td>1,022.73</td>\n",
       "      <td>734.25</td>\n",
       "      <td>12,299.20</td>\n",
       "      <td>782.56</td>\n",
       "      <td>577.19</td>\n",
       "      <td>3,813.85</td>\n",
       "      <td>...</td>\n",
       "      <td>1,890.92</td>\n",
       "      <td>1,257.63</td>\n",
       "      <td>2,851.80</td>\n",
       "      <td>563.96</td>\n",
       "      <td>9,436.84</td>\n",
       "      <td>39,584.00</td>\n",
       "      <td>19,181.30</td>\n",
       "      <td>9,555.73</td>\n",
       "      <td>2,877.38</td>\n",
       "      <td>1,413.68</td>\n",
       "    </tr>\n",
       "    <tr>\n",
       "      <th>freq</th>\n",
       "      <td>1</td>\n",
       "      <td>1</td>\n",
       "      <td>1</td>\n",
       "      <td>1</td>\n",
       "      <td>1</td>\n",
       "      <td>1</td>\n",
       "      <td>1</td>\n",
       "      <td>1</td>\n",
       "      <td>1</td>\n",
       "      <td>1</td>\n",
       "      <td>...</td>\n",
       "      <td>1</td>\n",
       "      <td>1</td>\n",
       "      <td>1</td>\n",
       "      <td>1</td>\n",
       "      <td>1</td>\n",
       "      <td>1</td>\n",
       "      <td>1</td>\n",
       "      <td>1</td>\n",
       "      <td>1</td>\n",
       "      <td>1</td>\n",
       "    </tr>\n",
       "  </tbody>\n",
       "</table>\n",
       "<p>4 rows × 61 columns</p>\n",
       "</div>"
      ],
      "text/plain": [
       "         Country    1960    1961      1962      1963    1964       1965  \\\n",
       "count        185      43      44        45        45      47         50   \n",
       "unique       185      43      44        45        45      47         50   \n",
       "top     Portugal  358.28  694.83  4,162.15  1,022.73  734.25  12,299.20   \n",
       "freq           1       1       1         1         1       1          1   \n",
       "\n",
       "          1966    1967      1968  ...      2010      2011      2012    2013  \\\n",
       "count       51      52        52  ...       178       164       163     162   \n",
       "unique      51      52        52  ...       178       164       163     162   \n",
       "top     782.56  577.19  3,813.85  ...  1,890.92  1,257.63  2,851.80  563.96   \n",
       "freq         1       1         1  ...         1         1         1       1   \n",
       "\n",
       "            2014       2015       2016      2017      2018      2019  \n",
       "count        160        158        157       156       152       137  \n",
       "unique       160        158        157       156       152       137  \n",
       "top     9,436.84  39,584.00  19,181.30  9,555.73  2,877.38  1,413.68  \n",
       "freq           1          1          1         1         1         1  \n",
       "\n",
       "[4 rows x 61 columns]"
      ]
     },
     "metadata": {},
     "output_type": "display_data"
    },
    {
     "name": "stdout",
     "output_type": "stream",
     "text": [
      "\n",
      "\n"
     ]
    }
   ],
   "source": [
    "for key, val in dfs.items():\n",
    "\n",
    "    # 1. Get the summary table\n",
    "    num_summary = val.describe()\n",
    "    cat_summary = val.loc[:,val.dtypes==np.object].describe(include=['O'])\n",
    "    \n",
    "    # 2. Display it\n",
    "\n",
    "    print('\\nSUMMARY STATISTICS WITHOUT AGGREGATION: {}'.format(key),'\\n')\n",
    "    \n",
    "    display(num_summary)\n",
    "    \n",
    "    print('\\n')\n",
    "    \n",
    "    display(cat_summary)\n",
    "    \n",
    "    print('\\n')"
   ]
  },
  {
   "cell_type": "markdown",
   "id": "dressed-pixel",
   "metadata": {},
   "source": [
    "### Exploratory Data Analysis\n",
    "\n",
    "#### The impact of KIVA donors\n",
    "\n",
    "In this section, we seek to explore the data to answer certain questions around KIVA donor contributions.\n",
    "\n",
    "<br>\n",
    "\n",
    "_**1. How much of the total loan amount has Kiva financed?**_"
   ]
  },
  {
   "cell_type": "code",
   "execution_count": 8,
   "id": "twenty-workshop",
   "metadata": {
    "tags": [
     "hide-input"
    ]
   },
   "outputs": [
    {
     "data": {
      "image/png": "[encoded data removed]",
      "text/plain": [
       "<Figure size 432x288 with 1 Axes>"
      ]
     },
     "metadata": {},
     "output_type": "display_data"
    }
   ],
   "source": [
    "# 1. Calculate the percentage of loan requests that have been funded\n",
    "percentage1 = (loan_data.funded_amount.sum()/loan_data.loan_amount.sum())*100\n",
    "percentage1 = round(percentage1, 2)\n",
    "\n",
    "# 2. Display the result\n",
    "status = ['Financed by KIVA','Not financed by KIVA']\n",
    "\n",
    "values = [percentage1, (100-percentage1)]\n",
    "\n",
    "fig1, ax1 = plt.subplots()\n",
    "\n",
    "ax1.pie(values, labels=status,\n",
    "        autopct='%1.2f%%',\n",
    "        startangle=90,\n",
    "        colors=np.array(['#7e81c4','#cbcce7']))\n",
    "\n",
    "ax1.axis('equal')  # Equal aspect ratio ensures that pie is drawn as a circle.\n",
    "\n",
    "plt.show()"
   ]
  },
  {
   "cell_type": "markdown",
   "id": "roman-vegetarian",
   "metadata": {},
   "source": [
    "<br>\n",
    "\n",
    "_**2. How much money have Kiva donors contributed over time?**_"
   ]
  },
  {
   "cell_type": "code",
   "execution_count": 9,
   "id": "focal-declaration",
   "metadata": {
    "tags": [
     "hide-input"
    ]
   },
   "outputs": [
    {
     "name": "stdout",
     "output_type": "stream",
     "text": [
      "\n",
      " DAILY CONTRIBUTIONS OF KIVA DONORS AS A COLLECTIVE\n"
     ]
    },
    {
     "data": {
      "image/png": "[encoded data removed]",
      "text/plain": [
       "<Figure size 432x288 with 1 Axes>"
      ]
     },
     "metadata": {
      "needs_background": "light"
     },
     "output_type": "display_data"
    }
   ],
   "source": [
    "print('\\n', 'DAILY CONTRIBUTIONS OF KIVA DONORS AS A COLLECTIVE')\n",
    "\n",
    "# convert datetime values to appropriate formats\n",
    "loan_data['posted_time'] = loan_data['posted_time'].astype('datetime64')\n",
    "loan_data['disbursed_time'] = loan_data['disbursed_time'].astype('datetime64')\n",
    "loan_data['funded_time'] = loan_data['funded_time'].astype('datetime64')\n",
    "\n",
    "# pick out dates\n",
    "loan_data.loc[:,'disbursement_date'] = loan_data['disbursed_time'].dt.date\n",
    "\n",
    "# create a pivot-table\n",
    "tab1 = pd.pivot_table(loan_data, values='funded_amount', index=['disbursement_date'], aggfunc='sum')\n",
    "\n",
    "# plot this table\n",
    "from pandas.plotting import register_matplotlib_converters\n",
    "register_matplotlib_converters()\n",
    "\n",
    "fig, ax = plt.subplots()\n",
    "\n",
    "ax.plot(tab1.index, tab1['funded_amount'], color='#7e81c4')\n",
    "\n",
    "# rotate and align the tick labels so they look better\n",
    "fig.autofmt_xdate()\n",
    "\n",
    "# declare the title and show the completed graph\n",
    "\n",
    "plt.xlabel('Dates')\n",
    "\n",
    "plt.ylabel('Funded amount (in million USD)')\n",
    "\n",
    "plt.show()"
   ]
  },
  {
   "cell_type": "markdown",
   "id": "bored-tablet",
   "metadata": {},
   "source": [
    "<br>\n",
    "\n",
    "_**3. How much money have Kiva donors given to individual loans?**_"
   ]
  },
  {
   "cell_type": "code",
   "execution_count": 10,
   "id": "adolescent-seminar",
   "metadata": {
    "tags": [
     "hide-input"
    ]
   },
   "outputs": [
    {
     "data": {
      "image/png": "[encoded data removed]",
      "text/plain": [
       "<Figure size 432x288 with 1 Axes>"
      ]
     },
     "metadata": {
      "needs_background": "light"
     },
     "output_type": "display_data"
    }
   ],
   "source": [
    "# create a pivot-table\n",
    "loan_count_per_funded_amount = pd.pivot_table(loan_data, values='id', index=['funded_amount'], aggfunc='count')\n",
    "\n",
    "# rename the column\n",
    "loan_count_per_funded_amount.columns = ['number_of_loans']\n",
    "\n",
    "# sort the results in descending order\n",
    "loan_count_per_funded_amount = loan_count_per_funded_amount.sort_values(by=['number_of_loans'], ascending=False)\n",
    "\n",
    "# and display top 10 results\n",
    "amounts = ['225','300','200','500','250','125','400','350','325','275']\n",
    "\n",
    "fig, ax = plt.subplots()\n",
    "\n",
    "ax.bar(amounts,loan_count_per_funded_amount.iloc[0:10,0],color='#7e81c4')\n",
    "\n",
    "plt.ylabel('Number of loans')\n",
    "\n",
    "ax.set_xticklabels(labels=amounts, rotation = (90), fontsize = 10, va='top', ha='left')\n",
    "\n",
    "plt.xlabel('Top 10 fund amounts given to each loan (in USD)')\n",
    "\n",
    "plt.title('THE MOST COMMON KIVA DONATION AMOUNTS')\n",
    "\n",
    "plt.show()"
   ]
  },
  {
   "cell_type": "markdown",
   "id": "functioning-clock",
   "metadata": {},
   "source": [
    "<br>\n",
    "\n",
    "_**4. How much money have Kiva donors given to individual countries?**_"
   ]
  },
  {
   "cell_type": "code",
   "execution_count": 11,
   "id": "played-cancer",
   "metadata": {
    "tags": [
     "hide-input"
    ]
   },
   "outputs": [
    {
     "data": {
      "image/png": "[encoded data removed]",
      "text/plain": [
       "<Figure size 432x288 with 1 Axes>"
      ]
     },
     "metadata": {
      "needs_background": "light"
     },
     "output_type": "display_data"
    }
   ],
   "source": [
    "# create a pivot-table\n",
    "tab2 = pd.pivot_table(loan_data, values='funded_amount', index=['country'], aggfunc='sum')\n",
    "\n",
    "# sort the results in descending order\n",
    "tab2 = tab2.sort_values(by=['funded_amount'], ascending=False)\n",
    "\n",
    "# rename the aggregated column to an appropiate label\n",
    "tab2.columns = ['sum_of_funded_amount']\n",
    "\n",
    "# make some index entries into columns\n",
    "tab2 = tab2.reset_index(level=['country'])\n",
    "\n",
    "# and display top 10 results\n",
    "\n",
    "fig, ax = plt.subplots()\n",
    "\n",
    "ax.bar(tab2.iloc[0:10,0],(tab2.iloc[0:10,1]/1000000),color='#7e81c4')\n",
    "\n",
    "plt.ylabel('Funding in million USD')\n",
    "\n",
    "ax.set_xticklabels(labels=tab2.iloc[0:10,0], rotation = (90), fontsize = 10, va='top', ha='left')\n",
    "\n",
    "plt.xlabel('Top 10 countries')\n",
    "\n",
    "plt.title('COUNTRIES THAT RECEIVED THE MOST IN KIVA FUNDING')\n",
    "\n",
    "plt.show()"
   ]
  },
  {
   "cell_type": "code",
   "execution_count": 12,
   "id": "psychological-division",
   "metadata": {
    "tags": [
     "hide-input"
    ]
   },
   "outputs": [
    {
     "data": {
      "image/png": "[encoded data removed]",
      "text/plain": [
       "<Figure size 432x288 with 1 Axes>"
      ]
     },
     "metadata": {
      "needs_background": "light"
     },
     "output_type": "display_data"
    }
   ],
   "source": [
    "# create a pivot-table\n",
    "loans_per_country = pd.pivot_table(loan_data, values='id', index=['country'], aggfunc='count')\n",
    "\n",
    "# sort the results in descending order\n",
    "loans_per_country = loans_per_country.sort_values(by=['id'], ascending=False)\n",
    "\n",
    "# rename the aggregated column to an appropiate label\n",
    "loans_per_country.columns = ['number_of_loans']\n",
    "\n",
    "# make some index entries into columns\n",
    "loans_per_country = loans_per_country.reset_index(level=['country'])\n",
    "\n",
    "# and display top 10 results\n",
    "loans_per_country.head(10)\n",
    "\n",
    "# and display top 10 results\n",
    "\n",
    "fig, ax = plt.subplots()\n",
    "\n",
    "ax.bar(loans_per_country.iloc[0:10,0],loans_per_country.iloc[0:10,1],color='#7e81c4')\n",
    "\n",
    "plt.ylabel('Number of loans')\n",
    "\n",
    "ax.set_xticklabels(labels=tab2.iloc[0:10,0], rotation = (90), fontsize = 10, va='top', ha='left')\n",
    "\n",
    "plt.xlabel('Top 10 countries')\n",
    "\n",
    "plt.title('COUNTRIES THAT HAD THE HIGHEST NUMBER OF LOANS ON KIVA')\n",
    "\n",
    "plt.show()"
   ]
  },
  {
   "cell_type": "markdown",
   "id": "rural-destruction",
   "metadata": {},
   "source": [
    "This shows that the top 10 countries in terms of the number of loans and amount of funding from KIVA were the same and each country maintained its position.\n",
    "\n",
    "Countries that had the highest contribution per loan were:"
   ]
  },
  {
   "cell_type": "code",
   "execution_count": 13,
   "id": "liberal-principal",
   "metadata": {
    "tags": [
     "hide-input"
    ]
   },
   "outputs": [
    {
     "name": "stdout",
     "output_type": "stream",
     "text": [
      "The shape of tab2 before merge:  (87, 2)\n",
      "The shape of tab2 after merge:  (87, 3)\n"
     ]
    }
   ],
   "source": [
    "# initial status message\n",
    "print('The shape of tab2 before merge: ', tab2.shape)\n",
    "\n",
    "# join the data, keeping only relevant entries\n",
    "tab2 = tab2.merge(loans_per_country, on='country')\n",
    "\n",
    "# final status message\n",
    "print('The shape of tab2 after merge: ', tab2.shape)"
   ]
  },
  {
   "cell_type": "code",
   "execution_count": 14,
   "id": "nasty-confidence",
   "metadata": {
    "tags": [
     "hide-input"
    ]
   },
   "outputs": [
    {
     "data": {
      "image/png": "[encoded data removed]",
      "text/plain": [
       "<Figure size 432x288 with 1 Axes>"
      ]
     },
     "metadata": {
      "needs_background": "light"
     },
     "output_type": "display_data"
    }
   ],
   "source": [
    "# add a calculated column to the newly merged tab2\n",
    "tab2.loc[:, 'contribution_per_loan'] = tab2['sum_of_funded_amount']/tab2['number_of_loans']\n",
    "\n",
    "# sort the results in descending order\n",
    "tab2 = tab2.sort_values(by=['contribution_per_loan'], ascending=False)\n",
    "\n",
    "# and display top 10 results\n",
    "\n",
    "fig, ax = plt.subplots()\n",
    "\n",
    "ax.bar(tab2.iloc[0:10,0], round(tab2.iloc[0:10,3], 2), color='#7e81c4')\n",
    "\n",
    "plt.ylabel('Kiva donor contribution per loan')\n",
    "\n",
    "ax.set_xticklabels(labels=tab2.iloc[0:10,0], rotation = (90), fontsize = 10, va='top', ha='left')\n",
    "\n",
    "plt.xlabel('Top 10 countries')\n",
    "\n",
    "plt.title('COUNTRIES THAT HAD THE HIGHEST CONTRIBUTION PER LOAN ON KIVA')\n",
    "\n",
    "plt.show()"
   ]
  },
  {
   "cell_type": "markdown",
   "id": "hawaiian-techno",
   "metadata": {},
   "source": [
    "Countries that had the lowest contribution per loan were:"
   ]
  },
  {
   "cell_type": "code",
   "execution_count": 15,
   "id": "detected-rolling",
   "metadata": {
    "tags": [
     "hide-input"
    ]
   },
   "outputs": [
    {
     "data": {
      "image/png": "[encoded data removed]",
      "text/plain": [
       "<Figure size 432x288 with 1 Axes>"
      ]
     },
     "metadata": {
      "needs_background": "light"
     },
     "output_type": "display_data"
    }
   ],
   "source": [
    "# add a calculated column to the newly merged tab2\n",
    "tab2.loc[:, 'contribution_per_loan'] = tab2['sum_of_funded_amount']/tab2['number_of_loans']\n",
    "\n",
    "# sort the results in ascending order\n",
    "tab2 = tab2.sort_values(by=['contribution_per_loan'], ascending=True)\n",
    "\n",
    "# and display top 10 results\n",
    "\n",
    "fig, ax = plt.subplots()\n",
    "\n",
    "ax.bar(tab2.iloc[0:10,0], round(tab2.iloc[0:10,3], 2), color='#7e81c4')\n",
    "\n",
    "plt.ylabel('Kiva donor contribution per loan')\n",
    "\n",
    "ax.set_xticklabels(labels=tab2.iloc[0:10,0], rotation = (90), fontsize = 10, va='top', ha='left')\n",
    "\n",
    "plt.xlabel('Bottom 10 countries')\n",
    "\n",
    "plt.title('COUNTRIES THAT HAD THE LOWEST CONTRIBUTION PER LOAN ON KIVA')\n",
    "\n",
    "plt.show()"
   ]
  },
  {
   "cell_type": "markdown",
   "id": "nutritional-configuration",
   "metadata": {},
   "source": [
    "<br>\n",
    "\n",
    "_**5. What is the geographical footprint of where funds given by KIVA donors end up?**_"
   ]
  },
  {
   "cell_type": "code",
   "execution_count": 16,
   "id": "relative-carbon",
   "metadata": {
    "tags": [
     "hide-input"
    ]
   },
   "outputs": [
    {
     "name": "stdout",
     "output_type": "stream",
     "text": [
      "partner_id\n",
      "\n",
      "Partner ID\n",
      "partner_id\n"
     ]
    }
   ],
   "source": [
    "# make a copy of the loan_data dataset and combine it with partner data\n",
    "loan_data_copy = loan_data.copy()\n",
    "\n",
    "# ensure that the common column is the same datatype and they share the same name\n",
    "# the datatype chosen was float64 to preserve any decimal points\n",
    "print(loan_data_copy.iloc[:,10].name) # original name; stays the same\n",
    "print('')\n",
    "\n",
    "print(regional_lts.iloc[:,0].name) #original name - will be changed\n",
    "#change column name\n",
    "regional_lts.columns = ['partner_id', 'Field Partner Name', 'sector',\n",
    "                        'Loan Theme ID', 'Loan Theme Type', 'country',\n",
    "                        'forkiva', 'region', 'geocode_old',\n",
    "                        'ISO', 'number', 'amount',\n",
    "                        'LocationName', 'geocode', 'names',\n",
    "                        'geo', 'lat', 'lon',\n",
    "                        'mpi_region', 'mpi_geo', 'rural_pct']\n",
    "# confirm change\n",
    "print(regional_lts.iloc[:,0].name)\n",
    "\n",
    "# change the datatype\n",
    "regional_lts.iloc[:,0] = regional_lts.iloc[:,0].astype('float64')"
   ]
  },
  {
   "cell_type": "code",
   "execution_count": 17,
   "id": "romantic-strand",
   "metadata": {
    "tags": [
     "hide-input"
    ]
   },
   "outputs": [],
   "source": [
    "# create a pivot-table\n",
    "tab3 = pd.pivot_table(loan_data_copy, values='funded_amount', index=['partner_id'], aggfunc='sum')\n",
    "\n",
    "# sort the results in descending order\n",
    "tab3 = tab3.sort_values(by=['funded_amount'], ascending=False)\n",
    "\n",
    "# rename the aggregated column to an appropiate label\n",
    "tab3.columns = ['sum_of_funded_amount']\n",
    "\n",
    "# make some index entries into columns\n",
    "tab3 = tab3.reset_index(level=['partner_id'])"
   ]
  },
  {
   "cell_type": "code",
   "execution_count": 18,
   "id": "tight-freedom",
   "metadata": {
    "tags": [
     "hide-input"
    ]
   },
   "outputs": [],
   "source": [
    "# create another pivot-table\n",
    "tab4 = pd.pivot_table(regional_lts, values='amount',\n",
    "                      index=['partner_id', 'Field Partner Name',\n",
    "                             'country'],\n",
    "                      aggfunc='count')\n",
    "\n",
    "# sort the results in descending order\n",
    "tab4 = tab4.sort_values(by=['amount'], ascending=False)\n",
    "\n",
    "# rename the aggregated column to an appropiate label\n",
    "tab4.columns = ['count_of_amount']\n",
    "\n",
    "# make some index entries into columns\n",
    "tab4 = tab4.reset_index(level=['partner_id', 'Field Partner Name', 'country'])"
   ]
  },
  {
   "cell_type": "code",
   "execution_count": 19,
   "id": "damaged-wallpaper",
   "metadata": {
    "tags": [
     "hide-input"
    ]
   },
   "outputs": [],
   "source": [
    "# create a third pivot-table\n",
    "tab5 = pd.pivot_table(loan_data_copy, values='id', index=['partner_id'], aggfunc='count')\n",
    "\n",
    "# sort the results in descending order\n",
    "tab5 = tab5.sort_values(by=['id'], ascending=False)\n",
    "\n",
    "# rename the aggregated column to an appropiate label\n",
    "tab5.columns = ['number_of_loans']\n",
    "\n",
    "# make some index entries into columns\n",
    "tab5 = tab5.reset_index(level=['partner_id'])"
   ]
  },
  {
   "cell_type": "code",
   "execution_count": 20,
   "id": "solar-artist",
   "metadata": {
    "tags": [
     "hide-input"
    ]
   },
   "outputs": [
    {
     "name": "stdout",
     "output_type": "stream",
     "text": [
      "The shape of tab3 before merge:  (366, 2)\n",
      "The shape of tab3 after merge:  (366, 3)\n",
      "The shape of tab3 before merge:  (366, 3)\n",
      "The shape of tab3 after merge:  (331, 6)\n",
      "Out of the 366 partners that disbursed loans, KIVA had the contact details of 90.0% of them.\n"
     ]
    }
   ],
   "source": [
    "# initial status message\n",
    "print('The shape of tab3 before merge: ', tab3.shape)\n",
    "\n",
    "# join the data, keeping only relevant entries\n",
    "tab3 = tab3.merge(tab5, on='partner_id')\n",
    "\n",
    "# final status message\n",
    "print('The shape of tab3 after merge: ', tab3.shape)\n",
    "\n",
    "\n",
    "# initial status message\n",
    "print('The shape of tab3 before merge: ', tab3.shape)\n",
    "\n",
    "# join the data, keeping only relevant entries\n",
    "tab3 = tab3.merge(tab4, on='partner_id')\n",
    "\n",
    "# final status message\n",
    "print('The shape of tab3 after merge: ', tab3.shape)\n",
    "\n",
    "\n",
    "percentage2 = tab3.shape[0]/366 * 100\n",
    "percentage2 = round(percentage2, 0)\n",
    "\n",
    "print('Out of the 366 partners that disbursed loans, KIVA had the contact details of '+str(percentage2)+'% of them.')"
   ]
  },
  {
   "cell_type": "markdown",
   "id": "danish-server",
   "metadata": {},
   "source": [
    "The partners that received the most funding by KIVA were:"
   ]
  },
  {
   "cell_type": "code",
   "execution_count": 21,
   "id": "fleet-occasions",
   "metadata": {
    "tags": [
     "hide-input"
    ]
   },
   "outputs": [
    {
     "data": {
      "image/png": "[encoded data removed]",
      "text/plain": [
       "<Figure size 432x288 with 1 Axes>"
      ]
     },
     "metadata": {
      "needs_background": "light"
     },
     "output_type": "display_data"
    }
   ],
   "source": [
    "# to have more details of the partners that received the most funding by KIVA,\n",
    "# sort the results in descending order\n",
    "tab3 = tab3.sort_values(by=['sum_of_funded_amount'], ascending=False)\n",
    "\n",
    "# drop the unecessary columns\n",
    "tab3 = tab3.drop('count_of_amount',1)\n",
    "\n",
    "# display top 10 results; do they match with the original tab3? They match!\n",
    "\n",
    "fig, ax = plt.subplots()\n",
    "\n",
    "ax.bar(tab3.iloc[0:10,3], (tab3.iloc[0:10,1]/1000000), color='#7e81c4')\n",
    "\n",
    "plt.ylabel('Kiva donor overall contribution (in million USD)')\n",
    "\n",
    "ax.set_xticklabels(labels=tab3.iloc[0:10,3], rotation = (90), fontsize = 10, va='top', ha='left')\n",
    "\n",
    "plt.xlabel('Field partners')\n",
    "\n",
    "plt.title('FIELD PARTNERS THAT RECEIVED THE MOST FUNDING ON KIVA')\n",
    "\n",
    "plt.show()"
   ]
  },
  {
   "cell_type": "markdown",
   "id": "laden-particular",
   "metadata": {},
   "source": [
    "The partners that serviced the highest number of loans on KIVA were:"
   ]
  },
  {
   "cell_type": "code",
   "execution_count": 22,
   "id": "domestic-particle",
   "metadata": {
    "tags": [
     "hide-input"
    ]
   },
   "outputs": [
    {
     "data": {
      "image/png": "[encoded data removed]",
      "text/plain": [
       "<Figure size 432x288 with 1 Axes>"
      ]
     },
     "metadata": {
      "needs_background": "light"
     },
     "output_type": "display_data"
    }
   ],
   "source": [
    "# sort the results in descending order\n",
    "tab3 = tab3.sort_values(by=['number_of_loans'], ascending=False)\n",
    "\n",
    "# display top 10 results in terms of number of loans\n",
    "\n",
    "fig, ax = plt.subplots()\n",
    "\n",
    "ax.bar(tab3.iloc[0:10,3], tab3.iloc[0:10,2], color='#7e81c4')\n",
    "\n",
    "plt.ylabel('Total number of loans on Kiva')\n",
    "\n",
    "ax.set_xticklabels(labels=tab3.iloc[0:10,3], rotation = (90), fontsize = 10, va='top', ha='left')\n",
    "\n",
    "plt.xlabel('Top 10 Field partners')\n",
    "\n",
    "plt.title('FIELD PARTNERS THAT SERVICED THE HIGHEST LOANS ON KIVA')\n",
    "\n",
    "plt.show()"
   ]
  },
  {
   "cell_type": "code",
   "execution_count": 23,
   "id": "traditional-pressing",
   "metadata": {
    "tags": [
     "hide-input"
    ]
   },
   "outputs": [
    {
     "data": {
      "image/png": "[encoded data removed]",
      "text/plain": [
       "<Figure size 432x288 with 1 Axes>"
      ]
     },
     "metadata": {
      "needs_background": "light"
     },
     "output_type": "display_data"
    }
   ],
   "source": [
    "# add a calculated column to the newly merged tab3\n",
    "tab3.loc[:, 'contribution_per_loan'] = tab3['sum_of_funded_amount']/tab3['number_of_loans']\n",
    "\n",
    "# sort the results in descending order\n",
    "tab3 = tab3.sort_values(by=['contribution_per_loan'], ascending=False)\n",
    "\n",
    "# display top 20 results in terms of donor contribution per loan\n",
    "\n",
    "fig, ax = plt.subplots()\n",
    "\n",
    "ax.bar(tab3.iloc[0:20,3], tab3.iloc[0:20,5], color='#7e81c4')\n",
    "\n",
    "plt.ylabel('Kiva donor contribution per loan')\n",
    "\n",
    "ax.set_xticklabels(labels=tab3.iloc[0:20,3], rotation = (90), fontsize = 10, va='top', ha='left')\n",
    "\n",
    "plt.xlabel('Top 20 Field partners')\n",
    "\n",
    "plt.title('FIELD PARTNERS THAT RECEIVED THE MOST VALUABLE LOANS ON KIVA')\n",
    "\n",
    "plt.show()"
   ]
  },
  {
   "cell_type": "markdown",
   "id": "passive-wrist",
   "metadata": {},
   "source": [
    "The per capita contribution shows most of the largest contributions per loan actually went directly to social impact businesses.\n",
    "\n",
    "<br>\n",
    "\n",
    "<br>\n",
    "\n",
    "#### The characteristics of KIVA borrowers\n",
    "\n",
    "In this section, we seek to understand KIVA borrower characteristics.\n",
    "\n",
    "<br>\n",
    "\n",
    "_**1. What is the size of the shortfall for each individual borrower in a given sector?**_"
   ]
  },
  {
   "cell_type": "code",
   "execution_count": 24,
   "id": "drawn-cigarette",
   "metadata": {
    "tags": [
     "hide-input"
    ]
   },
   "outputs": [],
   "source": [
    "# create a pivot-table\n",
    "tab6 = pd.pivot_table(loan_data_copy, values='funded_amount', index=['sector'], aggfunc='sum')\n",
    "\n",
    "# sort the results in descending order\n",
    "tab6 = tab6.sort_values(by=['funded_amount'], ascending=False)\n",
    "\n",
    "# rename the aggregated column to an appropiate label\n",
    "tab6.columns = ['sum_of_funded_amount']\n",
    "\n",
    "# make some index entries into columns\n",
    "tab6 = tab6.reset_index(level=['sector'])"
   ]
  },
  {
   "cell_type": "code",
   "execution_count": 25,
   "id": "interior-exhaust",
   "metadata": {
    "tags": [
     "hide-input"
    ]
   },
   "outputs": [],
   "source": [
    "# create another pivot-table\n",
    "loans_by_sector = pd.pivot_table(loan_data_copy, values='id', index=['sector'], aggfunc='count')\n",
    "\n",
    "# sort the results in descending order\n",
    "loans_by_sector = loans_by_sector.sort_values(by=['id'], ascending=False)\n",
    "\n",
    "# rename the aggregated column to an appropiate label\n",
    "loans_by_sector.columns = ['number_of_loans']\n",
    "\n",
    "# make some index entries into columns\n",
    "loans_by_sector = loans_by_sector.reset_index(level=['sector'])"
   ]
  },
  {
   "cell_type": "code",
   "execution_count": 26,
   "id": "casual-heating",
   "metadata": {
    "tags": [
     "hide-input"
    ]
   },
   "outputs": [],
   "source": [
    "# create a third pivot-table\n",
    "loan_amounts_by_sector = pd.pivot_table(loan_data_copy, values='loan_amount', index=['sector'], aggfunc='sum')\n",
    "\n",
    "# sort the results in descending order\n",
    "loan_amounts_by_sector = loan_amounts_by_sector.sort_values(by=['loan_amount'], ascending=False)\n",
    "\n",
    "# rename the aggregated column to an appropiate label\n",
    "loan_amounts_by_sector.columns = ['sum_of_loan_amount']\n",
    "\n",
    "# make some index entries into columns\n",
    "loan_amounts_by_sector = loan_amounts_by_sector.reset_index(level=['sector'])"
   ]
  },
  {
   "cell_type": "code",
   "execution_count": 27,
   "id": "bored-brave",
   "metadata": {
    "tags": [
     "hide-cell"
    ]
   },
   "outputs": [
    {
     "name": "stdout",
     "output_type": "stream",
     "text": [
      "The shape of tab6 before merge:  (15, 2)\n",
      "The shape of tab6 after merge:  (15, 3)\n",
      "The shape of tab6 before merge:  (15, 3)\n",
      "The shape of tab6 after merge:  (15, 4)\n"
     ]
    }
   ],
   "source": [
    "# initial status message\n",
    "print('The shape of tab6 before merge: ', tab6.shape)\n",
    "\n",
    "# join the data, keeping only relevant entries\n",
    "tab6 = tab6.merge(loans_by_sector, on='sector')\n",
    "\n",
    "# final status message\n",
    "print('The shape of tab6 after merge: ', tab6.shape)\n",
    "\n",
    "\n",
    "# initial status message\n",
    "print('The shape of tab6 before merge: ', tab6.shape)\n",
    "\n",
    "# join the data, keeping only relevant entries\n",
    "tab6 = tab6.merge(loan_amounts_by_sector, on='sector')\n",
    "\n",
    "# final status message\n",
    "print('The shape of tab6 after merge: ', tab6.shape)"
   ]
  },
  {
   "cell_type": "code",
   "execution_count": 28,
   "id": "spare-houston",
   "metadata": {
    "tags": [
     "hide-input"
    ]
   },
   "outputs": [
    {
     "data": {
      "image/png": "[encoded data removed]",
      "text/plain": [
       "<Figure size 432x288 with 1 Axes>"
      ]
     },
     "metadata": {
      "needs_background": "light"
     },
     "output_type": "display_data"
    }
   ],
   "source": [
    "# assess additional metrics\n",
    "tab6.loc[:, 'donor_contribution_per_loan'] = tab6['sum_of_funded_amount']/tab6['number_of_loans']\n",
    "tab6.loc[:, 'funding_gap_per_loan'] = (-tab6['sum_of_loan_amount']+tab6['sum_of_funded_amount'])/tab6['number_of_loans']\n",
    "\n",
    "# sort the results in descending order\n",
    "tab6 = tab6.sort_values(by=['donor_contribution_per_loan'], ascending=False)\n",
    "\n",
    "# display all results\n",
    "\n",
    "fig, ax = plt.subplots()\n",
    "\n",
    "ax.bar(tab6.iloc[:,0], tab6.iloc[:,4], color='#7e81c4')\n",
    "\n",
    "plt.ylabel('Kiva donor contribution per loan')\n",
    "\n",
    "ax.set_xticklabels(labels=tab6.iloc[:,0], rotation = (90), fontsize = 10, va='top', ha='left')\n",
    "\n",
    "plt.xlabel('Sectors')\n",
    "\n",
    "plt.title('SECTORS THAT RECEIVED THE MOST VALUABLE LOANS ON KIVA')\n",
    "\n",
    "plt.show()"
   ]
  },
  {
   "cell_type": "code",
   "execution_count": 29,
   "id": "emerging-background",
   "metadata": {
    "tags": [
     "hide-input"
    ]
   },
   "outputs": [
    {
     "data": {
      "image/png": "[encoded data removed]",
      "text/plain": [
       "<Figure size 432x288 with 1 Axes>"
      ]
     },
     "metadata": {
      "needs_background": "light"
     },
     "output_type": "display_data"
    }
   ],
   "source": [
    "# sort the results in descending order\n",
    "tab6 = tab6.sort_values(by=['funding_gap_per_loan'], ascending=False)\n",
    "\n",
    "# display all results\n",
    "\n",
    "fig, ax = plt.subplots()\n",
    "\n",
    "ax.bar(tab6.iloc[:,0], tab6.iloc[:,5], color='crimson')\n",
    "\n",
    "plt.ylabel('Funding gap per loan')\n",
    "\n",
    "ax.set_xticklabels(labels=tab6.iloc[:,0], rotation = (90), fontsize = 10, va='top', ha='left')\n",
    "\n",
    "plt.xlabel('Sectors')\n",
    "\n",
    "plt.title('SECTORS THAT HAD THE LARGEST FUNDING GAP ON KIVA')\n",
    "\n",
    "plt.show()"
   ]
  },
  {
   "cell_type": "markdown",
   "id": "elementary-sister",
   "metadata": {},
   "source": [
    "In as much as Entertainment has the second most valuable loans, it appears that this sector had the highest funding gap. Manufacturing had the lowest funding gap.\n",
    "\n",
    "<br>\n",
    "\n",
    "_**2. How were loans and funding distributed across the genders?**_"
   ]
  },
  {
   "cell_type": "code",
   "execution_count": 30,
   "id": "tender-spectrum",
   "metadata": {
    "tags": [
     "hide-input"
    ]
   },
   "outputs": [
    {
     "name": "stdout",
     "output_type": "stream",
     "text": [
      "We had borrower data on 99.37 % of the loans recorded\n"
     ]
    }
   ],
   "source": [
    "loan_data_copy.loc[:, 'number_of_all_borrowers'] = loan_data_copy['borrower_genders'].str.count('male') # counts both instances of female and male - they share the 'male' element\n",
    "loan_data_copy.loc[:, 'number_of_female_borrowers'] = loan_data_copy['borrower_genders'].str.count('female')\n",
    "loan_data_copy.loc[:, 'number_of_male_borrowers'] = loan_data_copy['number_of_all_borrowers'] - loan_data_copy['number_of_female_borrowers']\n",
    "\n",
    "\n",
    "print('We had borrower data on',\n",
    "      round(loan_data_copy['number_of_all_borrowers'].count()/loan_data_copy.shape[0]*100, 2),\n",
    "      '% of the loans recorded')"
   ]
  },
  {
   "cell_type": "markdown",
   "id": "fleet-liquid",
   "metadata": {},
   "source": [
    "<u>**How different genders group together to borrow on Kiva**</u>"
   ]
  },
  {
   "cell_type": "code",
   "execution_count": 31,
   "id": "unusual-medium",
   "metadata": {
    "tags": [
     "hide-input"
    ]
   },
   "outputs": [
    {
     "data": {
      "image/png": "[encoded data removed]",
      "text/plain": [
       "<Figure size 432x288 with 1 Axes>"
      ]
     },
     "metadata": {
      "needs_background": "light"
     },
     "output_type": "display_data"
    }
   ],
   "source": [
    "# create a pivot-table\n",
    "borrower_group_data = pd.pivot_table(loan_data_copy, values=['number_of_male_borrowers', 'number_of_female_borrowers'],\n",
    "                                     index=['number_of_all_borrowers'],aggfunc='sum')\n",
    "#N/B: Using the count gives the total number of loans with borrower data; we need the sum to see the gender distribution across group size\n",
    "\n",
    "# make some index entries into columns\n",
    "borrower_group_data = borrower_group_data.reset_index(level=['number_of_all_borrowers'])\n",
    "\n",
    "\n",
    "# display the results\n",
    "fig, ax = plt.subplots()\n",
    "\n",
    "ax.bar(borrower_group_data.iloc[:,0], borrower_group_data.iloc[:,2],\n",
    "       label='Men', color='#7e81c4')\n",
    "\n",
    "ax.bar(borrower_group_data.iloc[:,0], borrower_group_data.iloc[:,1],\n",
    "       bottom=borrower_group_data.iloc[:,2], label='Women', color='#cbcce7')\n",
    "\n",
    "ax.set_ylabel('Number of borrowers')\n",
    "\n",
    "ax.set_xlabel('Size of borrower groups')\n",
    "\n",
    "ax.set_title('GENDER AND SIZE OF BORROWER GROUPS')\n",
    "\n",
    "ax.legend()\n",
    "\n",
    "plt.show()"
   ]
  },
  {
   "cell_type": "markdown",
   "id": "differential-miracle",
   "metadata": {},
   "source": [
    "The graph above shows that most people preferred to borrow as individuals; however, there were substantially larger numbers of women in each group size compared to men.\n",
    "\n",
    "<u>**Most common nationalities for the different genders**</u>"
   ]
  },
  {
   "cell_type": "code",
   "execution_count": 32,
   "id": "enabling-separate",
   "metadata": {
    "tags": [
     "hide-input"
    ]
   },
   "outputs": [
    {
     "data": {
      "image/png": "[encoded data removed]",
      "text/plain": [
       "<Figure size 432x288 with 1 Axes>"
      ]
     },
     "metadata": {
      "needs_background": "light"
     },
     "output_type": "display_data"
    }
   ],
   "source": [
    "# create a pivot-table\n",
    "borrower_country_data = pd.pivot_table(loan_data_copy, values=['number_of_male_borrowers', 'number_of_female_borrowers'],\n",
    "                                       index=['country'],aggfunc='sum')\n",
    "\n",
    "\n",
    "# sort the male results in descending order\n",
    "borrower_country_data = borrower_country_data.sort_values(by=['number_of_male_borrowers'], ascending=False)\n",
    "\n",
    "# make some index entries into columns\n",
    "borrower_country_data = borrower_country_data.reset_index(level=['country'])\n",
    "\n",
    "\n",
    "# display the results\n",
    "fig, ax = plt.subplots()\n",
    "\n",
    "ax.bar(borrower_country_data.iloc[0:10,0], borrower_country_data.iloc[0:10,2],\n",
    "       label='Men', color='#7e81c4')\n",
    "\n",
    "ax.bar(borrower_country_data.iloc[0:10,0], borrower_country_data.iloc[0:10,1],\n",
    "       bottom=borrower_country_data.iloc[0:10,2], label='Women', color='#cbcce7')\n",
    "\n",
    "ax.set_xticklabels(labels=borrower_country_data.iloc[0:10,0], rotation = (90), fontsize = 10, va='top', ha='left')\n",
    "\n",
    "ax.set_ylabel('Number of borrowers')\n",
    "\n",
    "ax.set_xlabel('Top 10 countries for men')\n",
    "\n",
    "ax.set_title('NUMBER OF BORROWERS BY GENDER AND COUNTRY')\n",
    "\n",
    "ax.legend()\n",
    "\n",
    "plt.show()"
   ]
  },
  {
   "cell_type": "markdown",
   "id": "ignored-reducing",
   "metadata": {},
   "source": [
    "The country with the highest number of male borrowers was Kenya, while the country where men formed the majority of KIVA borrowers was Nigeria."
   ]
  },
  {
   "cell_type": "code",
   "execution_count": 33,
   "id": "lesbian-sentence",
   "metadata": {
    "tags": [
     "hide-input"
    ]
   },
   "outputs": [
    {
     "data": {
      "image/png": "[encoded data removed]",
      "text/plain": [
       "<Figure size 432x288 with 1 Axes>"
      ]
     },
     "metadata": {
      "needs_background": "light"
     },
     "output_type": "display_data"
    }
   ],
   "source": [
    "# sort the female results in descending order\n",
    "borrower_country_data = borrower_country_data.sort_values(by=['number_of_female_borrowers'], ascending=False)\n",
    "\n",
    "# display the results\n",
    "fig, ax = plt.subplots()\n",
    "\n",
    "ax.bar(borrower_country_data.iloc[0:10,0], borrower_country_data.iloc[0:10,2],\n",
    "       label='Men', color='#7e81c4')\n",
    "\n",
    "ax.bar(borrower_country_data.iloc[0:10,0], borrower_country_data.iloc[0:10,1],\n",
    "       bottom=borrower_country_data.iloc[0:10,2], label='Women', color='#cbcce7')\n",
    "\n",
    "ax.set_xticklabels(labels=borrower_country_data.iloc[0:10,0], rotation = (90),\n",
    "                   fontsize = 10, va='top', ha='left')\n",
    "\n",
    "ax.set_ylabel('Number of borrowers')\n",
    "\n",
    "ax.set_xlabel('Top 10 countries for women')\n",
    "\n",
    "ax.set_title('NUMBER OF BORROWERS BY GENDER AND COUNTRY')\n",
    "\n",
    "ax.legend()\n",
    "\n",
    "plt.show()"
   ]
  },
  {
   "cell_type": "markdown",
   "id": "scheduled-annual",
   "metadata": {},
   "source": [
    "The country with the highest number of female borrowers was the Philippines, it can also be observed that nearly all borrowers were women in Paraguay and Senegal, while India appears to consist of only female borrowers."
   ]
  },
  {
   "cell_type": "code",
   "execution_count": 34,
   "id": "worldwide-hollywood",
   "metadata": {
    "tags": [
     "hide-input"
    ]
   },
   "outputs": [],
   "source": [
    "# create a pivot-table\n",
    "tab7 = pd.pivot_table(loan_data_copy, values=['term_in_months', 'number_of_all_borrowers', 'number_of_male_borrowers', 'number_of_female_borrowers', 'loan_amount', 'funded_amount'], index=['repayment_interval'], aggfunc='sum')\n",
    "\n",
    "# sort the results in descending order\n",
    "tab7 = tab7.sort_values(by=['number_of_all_borrowers'], ascending=False)\n",
    "\n",
    "# make some index entries into columns\n",
    "tab7 = tab7.reset_index(level=['repayment_interval'])"
   ]
  },
  {
   "cell_type": "code",
   "execution_count": 35,
   "id": "still-bookmark",
   "metadata": {
    "tags": [
     "hide-input"
    ]
   },
   "outputs": [],
   "source": [
    "# create another pivot-table\n",
    "loan_repayment = pd.pivot_table(loan_data_copy, values='id', index=['repayment_interval'], aggfunc='count')\n",
    "\n",
    "# sort the results in descending order\n",
    "loan_repayment = loan_repayment.sort_values(by=['id'], ascending=False)\n",
    "\n",
    "# rename the aggregated column to an appropiate label\n",
    "loan_repayment.columns = ['number_of_loans']\n",
    "\n",
    "# make some index entries into columns\n",
    "loan_repayment = loan_repayment.reset_index(level=['repayment_interval'])"
   ]
  },
  {
   "cell_type": "code",
   "execution_count": 36,
   "id": "fossil-highland",
   "metadata": {
    "tags": [
     "hide-cell"
    ]
   },
   "outputs": [
    {
     "name": "stdout",
     "output_type": "stream",
     "text": [
      "The shape of tab7 before merge:  (4, 7)\n",
      "The shape of tab7 after merge:  (4, 8)\n"
     ]
    }
   ],
   "source": [
    "# initial status message\n",
    "print('The shape of tab7 before merge: ', tab7.shape)\n",
    "\n",
    "# join the data, keeping only relevant entries\n",
    "tab7 = tab7.merge(loan_repayment, on='repayment_interval')\n",
    "\n",
    "# final status message\n",
    "print('The shape of tab7 after merge: ', tab7.shape)"
   ]
  },
  {
   "cell_type": "code",
   "execution_count": 37,
   "id": "political-karen",
   "metadata": {
    "tags": [
     "hide-input"
    ]
   },
   "outputs": [],
   "source": [
    "# Present findings in more digestible formats by:\n",
    "\n",
    "# 1. Converting total borrowers to male and female proportions\n",
    "tab7.loc[:, 'female_pct_of_total_borrowers'] = round((tab7['number_of_female_borrowers']/tab7['number_of_all_borrowers'])*100, 2)\n",
    "tab7.loc[:, 'male_pct_of_total_borrowers'] = round((tab7['number_of_male_borrowers']/tab7['number_of_all_borrowers'])*100, 2)\n",
    "\n",
    "# 2. Extracting funding amounts based on gender\n",
    "tab7.loc[:, 'million_USD_female_total_funding'] = round((tab7['female_pct_of_total_borrowers']/100*tab7['funded_amount'])/1000000, 2)\n",
    "tab7.loc[:, 'million_USD_male_total_funding'] = round((tab7['male_pct_of_total_borrowers']/100*tab7['funded_amount'])/1000000, 2)\n",
    "\n",
    "# 3. Extracting loan amounts based on gender\n",
    "tab7.loc[:, 'million_USD_female_total_loan_amount'] = round((tab7['female_pct_of_total_borrowers']/100*tab7['loan_amount'])/1000000, 2)\n",
    "tab7.loc[:, 'million_USD_male_total_loan_amount'] = round((tab7['male_pct_of_total_borrowers']/100*tab7['loan_amount'])/1000000, 2)\n",
    "\n",
    "# 4. Extracting funding gaps based on gender\n",
    "tab7.loc[:, 'million_female_funding_gap'] = -tab7['million_USD_female_total_loan_amount']+tab7['million_USD_female_total_funding']\n",
    "tab7.loc[:, 'million_male_funding_gap'] = -tab7['million_USD_male_total_loan_amount']+tab7['million_USD_male_total_funding']"
   ]
  },
  {
   "cell_type": "code",
   "execution_count": 38,
   "id": "metric-index",
   "metadata": {
    "tags": [
     "hide-input"
    ]
   },
   "outputs": [],
   "source": [
    "# drop raw data columns\n",
    "tab7 = tab7.drop(['funded_amount', 'loan_amount',\n",
    "                  'number_of_all_borrowers', 'number_of_female_borrowers',\n",
    "                  'number_of_male_borrowers'],1)"
   ]
  },
  {
   "cell_type": "markdown",
   "id": "curious-preserve",
   "metadata": {},
   "source": [
    "<u>**Funding received based on gender**</u>"
   ]
  },
  {
   "cell_type": "code",
   "execution_count": 39,
   "id": "requested-italy",
   "metadata": {
    "tags": [
     "hide-input"
    ]
   },
   "outputs": [
    {
     "data": {
      "image/png": "[encoded data removed]",
      "text/plain": [
       "<Figure size 432x288 with 1 Axes>"
      ]
     },
     "metadata": {},
     "output_type": "display_data"
    }
   ],
   "source": [
    "# display summary of funding by gender\n",
    "\n",
    "status = ['Total male funding','Total female funding']\n",
    "\n",
    "values = [tab7['million_USD_male_total_funding'].sum(), tab7['million_USD_female_total_funding'].sum()]\n",
    "\n",
    "fig1, ax1 = plt.subplots()\n",
    "\n",
    "ax1.pie(values, labels=status,\n",
    "        autopct='%1.2f%%',\n",
    "        startangle=90,\n",
    "        colors=np.array(['#7e81c4','#cbcce7']))\n",
    "\n",
    "ax1.axis('equal')  # Equal aspect ratio ensures that pie is drawn as a circle.\n",
    "\n",
    "plt.show()"
   ]
  },
  {
   "cell_type": "markdown",
   "id": "ancient-license",
   "metadata": {},
   "source": [
    "<u>**Total loan amounts taken by each gender**</u>"
   ]
  },
  {
   "cell_type": "code",
   "execution_count": 40,
   "id": "romantic-store",
   "metadata": {
    "tags": [
     "hide-input"
    ]
   },
   "outputs": [
    {
     "data": {
      "image/png": "[encoded data removed]",
      "text/plain": [
       "<Figure size 432x288 with 1 Axes>"
      ]
     },
     "metadata": {},
     "output_type": "display_data"
    }
   ],
   "source": [
    "# display loan amounts by gender\n",
    "\n",
    "status = ['Total loan taken by men','Total loan taken by women']\n",
    "\n",
    "values = [tab7['million_USD_male_total_loan_amount'].sum(), tab7['million_USD_female_total_loan_amount'].sum()]\n",
    "\n",
    "fig1, ax1 = plt.subplots()\n",
    "\n",
    "ax1.pie(values, labels=status,\n",
    "        autopct='%1.2f%%',\n",
    "        startangle=90,\n",
    "        colors=np.array(['#7e81c4','#cbcce7']))\n",
    "\n",
    "ax1.axis('equal')  # Equal aspect ratio ensures that pie is drawn as a circle.\n",
    "\n",
    "plt.show()"
   ]
  },
  {
   "cell_type": "markdown",
   "id": "invalid-virtue",
   "metadata": {},
   "source": [
    "<u>**Loan repayment behaviour based on gender**</u>"
   ]
  },
  {
   "cell_type": "code",
   "execution_count": 41,
   "id": "worse-anime",
   "metadata": {
    "tags": [
     "hide-input"
    ]
   },
   "outputs": [
    {
     "data": {
      "image/png": "[encoded data removed]",
      "text/plain": [
       "<Figure size 432x288 with 1 Axes>"
      ]
     },
     "metadata": {
      "needs_background": "light"
     },
     "output_type": "display_data"
    }
   ],
   "source": [
    "# Display summary of loan repayment behaviour by gender\n",
    "# 1. Men\n",
    "fig, ax = plt.subplots()\n",
    "\n",
    "ax.bar(tab7.iloc[:,0],\n",
    "       (tab7.iloc[:,1]/tab7.iloc[:,2])*(tab7.iloc[:,4]/100),\n",
    "       label='Men', color='#7e81c4')\n",
    "\n",
    "ax.set_ylabel('Loan term per loan')\n",
    "\n",
    "ax.set_xlabel('Repayment interval')\n",
    "\n",
    "ax.set_title('LOAN REPAYMENT BEHAVIOUR')\n",
    "\n",
    "ax.legend()\n",
    "\n",
    "plt.show()"
   ]
  },
  {
   "cell_type": "code",
   "execution_count": 42,
   "id": "forty-butler",
   "metadata": {
    "tags": [
     "hide-input"
    ]
   },
   "outputs": [
    {
     "data": {
      "image/png": "[encoded data removed]",
      "text/plain": [
       "<Figure size 432x288 with 1 Axes>"
      ]
     },
     "metadata": {
      "needs_background": "light"
     },
     "output_type": "display_data"
    }
   ],
   "source": [
    "# 2. Women\n",
    "fig, ax = plt.subplots()\n",
    "\n",
    "ax.bar(tab7.iloc[:,0],\n",
    "       (tab7.iloc[:,1]/tab7.iloc[:,2])*(tab7.iloc[:,3]/100),\n",
    "       label='Women', color='#cbcce7')\n",
    "\n",
    "ax.set_ylabel('Loan term per loan')\n",
    "\n",
    "ax.set_xlabel('Repayment interval')\n",
    "\n",
    "ax.set_title('LOAN REPAYMENT BEHAVIOUR')\n",
    "\n",
    "ax.legend()\n",
    "\n",
    "plt.show()"
   ]
  },
  {
   "cell_type": "markdown",
   "id": "numerous-culture",
   "metadata": {},
   "source": [
    "In as much as most men and women consistently paid off long-term loans on a monthly basis, women had a much larger time horizon to pay off their loans in general.\n",
    "\n",
    "Additionally, a significant amount of data on repayment behaviour is missing for both genders (missing data is represented as the 'bullet group').\n",
    "\n",
    "<u>**Funding gap in millions faced by each gender**</u>"
   ]
  },
  {
   "cell_type": "code",
   "execution_count": 43,
   "id": "charitable-learning",
   "metadata": {
    "tags": [
     "hide-input"
    ]
   },
   "outputs": [
    {
     "data": {
      "image/png": "[encoded data removed]",
      "text/plain": [
       "<Figure size 432x288 with 1 Axes>"
      ]
     },
     "metadata": {},
     "output_type": "display_data"
    },
    {
     "name": "stdout",
     "output_type": "stream",
     "text": [
      "In this instance, both men and women have the same size of funding gap, 10.19 million US dollars\n",
      "over the time period the data was collected.\n"
     ]
    }
   ],
   "source": [
    "# display summary of funding gap by gender\n",
    "\n",
    "status = ['Male funding gap','Female funding gap']\n",
    "\n",
    "values = [abs(tab7['million_male_funding_gap'].sum()), abs(tab7['million_male_funding_gap'].sum())]\n",
    "\n",
    "fig1, ax1 = plt.subplots()\n",
    "\n",
    "ax1.pie(values, labels=status,\n",
    "        autopct='%1.2f%%',\n",
    "        startangle=90,\n",
    "        colors=np.array(['#7e81c4','#cbcce7']))\n",
    "\n",
    "ax1.axis('equal')  # Equal aspect ratio ensures that pie is drawn as a circle.\n",
    "\n",
    "plt.show()\n",
    "\n",
    "print('In this instance, both men and women have the same size of funding gap, {} million US dollars\\nover the time period the data was collected.'\n",
    "      .format(round(\n",
    "          abs(tab7['million_male_funding_gap'].sum()),\n",
    "          2)\n",
    "             )\n",
    "     )"
   ]
  },
  {
   "cell_type": "code",
   "execution_count": 44,
   "id": "single-verse",
   "metadata": {
    "tags": [
     "hide-input"
    ]
   },
   "outputs": [
    {
     "data": {
      "image/png": "[encoded data removed]",
      "text/plain": [
       "<Figure size 432x288 with 1 Axes>"
      ]
     },
     "metadata": {
      "needs_background": "light"
     },
     "output_type": "display_data"
    }
   ],
   "source": [
    "# display summary of the funding gap by gender and monthly repayment behaviour\n",
    "fig, ax = plt.subplots()\n",
    "\n",
    "ax.bar(tab7.iloc[:,0], tab7.iloc[:,10], label='Men', color='black')\n",
    "\n",
    "ax.bar(tab7.iloc[:,0], tab7.iloc[:,9], bottom=tab7.iloc[:,10], label='Women', color='crimson')\n",
    "\n",
    "ax.set_ylabel('Funding gap (millions)')\n",
    "\n",
    "ax.set_xlabel('Repayment interval')\n",
    "\n",
    "ax.set_title('SIZE OF FUNDING GAP')\n",
    "\n",
    "ax.legend()\n",
    "\n",
    "plt.show()"
   ]
  },
  {
   "cell_type": "markdown",
   "id": "large-mathematics",
   "metadata": {},
   "source": [
    "The graph above indicates that in as much as women are getting much more funding than men, those in the monthly repayment group still have a significant funding gap. Furthermore, the second-largest funding gap was not from those people belonging to the irregular payments group, but those belonging to the group that had missing data on payment behaviour. This makes sense because there may be a lack of trust that makes KIVA donors not foot the entire loan of those with missing repayment plans.\n",
    "\n",
    "<br>\n",
    "\n",
    "<br>\n",
    "\n",
    "### Global welfare\n",
    "\n",
    "In this section, we seek to explore the data to understand the financial well-being of various countries with the aid of an external dataset\n",
    "\n",
    "_**1. What percentage of their monthly expenditure does the average citizen devote to loan repayments?**_\n",
    "\n",
    "The purchasing power of various countries of the world can be visualized in the form of the monthly income table below:"
   ]
  },
  {
   "cell_type": "code",
   "execution_count": 45,
   "id": "satisfied-edward",
   "metadata": {
    "tags": [
     "hide-cell"
    ]
   },
   "outputs": [
    {
     "data": {
      "text/html": [
       "<div>\n",
       "<style scoped>\n",
       "    .dataframe tbody tr th:only-of-type {\n",
       "        vertical-align: middle;\n",
       "    }\n",
       "\n",
       "    .dataframe tbody tr th {\n",
       "        vertical-align: top;\n",
       "    }\n",
       "\n",
       "    .dataframe thead th {\n",
       "        text-align: right;\n",
       "    }\n",
       "</style>\n",
       "<table border=\"1\" class=\"dataframe\">\n",
       "  <thead>\n",
       "    <tr style=\"text-align: right;\">\n",
       "      <th></th>\n",
       "      <th>2013</th>\n",
       "      <th>2014</th>\n",
       "      <th>2015</th>\n",
       "      <th>2016</th>\n",
       "      <th>2017</th>\n",
       "      <th>country</th>\n",
       "    </tr>\n",
       "  </thead>\n",
       "  <tbody>\n",
       "    <tr>\n",
       "      <th>1</th>\n",
       "      <td>582.357500</td>\n",
       "      <td>586.271667</td>\n",
       "      <td>584.475000</td>\n",
       "      <td>591.529167</td>\n",
       "      <td>592.816667</td>\n",
       "      <td>American Samoa</td>\n",
       "    </tr>\n",
       "    <tr>\n",
       "      <th>2</th>\n",
       "      <td>61.932500</td>\n",
       "      <td>63.661667</td>\n",
       "      <td>66.361667</td>\n",
       "      <td>69.737500</td>\n",
       "      <td>71.814167</td>\n",
       "      <td>Cambodia</td>\n",
       "    </tr>\n",
       "    <tr>\n",
       "      <th>3</th>\n",
       "      <td>175.452500</td>\n",
       "      <td>190.616667</td>\n",
       "      <td>206.155833</td>\n",
       "      <td>223.367500</td>\n",
       "      <td>243.301667</td>\n",
       "      <td>China</td>\n",
       "    </tr>\n",
       "    <tr>\n",
       "      <th>5</th>\n",
       "      <td>164.263333</td>\n",
       "      <td>170.690000</td>\n",
       "      <td>176.700000</td>\n",
       "      <td>183.363333</td>\n",
       "      <td>190.249167</td>\n",
       "      <td>Indonesia</td>\n",
       "    </tr>\n",
       "    <tr>\n",
       "      <th>6</th>\n",
       "      <td>121.336667</td>\n",
       "      <td>124.944167</td>\n",
       "      <td>137.075833</td>\n",
       "      <td>141.720833</td>\n",
       "      <td>145.214167</td>\n",
       "      <td>Kiribati</td>\n",
       "    </tr>\n",
       "    <tr>\n",
       "      <th>...</th>\n",
       "      <td>...</td>\n",
       "      <td>...</td>\n",
       "      <td>...</td>\n",
       "      <td>...</td>\n",
       "      <td>...</td>\n",
       "      <td>...</td>\n",
       "    </tr>\n",
       "    <tr>\n",
       "      <th>179</th>\n",
       "      <td>91.753333</td>\n",
       "      <td>91.670000</td>\n",
       "      <td>92.621667</td>\n",
       "      <td>93.139167</td>\n",
       "      <td>93.662500</td>\n",
       "      <td>Sudan</td>\n",
       "    </tr>\n",
       "    <tr>\n",
       "      <th>180</th>\n",
       "      <td>42.089167</td>\n",
       "      <td>42.224167</td>\n",
       "      <td>43.976667</td>\n",
       "      <td>43.604167</td>\n",
       "      <td>43.282500</td>\n",
       "      <td>Tanzania</td>\n",
       "    </tr>\n",
       "    <tr>\n",
       "      <th>181</th>\n",
       "      <td>36.333333</td>\n",
       "      <td>37.132500</td>\n",
       "      <td>37.786667</td>\n",
       "      <td>38.175000</td>\n",
       "      <td>37.630833</td>\n",
       "      <td>Togo</td>\n",
       "    </tr>\n",
       "    <tr>\n",
       "      <th>182</th>\n",
       "      <td>54.592500</td>\n",
       "      <td>54.118333</td>\n",
       "      <td>57.973333</td>\n",
       "      <td>56.637500</td>\n",
       "      <td>54.675000</td>\n",
       "      <td>Uganda</td>\n",
       "    </tr>\n",
       "    <tr>\n",
       "      <th>184</th>\n",
       "      <td>84.350833</td>\n",
       "      <td>80.766667</td>\n",
       "      <td>94.590000</td>\n",
       "      <td>83.371667</td>\n",
       "      <td>83.315833</td>\n",
       "      <td>Zimbabwe</td>\n",
       "    </tr>\n",
       "  </tbody>\n",
       "</table>\n",
       "<p>156 rows × 6 columns</p>\n",
       "</div>"
      ],
      "text/plain": [
       "           2013        2014        2015        2016        2017  \\\n",
       "1    582.357500  586.271667  584.475000  591.529167  592.816667   \n",
       "2     61.932500   63.661667   66.361667   69.737500   71.814167   \n",
       "3    175.452500  190.616667  206.155833  223.367500  243.301667   \n",
       "5    164.263333  170.690000  176.700000  183.363333  190.249167   \n",
       "6    121.336667  124.944167  137.075833  141.720833  145.214167   \n",
       "..          ...         ...         ...         ...         ...   \n",
       "179   91.753333   91.670000   92.621667   93.139167   93.662500   \n",
       "180   42.089167   42.224167   43.976667   43.604167   43.282500   \n",
       "181   36.333333   37.132500   37.786667   38.175000   37.630833   \n",
       "182   54.592500   54.118333   57.973333   56.637500   54.675000   \n",
       "184   84.350833   80.766667   94.590000   83.371667   83.315833   \n",
       "\n",
       "            country  \n",
       "1    American Samoa  \n",
       "2          Cambodia  \n",
       "3             China  \n",
       "5         Indonesia  \n",
       "6          Kiribati  \n",
       "..              ...  \n",
       "179           Sudan  \n",
       "180        Tanzania  \n",
       "181            Togo  \n",
       "182          Uganda  \n",
       "184        Zimbabwe  \n",
       "\n",
       "[156 rows x 6 columns]"
      ]
     },
     "execution_count": 45,
     "metadata": {},
     "output_type": "execute_result"
    }
   ],
   "source": [
    "# Made a copy of the data: \n",
    "expenditure = PCE_data.copy()\n",
    "\n",
    "# Convert any 'n/a' strings to NaN values\n",
    "expenditure = expenditure.replace('n/a', np.nan)\n",
    "\n",
    "# Convert any numeric data stored as a string into a decimal\n",
    "cols = expenditure.columns[1:61]\n",
    "\n",
    "for col in cols:\n",
    "    expenditure.loc[:,col] = expenditure[col].str.replace(',','')\n",
    "\n",
    "for col in cols:\n",
    "    expenditure.loc[:,col] = expenditure[col].astype('float64')\n",
    "    \n",
    "MonthlyExpenditure = (expenditure.loc[:,'2013':'2017'].copy())/12\n",
    "\n",
    "MonthlyExpenditure.loc[:,'country'] = expenditure['Country']\n",
    "\n",
    "# Drop any null columns\n",
    "MonthlyExpenditure = MonthlyExpenditure.dropna()\n",
    "\n",
    "MonthlyExpenditure"
   ]
  },
  {
   "cell_type": "markdown",
   "id": "faced-restriction",
   "metadata": {},
   "source": [
    "<br>\n",
    "\n",
    "In turn, the monthly repayments of various countries of the world can be visualized in the form of the monthly repayments table below:"
   ]
  },
  {
   "cell_type": "code",
   "execution_count": 46,
   "id": "outstanding-surfing",
   "metadata": {
    "tags": [
     "hide-cell"
    ]
   },
   "outputs": [
    {
     "data": {
      "text/html": [
       "<div>\n",
       "<style scoped>\n",
       "    .dataframe tbody tr th:only-of-type {\n",
       "        vertical-align: middle;\n",
       "    }\n",
       "\n",
       "    .dataframe tbody tr th {\n",
       "        vertical-align: top;\n",
       "    }\n",
       "\n",
       "    .dataframe thead th {\n",
       "        text-align: right;\n",
       "    }\n",
       "</style>\n",
       "<table border=\"1\" class=\"dataframe\">\n",
       "  <thead>\n",
       "    <tr style=\"text-align: right;\">\n",
       "      <th></th>\n",
       "      <th>country</th>\n",
       "      <th>monthly_loan_repayment 2013</th>\n",
       "      <th>monthly_loan_repayment 2014</th>\n",
       "      <th>monthly_loan_repayment 2015</th>\n",
       "      <th>monthly_loan_repayment 2016</th>\n",
       "      <th>monthly_loan_repayment 2017</th>\n",
       "    </tr>\n",
       "  </thead>\n",
       "  <tbody>\n",
       "    <tr>\n",
       "      <th>0</th>\n",
       "      <td>Afghanistan</td>\n",
       "      <td>NaN</td>\n",
       "      <td>NaN</td>\n",
       "      <td>750.000000</td>\n",
       "      <td>1333.333333</td>\n",
       "      <td>NaN</td>\n",
       "    </tr>\n",
       "    <tr>\n",
       "      <th>1</th>\n",
       "      <td>Albania</td>\n",
       "      <td>62.227835</td>\n",
       "      <td>64.557728</td>\n",
       "      <td>54.131447</td>\n",
       "      <td>55.527071</td>\n",
       "      <td>61.604227</td>\n",
       "    </tr>\n",
       "    <tr>\n",
       "      <th>2</th>\n",
       "      <td>Armenia</td>\n",
       "      <td>64.103653</td>\n",
       "      <td>64.558263</td>\n",
       "      <td>51.850628</td>\n",
       "      <td>49.406712</td>\n",
       "      <td>50.580462</td>\n",
       "    </tr>\n",
       "    <tr>\n",
       "      <th>3</th>\n",
       "      <td>Azerbaijan</td>\n",
       "      <td>105.071779</td>\n",
       "      <td>108.725509</td>\n",
       "      <td>82.548595</td>\n",
       "      <td>59.692751</td>\n",
       "      <td>NaN</td>\n",
       "    </tr>\n",
       "    <tr>\n",
       "      <th>4</th>\n",
       "      <td>Belize</td>\n",
       "      <td>NaN</td>\n",
       "      <td>18.405275</td>\n",
       "      <td>NaN</td>\n",
       "      <td>22.880435</td>\n",
       "      <td>NaN</td>\n",
       "    </tr>\n",
       "    <tr>\n",
       "      <th>...</th>\n",
       "      <td>...</td>\n",
       "      <td>...</td>\n",
       "      <td>...</td>\n",
       "      <td>...</td>\n",
       "      <td>...</td>\n",
       "      <td>...</td>\n",
       "    </tr>\n",
       "    <tr>\n",
       "      <th>80</th>\n",
       "      <td>Vanuatu</td>\n",
       "      <td>NaN</td>\n",
       "      <td>62.500000</td>\n",
       "      <td>NaN</td>\n",
       "      <td>NaN</td>\n",
       "      <td>NaN</td>\n",
       "    </tr>\n",
       "    <tr>\n",
       "      <th>81</th>\n",
       "      <td>Vietnam</td>\n",
       "      <td>68.839701</td>\n",
       "      <td>91.272779</td>\n",
       "      <td>97.516549</td>\n",
       "      <td>90.730029</td>\n",
       "      <td>69.997056</td>\n",
       "    </tr>\n",
       "    <tr>\n",
       "      <th>82</th>\n",
       "      <td>Yemen</td>\n",
       "      <td>62.567830</td>\n",
       "      <td>57.303204</td>\n",
       "      <td>60.290609</td>\n",
       "      <td>43.056244</td>\n",
       "      <td>42.720586</td>\n",
       "    </tr>\n",
       "    <tr>\n",
       "      <th>83</th>\n",
       "      <td>Zambia</td>\n",
       "      <td>NaN</td>\n",
       "      <td>81.800068</td>\n",
       "      <td>93.311061</td>\n",
       "      <td>107.013918</td>\n",
       "      <td>74.278048</td>\n",
       "    </tr>\n",
       "    <tr>\n",
       "      <th>84</th>\n",
       "      <td>Zimbabwe</td>\n",
       "      <td>175.857143</td>\n",
       "      <td>74.398992</td>\n",
       "      <td>126.842706</td>\n",
       "      <td>110.083632</td>\n",
       "      <td>125.510372</td>\n",
       "    </tr>\n",
       "  </tbody>\n",
       "</table>\n",
       "<p>85 rows × 6 columns</p>\n",
       "</div>"
      ],
      "text/plain": [
       "        country  monthly_loan_repayment 2013  monthly_loan_repayment 2014  \\\n",
       "0   Afghanistan                          NaN                          NaN   \n",
       "1       Albania                    62.227835                    64.557728   \n",
       "2       Armenia                    64.103653                    64.558263   \n",
       "3    Azerbaijan                   105.071779                   108.725509   \n",
       "4        Belize                          NaN                    18.405275   \n",
       "..          ...                          ...                          ...   \n",
       "80      Vanuatu                          NaN                    62.500000   \n",
       "81      Vietnam                    68.839701                    91.272779   \n",
       "82        Yemen                    62.567830                    57.303204   \n",
       "83       Zambia                          NaN                    81.800068   \n",
       "84     Zimbabwe                   175.857143                    74.398992   \n",
       "\n",
       "    monthly_loan_repayment 2015  monthly_loan_repayment 2016  \\\n",
       "0                    750.000000                  1333.333333   \n",
       "1                     54.131447                    55.527071   \n",
       "2                     51.850628                    49.406712   \n",
       "3                     82.548595                    59.692751   \n",
       "4                           NaN                    22.880435   \n",
       "..                          ...                          ...   \n",
       "80                          NaN                          NaN   \n",
       "81                    97.516549                    90.730029   \n",
       "82                    60.290609                    43.056244   \n",
       "83                    93.311061                   107.013918   \n",
       "84                   126.842706                   110.083632   \n",
       "\n",
       "    monthly_loan_repayment 2017  \n",
       "0                           NaN  \n",
       "1                     61.604227  \n",
       "2                     50.580462  \n",
       "3                           NaN  \n",
       "4                           NaN  \n",
       "..                          ...  \n",
       "80                          NaN  \n",
       "81                    69.997056  \n",
       "82                    42.720586  \n",
       "83                    74.278048  \n",
       "84                   125.510372  \n",
       "\n",
       "[85 rows x 6 columns]"
      ]
     },
     "execution_count": 46,
     "metadata": {},
     "output_type": "execute_result"
    }
   ],
   "source": [
    "# get the monthly repayment on each loan\n",
    "loan_data_copy.loc[:, 'monthly_loan_repayment'] = loan_data_copy['loan_amount']/loan_data_copy['term_in_months']\n",
    "\n",
    "# get the year that the loan was issued\n",
    "loan_data_copy.loc[:,'disbursement_year'] = loan_data['disbursed_time'].dt.year\n",
    "\n",
    "# create a pivot-table\n",
    "tab8 = pd.pivot_table(loan_data_copy, values=['monthly_loan_repayment'], columns='disbursement_year', index=['country'], aggfunc='mean')\n",
    "\n",
    "# drop level and rename columns\n",
    "tab8 = tab8.droplevel('disbursement_year', axis=1)\n",
    "tab8.columns = ['monthly_loan_repayment 2013', 'monthly_loan_repayment 2014',\n",
    "                'monthly_loan_repayment 2015', 'monthly_loan_repayment 2016',\n",
    "                'monthly_loan_repayment 2017']\n",
    "\n",
    "# make some index entries into columns\n",
    "tab8 = tab8.reset_index(level=['country'])\n",
    "\n",
    "# and display all results\n",
    "tab8"
   ]
  },
  {
   "cell_type": "markdown",
   "id": "cheap-stick",
   "metadata": {},
   "source": [
    "<br>\n",
    "\n",
    "We need to find the countries shared in common between the Kiva.org and the UN dataset as follows:"
   ]
  },
  {
   "cell_type": "code",
   "execution_count": 47,
   "id": "quarterly-guatemala",
   "metadata": {
    "tags": [
     "hide-cell"
    ]
   },
   "outputs": [
    {
     "name": "stdout",
     "output_type": "stream",
     "text": [
      "['Afghanistan' 'Albania' 'Armenia' 'Azerbaijan' 'Belize' 'Benin' 'Bhutan'\n",
      " 'Bolivia' 'Brazil' 'Burkina Faso' 'Burundi' 'Cambodia' 'Cameroon' 'Chile'\n",
      " 'China' 'Colombia' 'Congo' 'Costa Rica' \"Cote D'Ivoire\"\n",
      " 'Dominican Republic' 'Ecuador' 'Egypt' 'El Salvador' 'Georgia' 'Ghana'\n",
      " 'Guatemala' 'Haiti' 'Honduras' 'India' 'Indonesia' 'Iraq' 'Israel'\n",
      " 'Jordan' 'Kenya' 'Kosovo' 'Kyrgyzstan' \"Lao People's Democratic Republic\"\n",
      " 'Lebanon' 'Lesotho' 'Liberia' 'Madagascar' 'Malawi' 'Mali' 'Mauritania'\n",
      " 'Mexico' 'Moldova' 'Mongolia' 'Mozambique' 'Myanmar (Burma)' 'Namibia'\n",
      " 'Nepal' 'Nicaragua' 'Nigeria' 'Pakistan' 'Palestine' 'Panama' 'Paraguay'\n",
      " 'Peru' 'Philippines' 'Puerto Rico' 'Rwanda'\n",
      " 'Saint Vincent and the Grenadines' 'Samoa' 'Senegal' 'Sierra Leone'\n",
      " 'Solomon Islands' 'Somalia' 'South Africa' 'South Sudan' 'Suriname'\n",
      " 'Tajikistan' 'Tanzania' 'Thailand' 'The Democratic Republic of the Congo'\n",
      " 'Timor-Leste' 'Togo' 'Turkey' 'Uganda' 'Ukraine' 'United States'\n",
      " 'Vanuatu' 'Vietnam' 'Yemen' 'Zambia' 'Zimbabwe']\n",
      "\n",
      "['American Samoa' 'Cambodia' 'China' 'Indonesia' 'Kiribati' 'Malaysia'\n",
      " 'Marshall Islands' 'Mongolia' 'Northern Mariana Islands' 'Palau'\n",
      " 'Philippines' 'Thailand' 'Timor-Leste' 'Vietnam' 'Albania' 'Armenia'\n",
      " 'Belarus' 'Bosnia and Herzegovina' 'Bulgaria' 'Croatia' 'Czech Republic'\n",
      " 'Estonia' 'Georgia' 'Hungary' 'Kazakhstan' 'Kosovo' 'Kyrgyz Republic'\n",
      " 'Latvia' 'Lithuania' 'Moldova' 'Montenegro' 'North Macedonia' 'Poland'\n",
      " 'Romania' 'Russian Federation' 'Serbia' 'Slovak Republic' 'Slovenia'\n",
      " 'Turkey' 'Ukraine' 'Uzbekistan' 'Argentina' 'Belize' 'Bolivia' 'Brazil'\n",
      " 'Chile' 'Colombia' 'Costa Rica' 'Cuba' 'Dominican Republic' 'Ecuador'\n",
      " 'El Salvador' 'Guatemala' 'Haiti' 'Honduras' 'Jamaica' 'Mexico'\n",
      " 'Nicaragua' 'Panama' 'Paraguay' 'Peru' 'Uruguay' 'Algeria'\n",
      " 'Egypt, Arab Republic of' 'Iran, Islamic Republic of' 'Jordan' 'Lebanon'\n",
      " 'Morocco' 'Oman' 'West Bank and Gaza' 'Australia' 'Austria'\n",
      " 'Bahamas, The' 'Bahrain' 'Belgium' 'Brunei Darussalam' 'Canada' 'Cyprus'\n",
      " 'Denmark' 'Finland' 'France' 'Germany' 'Greece' 'Greenland' 'Guam'\n",
      " 'Hong Kong SAR, China' 'Iceland' 'Ireland' 'Israel' 'Italy' 'Japan'\n",
      " 'Korea, Republic of' 'Kuwait' 'Luxembourg' 'Macao SAR, China'\n",
      " 'Netherlands' 'New Zealand' 'Norway' 'Portugal' 'Puerto Rico'\n",
      " 'Saudi Arabia' 'Singapore' 'Spain' 'Sweden' 'Switzerland'\n",
      " 'United Arab Emirates' 'United Kingdom' 'United States'\n",
      " 'Virgin Islands, US' 'Bangladesh' 'Bhutan' 'India' 'Nepal' 'Pakistan'\n",
      " 'Sri Lanka' 'Angola' 'Benin' 'Botswana' 'Burkina Faso' 'Burundi'\n",
      " 'Cabo Verde' 'Cameroon' 'Central African Republic' 'Chad' 'Comoros'\n",
      " 'Congo, Democratic Republic of' 'Congo, Republic of' \"Cote d'Ivoire\"\n",
      " 'Equatorial Guinea' 'Eswatini' 'Gabon' 'Gambia, The' 'Ghana' 'Guinea'\n",
      " 'Guinea-Bissau' 'Kenya' 'Lesotho' 'Liberia' 'Madagascar' 'Malawi' 'Mali'\n",
      " 'Mauritania' 'Mauritius' 'Mozambique' 'Namibia' 'Niger' 'Nigeria'\n",
      " 'Rwanda' 'Senegal' 'Sierra Leone' 'South Africa' 'Sudan' 'Tanzania'\n",
      " 'Togo' 'Uganda' 'Zimbabwe']\n"
     ]
    }
   ],
   "source": [
    "# compare country/territory labels in the 2 datasets\n",
    "print(tab8['country'].unique())\n",
    "print('')\n",
    "print(MonthlyExpenditure['country'].unique())"
   ]
  },
  {
   "cell_type": "code",
   "execution_count": 48,
   "id": "moral-hours",
   "metadata": {
    "tags": [
     "hide-cell"
    ]
   },
   "outputs": [
    {
     "data": {
      "text/html": [
       "<div>\n",
       "<style scoped>\n",
       "    .dataframe tbody tr th:only-of-type {\n",
       "        vertical-align: middle;\n",
       "    }\n",
       "\n",
       "    .dataframe tbody tr th {\n",
       "        vertical-align: top;\n",
       "    }\n",
       "\n",
       "    .dataframe thead th {\n",
       "        text-align: right;\n",
       "    }\n",
       "</style>\n",
       "<table border=\"1\" class=\"dataframe\">\n",
       "  <thead>\n",
       "    <tr style=\"text-align: right;\">\n",
       "      <th></th>\n",
       "      <th>country</th>\n",
       "      <th>monthly_loan_repayment 2013</th>\n",
       "      <th>monthly_loan_repayment 2014</th>\n",
       "      <th>monthly_loan_repayment 2015</th>\n",
       "      <th>monthly_loan_repayment 2016</th>\n",
       "      <th>monthly_loan_repayment 2017</th>\n",
       "    </tr>\n",
       "  </thead>\n",
       "  <tbody>\n",
       "    <tr>\n",
       "      <th>0</th>\n",
       "      <td>Afghanistan</td>\n",
       "      <td>NaN</td>\n",
       "      <td>NaN</td>\n",
       "      <td>750.000000</td>\n",
       "      <td>1333.333333</td>\n",
       "      <td>NaN</td>\n",
       "    </tr>\n",
       "    <tr>\n",
       "      <th>3</th>\n",
       "      <td>Azerbaijan</td>\n",
       "      <td>105.071779</td>\n",
       "      <td>108.725509</td>\n",
       "      <td>82.548595</td>\n",
       "      <td>59.692751</td>\n",
       "      <td>NaN</td>\n",
       "    </tr>\n",
       "    <tr>\n",
       "      <th>30</th>\n",
       "      <td>Iraq</td>\n",
       "      <td>173.604827</td>\n",
       "      <td>198.899334</td>\n",
       "      <td>186.551621</td>\n",
       "      <td>NaN</td>\n",
       "      <td>NaN</td>\n",
       "    </tr>\n",
       "    <tr>\n",
       "      <th>36</th>\n",
       "      <td>Lao People's Democratic Republic</td>\n",
       "      <td>NaN</td>\n",
       "      <td>122.887368</td>\n",
       "      <td>76.689249</td>\n",
       "      <td>78.100108</td>\n",
       "      <td>55.966610</td>\n",
       "    </tr>\n",
       "    <tr>\n",
       "      <th>48</th>\n",
       "      <td>Myanmar</td>\n",
       "      <td>NaN</td>\n",
       "      <td>1084.647495</td>\n",
       "      <td>301.828805</td>\n",
       "      <td>153.652721</td>\n",
       "      <td>80.601104</td>\n",
       "    </tr>\n",
       "    <tr>\n",
       "      <th>61</th>\n",
       "      <td>Saint Vincent and the Grenadines</td>\n",
       "      <td>NaN</td>\n",
       "      <td>43.601190</td>\n",
       "      <td>91.355946</td>\n",
       "      <td>NaN</td>\n",
       "      <td>NaN</td>\n",
       "    </tr>\n",
       "    <tr>\n",
       "      <th>62</th>\n",
       "      <td>Samoa</td>\n",
       "      <td>45.125878</td>\n",
       "      <td>64.451621</td>\n",
       "      <td>56.148887</td>\n",
       "      <td>63.796669</td>\n",
       "      <td>60.880531</td>\n",
       "    </tr>\n",
       "    <tr>\n",
       "      <th>65</th>\n",
       "      <td>Solomon Islands</td>\n",
       "      <td>NaN</td>\n",
       "      <td>50.795455</td>\n",
       "      <td>64.064459</td>\n",
       "      <td>79.784429</td>\n",
       "      <td>69.712160</td>\n",
       "    </tr>\n",
       "    <tr>\n",
       "      <th>66</th>\n",
       "      <td>Somalia</td>\n",
       "      <td>NaN</td>\n",
       "      <td>272.774699</td>\n",
       "      <td>230.544232</td>\n",
       "      <td>564.285714</td>\n",
       "      <td>510.714286</td>\n",
       "    </tr>\n",
       "    <tr>\n",
       "      <th>68</th>\n",
       "      <td>South Sudan</td>\n",
       "      <td>NaN</td>\n",
       "      <td>75.533234</td>\n",
       "      <td>44.681710</td>\n",
       "      <td>NaN</td>\n",
       "      <td>6250.000000</td>\n",
       "    </tr>\n",
       "    <tr>\n",
       "      <th>69</th>\n",
       "      <td>Suriname</td>\n",
       "      <td>NaN</td>\n",
       "      <td>331.387203</td>\n",
       "      <td>232.768221</td>\n",
       "      <td>263.640545</td>\n",
       "      <td>NaN</td>\n",
       "    </tr>\n",
       "    <tr>\n",
       "      <th>70</th>\n",
       "      <td>Tajikistan</td>\n",
       "      <td>67.230372</td>\n",
       "      <td>66.099868</td>\n",
       "      <td>53.060960</td>\n",
       "      <td>40.184397</td>\n",
       "      <td>37.572885</td>\n",
       "    </tr>\n",
       "    <tr>\n",
       "      <th>80</th>\n",
       "      <td>Vanuatu</td>\n",
       "      <td>NaN</td>\n",
       "      <td>62.500000</td>\n",
       "      <td>NaN</td>\n",
       "      <td>NaN</td>\n",
       "      <td>NaN</td>\n",
       "    </tr>\n",
       "    <tr>\n",
       "      <th>82</th>\n",
       "      <td>Yemen</td>\n",
       "      <td>62.567830</td>\n",
       "      <td>57.303204</td>\n",
       "      <td>60.290609</td>\n",
       "      <td>43.056244</td>\n",
       "      <td>42.720586</td>\n",
       "    </tr>\n",
       "    <tr>\n",
       "      <th>83</th>\n",
       "      <td>Zambia</td>\n",
       "      <td>NaN</td>\n",
       "      <td>81.800068</td>\n",
       "      <td>93.311061</td>\n",
       "      <td>107.013918</td>\n",
       "      <td>74.278048</td>\n",
       "    </tr>\n",
       "  </tbody>\n",
       "</table>\n",
       "</div>"
      ],
      "text/plain": [
       "                             country  monthly_loan_repayment 2013  \\\n",
       "0                        Afghanistan                          NaN   \n",
       "3                         Azerbaijan                   105.071779   \n",
       "30                              Iraq                   173.604827   \n",
       "36  Lao People's Democratic Republic                          NaN   \n",
       "48                           Myanmar                          NaN   \n",
       "61  Saint Vincent and the Grenadines                          NaN   \n",
       "62                             Samoa                    45.125878   \n",
       "65                   Solomon Islands                          NaN   \n",
       "66                           Somalia                          NaN   \n",
       "68                       South Sudan                          NaN   \n",
       "69                          Suriname                          NaN   \n",
       "70                        Tajikistan                    67.230372   \n",
       "80                           Vanuatu                          NaN   \n",
       "82                             Yemen                    62.567830   \n",
       "83                            Zambia                          NaN   \n",
       "\n",
       "    monthly_loan_repayment 2014  monthly_loan_repayment 2015  \\\n",
       "0                           NaN                   750.000000   \n",
       "3                    108.725509                    82.548595   \n",
       "30                   198.899334                   186.551621   \n",
       "36                   122.887368                    76.689249   \n",
       "48                  1084.647495                   301.828805   \n",
       "61                    43.601190                    91.355946   \n",
       "62                    64.451621                    56.148887   \n",
       "65                    50.795455                    64.064459   \n",
       "66                   272.774699                   230.544232   \n",
       "68                    75.533234                    44.681710   \n",
       "69                   331.387203                   232.768221   \n",
       "70                    66.099868                    53.060960   \n",
       "80                    62.500000                          NaN   \n",
       "82                    57.303204                    60.290609   \n",
       "83                    81.800068                    93.311061   \n",
       "\n",
       "    monthly_loan_repayment 2016  monthly_loan_repayment 2017  \n",
       "0                   1333.333333                          NaN  \n",
       "3                     59.692751                          NaN  \n",
       "30                          NaN                          NaN  \n",
       "36                    78.100108                    55.966610  \n",
       "48                   153.652721                    80.601104  \n",
       "61                          NaN                          NaN  \n",
       "62                    63.796669                    60.880531  \n",
       "65                    79.784429                    69.712160  \n",
       "66                   564.285714                   510.714286  \n",
       "68                          NaN                  6250.000000  \n",
       "69                   263.640545                          NaN  \n",
       "70                    40.184397                    37.572885  \n",
       "80                          NaN                          NaN  \n",
       "82                    43.056244                    42.720586  \n",
       "83                   107.013918                    74.278048  "
      ]
     },
     "execution_count": 48,
     "metadata": {},
     "output_type": "execute_result"
    }
   ],
   "source": [
    "# MATCH COUNTRIES IN KIVA LOAN DATA AND THOSE IN THE ORIGINAL DATASET IF THEY HAVE DIFFERENT SPELLINGS \n",
    "\n",
    "tab8.iloc[16,0] = 'Congo, Republic of'\n",
    "tab8.iloc[18,0] = \"Cote d'Ivoire\"\n",
    "tab8.iloc[21,0] = 'Egypt, Arab Republic of'\n",
    "tab8.iloc[35,0] = 'Kyrgyz Republic'\n",
    "tab8.iloc[48,0] = 'Myanmar'\n",
    "tab8.iloc[54,0] = 'West Bank and Gaza'\n",
    "# tab8.iloc[61,0] missing in other dataset\n",
    "# tab8.iloc[62,0] missing in other dataset; only have American Samoa\n",
    "\n",
    "# tab8.iloc[63,0] missing in other dataset\n",
    "# tab8.iloc[65,0] missing in other dataset\n",
    "# tab8.iloc[66,0] missing in other dataset\n",
    "tab8.iloc[73,0] = 'Congo, Democratic Republic of'\n",
    "# tab8.iloc[82,0] missing in other dataset\n",
    "\n",
    "#CHECK FOR COUNTRIES NOT WITHIN EITHER ONE OF THE DATASET\n",
    "tab8[tab8['country'].isin(MonthlyExpenditure['country']) == False]"
   ]
  },
  {
   "cell_type": "markdown",
   "id": "accepting-roads",
   "metadata": {},
   "source": [
    "The table above shows countries that are missing in either of the datasets and will not be included.\n",
    "\n",
    "**The percentage of monthly expenditure that the average citizen devote to loan repayments is visualized below:**"
   ]
  },
  {
   "cell_type": "code",
   "execution_count": 49,
   "id": "gentle-benjamin",
   "metadata": {
    "tags": [
     "hide-cell"
    ]
   },
   "outputs": [
    {
     "name": "stdout",
     "output_type": "stream",
     "text": [
      "The shape of tab8 before merge:  (85, 6)\n",
      "The shape of tab8 after merge:  (70, 11)\n"
     ]
    }
   ],
   "source": [
    "# initial status message\n",
    "print('The shape of tab8 before merge: ', tab8.shape)\n",
    "\n",
    "# join the data, keeping only relevant entries\n",
    "tab8 = tab8.merge(MonthlyExpenditure, on='country')\n",
    "\n",
    "# final status message\n",
    "print('The shape of tab8 after merge: ', tab8.shape)"
   ]
  },
  {
   "cell_type": "code",
   "execution_count": 50,
   "id": "obvious-folder",
   "metadata": {
    "tags": [
     "hide-cell"
    ]
   },
   "outputs": [],
   "source": [
    "years = ['2013','2014','2015','2016','2017']\n",
    "\n",
    "for year in years:\n",
    "    tab8.loc[:, f'% of monthly expenditure, {year}'] = (tab8[f'monthly_loan_repayment {year}']/tab8[f'{year}']) * 100\n",
    "    tab8[f'% of monthly expenditure, {year}'] = round(tab8[f'% of monthly expenditure, {year}'], 2)\n",
    "    tab8 = tab8.drop([f'monthly_loan_repayment {year}',f'{year}'], axis=1)\n",
    "\n",
    "# sort the results in descending order\n",
    "tab8 = tab8.sort_values(by=['% of monthly expenditure, 2017'], ascending=False)"
   ]
  },
  {
   "cell_type": "code",
   "execution_count": 51,
   "id": "former-object",
   "metadata": {
    "tags": [
     "hide-input"
    ]
   },
   "outputs": [
    {
     "data": {
      "image/png": "[encoded data removed]",
      "text/plain": [
       "<Figure size 432x288 with 1 Axes>"
      ]
     },
     "metadata": {
      "needs_background": "light"
     },
     "output_type": "display_data"
    },
    {
     "name": "stdout",
     "output_type": "stream",
     "text": [
      "\n",
      "\n"
     ]
    },
    {
     "data": {
      "image/png": "[encoded data removed]",
      "text/plain": [
       "<Figure size 432x288 with 1 Axes>"
      ]
     },
     "metadata": {
      "needs_background": "light"
     },
     "output_type": "display_data"
    }
   ],
   "source": [
    "fig, ax = plt.subplots()\n",
    "\n",
    "ax.bar(tab8.head(10).iloc[:,0],\n",
    "       tab8.head(10)['% of monthly expenditure, 2017'],\n",
    "       color='crimson')\n",
    "\n",
    "#plt.ylabel('Funding gap per loan')\n",
    "\n",
    "ax.set_xticklabels(labels=tab8.head(10).iloc[:,0], rotation = (90), fontsize = 10, va='top', ha='left')\n",
    "\n",
    "#plt.xlabel('Sectors')\n",
    "\n",
    "plt.title('COUNTRIES WITH THE HEAVIEST LOAN BURDEN')\n",
    "\n",
    "plt.show()\n",
    "\n",
    "print ('\\n')\n",
    "\n",
    "fig, ax = plt.subplots()\n",
    "\n",
    "ax.bar(tab8.tail(10).iloc[:,0],\n",
    "       tab8.tail(10)['% of monthly expenditure, 2017'],\n",
    "       color='green')\n",
    "\n",
    "#plt.ylabel('Funding gap per loan')\n",
    "\n",
    "ax.set_xticklabels(labels=tab8.tail(10).iloc[:,0], rotation = (90), fontsize = 10, va='top', ha='left')\n",
    "\n",
    "#plt.xlabel('Sectors')\n",
    "\n",
    "plt.title('COUNTRIES WITH THE LIGHTEST LOAN BURDEN')\n",
    "\n",
    "plt.show()"
   ]
  },
  {
   "cell_type": "markdown",
   "id": "opposite-briefing",
   "metadata": {},
   "source": [
    "<br>\n",
    "\n",
    "_**2. What geographical regions have the highest and lowest levels of poverty?**_\n",
    "\n",
    "This is measured by the Multidimensional Poverty Index (MPI). This was obtained as follows:"
   ]
  },
  {
   "cell_type": "code",
   "execution_count": 52,
   "id": "acting-rogers",
   "metadata": {
    "tags": [
     "hide-cell"
    ]
   },
   "outputs": [
    {
     "name": "stdout",
     "output_type": "stream",
     "text": [
      "(671205, 26)\n",
      "Number of null values in the \"region\" column:  56800\n",
      "Number of null values in the \"country_code\" column:  8\n",
      "Number of null values in the \"country\" column:  0\n",
      "\n",
      "N/B:  558379 number of loan records have regions that are not covered in both datasets.\n",
      "      80765 number of loan records have countries that are not covered in both datasets.\n"
     ]
    }
   ],
   "source": [
    "print(loan_data_copy.shape)\n",
    "print('Number of null values in the \"region\" column: ',loan_data_copy['region'].isnull().sum())\n",
    "print('Number of null values in the \"country_code\" column: ',loan_data_copy['country_code'].isnull().sum())\n",
    "print('Number of null values in the \"country\" column: ',loan_data_copy['country'].isnull().sum())\n",
    "print('')\n",
    "print('N/B: ', loan_data_copy[loan_data_copy['region'].isin(location_data['region']) == False].shape[0],\n",
    "      'number of loan records have regions that are not covered in both datasets.')\n",
    "print('     ', loan_data_copy[loan_data_copy['country'].isin(location_data['country']) == False].shape[0],\n",
    "      'number of loan records have countries that are not covered in both datasets.')"
   ]
  },
  {
   "cell_type": "markdown",
   "id": "jewish-nancy",
   "metadata": {},
   "source": [
    "<br>\n",
    "\n",
    "**Based on country:**\n",
    "\n",
    "<br>"
   ]
  },
  {
   "cell_type": "code",
   "execution_count": 53,
   "id": "split-september",
   "metadata": {
    "tags": [
     "hide-input"
    ]
   },
   "outputs": [
    {
     "data": {
      "image/png": "[encoded data removed]",
      "text/plain": [
       "<Figure size 432x288 with 1 Axes>"
      ]
     },
     "metadata": {
      "needs_background": "light"
     },
     "output_type": "display_data"
    },
    {
     "name": "stdout",
     "output_type": "stream",
     "text": [
      "\n",
      "\n"
     ]
    },
    {
     "data": {
      "image/png": "[encoded data removed]",
      "text/plain": [
       "<Figure size 432x288 with 1 Axes>"
      ]
     },
     "metadata": {
      "needs_background": "light"
     },
     "output_type": "display_data"
    }
   ],
   "source": [
    "# Let's first get a national average for MPI\n",
    "# create a pivot-table\n",
    "tab9 = pd.pivot_table(location_data, values=['MPI'], index=['country'], aggfunc='min')\n",
    "\n",
    "# rename the MPI\n",
    "tab9.columns = ['national_minimum_of_MPI']\n",
    "\n",
    "# make some index entries into columns\n",
    "tab9 = tab9.reset_index(level=['country'])\n",
    "\n",
    "# sort the results in descending order\n",
    "tab9 = tab9.sort_values(by=['national_minimum_of_MPI'], ascending=False)\n",
    "\n",
    "# display all results\n",
    "fig, ax = plt.subplots()\n",
    "ax.bar(tab9.iloc[0:10,0], tab9.iloc[0:10,1], color='crimson')\n",
    "plt.ylabel('MPI (national minimum)')\n",
    "ax.set_xticklabels(labels=tab9.iloc[0:10,0], rotation = (90), fontsize = 10, va='top', ha='left')\n",
    "plt.xlabel('Top 10 countries')\n",
    "plt.title('COUNTRIES THAT HAD THE HIGHEST LEVEL OF POVERTY AS AT 2017')\n",
    "plt.show()\n",
    "\n",
    "print('\\n')\n",
    "\n",
    "# sort the results in ascending order\n",
    "tab9 = tab9.sort_values(by=['national_minimum_of_MPI'], ascending=True)\n",
    "\n",
    "# display all results\n",
    "fig, ax = plt.subplots()\n",
    "ax.bar(tab9.iloc[0:10,0], tab9.iloc[0:10,1], color='green')\n",
    "plt.ylabel('MPI (national minimum)')\n",
    "ax.set_xticklabels(labels=tab9.iloc[0:10,0], rotation = (90), fontsize = 10, va='top', ha='left')\n",
    "plt.xlabel('Bottom 10 countries')\n",
    "plt.title('COUNTRIES THAT HAD THE LOWEST LEVEL OF POVERTY AS AT 2017')\n",
    "plt.show()"
   ]
  },
  {
   "cell_type": "markdown",
   "id": "bacterial-ghana",
   "metadata": {},
   "source": [
    "<br>\n",
    "\n",
    "Based on the results above, countries with high MPI values are not receiving the most funding - in fact, El-Salvador, a country with one of the lowest MPI scores was one of the top 10 countries that received the most funding.\n",
    "\n",
    "**Based on in-country regions:**"
   ]
  },
  {
   "cell_type": "code",
   "execution_count": 54,
   "id": "technical-contributor",
   "metadata": {
    "tags": [
     "hide-cell"
    ]
   },
   "outputs": [],
   "source": [
    "region_data = loan_data_copy[loan_data_copy['region'].isin(location_data['region']) == True]\n",
    "region_data = region_data.copy()\n",
    "\n",
    "tab10 = pd.pivot_table(region_data, values=['funded_amount', 'loan_amount',\n",
    "                                            'number_of_all_borrowers', 'monthly_loan_repayment'],\n",
    "                       index=['region'], aggfunc='sum')\n",
    "\n",
    "# make some index entries into columns\n",
    "tab10 = tab10.reset_index(level=['region'])\n",
    "\n",
    "tab11 = pd.pivot_table(region_data, values=['id'],\n",
    "                       index=['region'], aggfunc='count')\n",
    "\n",
    "# rename the aggregated column\n",
    "tab11.columns = ['number_of_loans']\n",
    "\n",
    "# make some index entries into columns\n",
    "tab11 = tab11.reset_index(level=['region'])"
   ]
  },
  {
   "cell_type": "code",
   "execution_count": 55,
   "id": "fossil-moisture",
   "metadata": {
    "tags": [
     "hide-cell"
    ]
   },
   "outputs": [
    {
     "name": "stdout",
     "output_type": "stream",
     "text": [
      "The shape of tab10 before merge:  (131, 5)\n",
      "The shape of tab10 after merge:  (131, 6)\n",
      "The shape of tab10 before merge:  (131, 6)\n",
      "The shape of tab10 after merge:  (144, 14)\n"
     ]
    }
   ],
   "source": [
    "# initial status message\n",
    "print('The shape of tab10 before merge: ', tab10.shape)\n",
    "\n",
    "# join the data, keeping only relevant entries\n",
    "tab10 = tab10.merge(tab11, on='region')\n",
    "\n",
    "# final status message\n",
    "print('The shape of tab10 after merge: ', tab10.shape)\n",
    "\n",
    "\n",
    "# initial status message\n",
    "print('The shape of tab10 before merge: ', tab10.shape)\n",
    "\n",
    "# join the data, keeping only relevant entries\n",
    "tab10 = tab10.merge(location_data, on='region')\n",
    "\n",
    "# final status message\n",
    "print('The shape of tab10 after merge: ', tab10.shape)"
   ]
  },
  {
   "cell_type": "code",
   "execution_count": 56,
   "id": "secondary-hierarchy",
   "metadata": {
    "tags": [
     "hide-input"
    ]
   },
   "outputs": [
    {
     "data": {
      "image/png": "[encoded data removed]",
      "text/plain": [
       "<Figure size 432x288 with 1 Axes>"
      ]
     },
     "metadata": {
      "needs_background": "light"
     },
     "output_type": "display_data"
    },
    {
     "name": "stdout",
     "output_type": "stream",
     "text": [
      "\n",
      "\n"
     ]
    },
    {
     "data": {
      "image/png": "[encoded data removed]",
      "text/plain": [
       "<Figure size 432x288 with 1 Axes>"
      ]
     },
     "metadata": {
      "needs_background": "light"
     },
     "output_type": "display_data"
    }
   ],
   "source": [
    "# sort the results in descending order\n",
    "tab10 = tab10.sort_values(by=['MPI'], ascending=False)\n",
    "\n",
    "# display all results\n",
    "fig, ax = plt.subplots()\n",
    "ax.bar(tab10.iloc[0:10,6], tab10.iloc[0:10,10], color='crimson')\n",
    "plt.ylabel('MPI')\n",
    "ax.set_xticklabels(labels=tab10.iloc[0:10,6], rotation = (90), fontsize = 10, va='top', ha='left')\n",
    "plt.xlabel('Top 10 regions')\n",
    "plt.title('REGIONS THAT HAD THE HIGHEST LEVEL OF POVERTY AS AT 2017')\n",
    "plt.show()\n",
    "\n",
    "print('\\n')\n",
    "\n",
    "# sort the results in ascending order\n",
    "tab10 = tab10.sort_values(by=['MPI'], ascending=True)\n",
    "\n",
    "# display all results\n",
    "fig, ax = plt.subplots()\n",
    "ax.bar(tab10.iloc[0:10,6], tab10.iloc[0:10,10], color='green')\n",
    "plt.ylabel('MPI')\n",
    "ax.set_xticklabels(labels=tab10.iloc[0:10,6], rotation = (90), fontsize = 10, va='top', ha='left')\n",
    "plt.xlabel('Bottom 10 regions')\n",
    "plt.title('REGIONS THAT HAD THE LOWEST LEVEL OF POVERTY AS AT 2017')\n",
    "plt.show()"
   ]
  },
  {
   "cell_type": "markdown",
   "id": "convinced-stress",
   "metadata": {
    "tags": [
     "hide-cell"
    ]
   },
   "source": [
    "Peru has the third highest number of loans and it is the third most funded country; based on the graph above, it has 3 regions among countries with the lowest MPI scores with the fourth region having an unknown MPI score."
   ]
  },
  {
   "cell_type": "markdown",
   "id": "continuing-oxygen",
   "metadata": {},
   "source": [
    "## Conclusions\n",
    "\n",
    "The welfare of borrowers that receive the largest amount of funding on Kiva can be viewed as good because:\n",
    "* Women form the bulk of the borrowers and they receive the highest number of funds, even as they have the highest shortfall.\n",
    "* Countries like Peru and El Salvador which based on the data have low MPI scores have received a lot of funding\n",
    "* The most valuable partnerships are those with social impact businesses, which implies that they are able to hanle regular payments as they make an income from their goods and services\n",
    "* Few borrowers are taking loans for personal use\n",
    "* Kenya and the Phillipines have a lot of funding for small loans; this implies that massive impact is being achieved in these countries because the loans are small enough to pay back and monthly repayments are taking up only 50% or less of their monthly income\n",
    "\n",
    "With that said, it is concerning to see that countries that have many more people in need are not accessing large amounts of funds; furthermore, even when they do, places like Burkina Faso, Sierra Leone and Mali had a high debt burden, trapping borrowers from these countries in poverty."
   ]
  }
 ],
 "metadata": {
  "kernelspec": {
   "display_name": "Python 3",
   "language": "python",
   "name": "python3"
  },
  "language_info": {
   "codemirror_mode": {
    "name": "ipython",
    "version": 3
   },
   "file_extension": ".py",
   "mimetype": "text/x-python",
   "name": "python",
   "nbconvert_exporter": "python",
   "pygments_lexer": "ipython3",
   "version": "3.9.0"
  }
 },
 "nbformat": 4,
 "nbformat_minor": 5
}
