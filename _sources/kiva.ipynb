{
 "cells": [
  {
   "cell_type": "code",
   "execution_count": 1,
   "id": "center-defeat",
   "metadata": {
    "tags": [
     "remove-cell"
    ]
   },
   "outputs": [],
   "source": [
    "import warnings\n",
    "warnings.filterwarnings('ignore')"
   ]
  },
  {
   "cell_type": "markdown",
   "id": "intimate-northwest",
   "metadata": {},
   "source": [
    "# Kiva Project\n",
    "\n",
    "**(adapted from https://bit.ly/2J7G9f8)**\n",
    "\n",
    "## PROBLEM:\n",
    "\n",
    "### Context\n",
    "\n",
    "Kiva.org is an online crowdfunding platform to extend financial services to poor and financially excluded people around the world. Kiva lenders have provided over $1 billion dollars in loans to over 2 million people.\n",
    "\n",
    "In order to set investment priorities, help inform lenders, and understand their target communities, knowing the level of poverty of each borrower is critical. However, this requires inference based on a limited set of information for each borrower.\n",
    "\n",
    "Submissions in this challenge will take the form of Python data analysis.\n",
    "\n",
    "Kiva has provided a dataset of loans issued over the 2014-2018 time period, and participants are invited to use this data as well as source external public datasets to help Kiva build models for assessing borrower welfare levels. With a stronger understanding of their borrowers and their poverty levels, Kiva will be able to better assess and maximize the impact of their work.\n",
    "\n",
    "### Problem statement\n",
    "\n",
    "For the locations in which Kiva has active loans, the objective is to pair Kiva's data with additional data sources to estimate the welfare level of borrowers in specific regions, based on shared economic and demographic characteristics.\n",
    "\n",
    "A good solution would connect the features of each loan or product to one of several poverty mapping datasets, which indicate the average level of welfare in a region on as granular a level as possible. Many datasets indicate the poverty rate in a given area, with varying levels of granularity. Kiva would like to be able to disaggregate these regional averages by gender, sector, or borrowing behavior in order to estimate a Kiva borrower’s level of welfare using all of the relevant information about them. Strong submissions will attempt to map vaguely described locations to more accurate geocodes.\n",
    "\n",
    "### Personal disclaimer\n",
    "\n",
    "From a research perspective, the results obtained are never going to be a full representation of the realities that borrowers experience. It is meant to spark a discussion around how we can identify the welfare level of borrowers and improve them where we can.\n",
    "\n",
    "\n",
    "## SOLUTION:\n",
    "\n",
    "### Python Packages & Functions\n",
    "\n",
    "Here we upload all the Python packages and datasets required for analysis."
   ]
  },
  {
   "cell_type": "code",
   "execution_count": 2,
   "id": "excess-flight",
   "metadata": {
    "tags": [
     "hide-input"
    ]
   },
   "outputs": [],
   "source": [
    "# Packages\n",
    "\n",
    "import numpy as np\n",
    "\n",
    "import pandas as pd\n",
    "\n",
    "\n",
    "import matplotlib.pyplot as plt\n",
    "\n",
    "import matplotlib.dates as mdates"
   ]
  },
  {
   "cell_type": "markdown",
   "id": "isolated-couple",
   "metadata": {},
   "source": [
    "### Data\n",
    "\n",
    "#### 1. Original Data"
   ]
  },
  {
   "cell_type": "code",
   "execution_count": 3,
   "id": "virgin-madness",
   "metadata": {
    "tags": [
     "hide-input"
    ]
   },
   "outputs": [],
   "source": [
    "loan_data = pd.read_csv('C://Users//CT//Documents//GitHub//knowledge-hub//book//csvs//kiva-project//kiva_loans.csv')\n",
    "\n",
    "location_data = pd.read_csv('C://Users//CT//Documents//GitHub//knowledge-hub//book//csvs//kiva-project//kiva_mpi_region_locations.csv')\n",
    "\n",
    "loan_themes  = pd.read_csv('C://Users//CT//Documents//GitHub//knowledge-hub//book//csvs//kiva-project//loan_theme_ids.csv')\n",
    "\n",
    "regional_lts = pd.read_csv('C://Users//CT//Documents//GitHub//knowledge-hub//book//csvs//kiva-project//loan_themes_by_region.csv')"
   ]
  },
  {
   "cell_type": "code",
   "execution_count": 4,
   "id": "pressed-wright",
   "metadata": {
    "tags": [
     "hide-input"
    ]
   },
   "outputs": [
    {
     "name": "stdout",
     "output_type": "stream",
     "text": [
      "loan_data shape: (671205, 20)\n",
      "location_data shape: (2772, 9)\n",
      "loan_themes shape: (779092, 4)\n",
      "regional_lts shape: (15736, 21)\n"
     ]
    }
   ],
   "source": [
    "dfs = {'loan_data':loan_data, 'location_data':location_data,\n",
    "       'loan_themes':loan_themes, 'regional_lts':regional_lts}\n",
    "\n",
    "for key, val in dfs.items():\n",
    "\n",
    "    print(str(key+' shape:'), val.shape)"
   ]
  },
  {
   "cell_type": "markdown",
   "id": "every-present",
   "metadata": {},
   "source": [
    "<br>\n",
    "\n",
    "<u>**Descriptions of the original datasets**</u>\n",
    " \n",
    " There are four data sources provided by Kiva:\n",
    "\n",
    "* ***loan_data***\n",
    "    1. **id** - Unique ID for loan\n",
    "    2. **funded_amount** - The amount disbursed by Kiva to the field agent (USD)\n",
    "    3. **loan_amount** - The amount disbursed by the field agent to the borrower (USD)\n",
    "    4. **activity** - More granular category\n",
    "    5. **sector** - High level category\n",
    "    6. **use** - Exact usage of loan amount\n",
    "    7. **country_code** - ISO country code of country in which loan was disbursed\n",
    "    8. **country** - Full country name of country in which loan was disbursed\n",
    "    9. **region** - Full region name within the country\n",
    "    10. **currency** - The currency in which the loan was disbursed\n",
    "    11. **partner_id** - ID of partner organization\n",
    "    12. **posted_time** - The time at which the loan is posted on Kiva by the field agent\n",
    "    13. **disbursed_time** - The time at which the loan is disbursed by the field agent to the borrower\n",
    "    14. **funded_time** - The time at which the loan posted to Kiva gets funded by lenders completely\n",
    "    15. **term_in_months** - The duration for which the loan was disbursed in months\n",
    "    16. **lender_count** - The total number of lenders that contributed to this loan\n",
    "    17. **tags**\n",
    "    18. **borrower_genders** - Comma separated M,F letters, where each instance represents a single male/female in the group\n",
    "    19. **repayment_interval**\n",
    "    20. **date**"
   ]
  },
  {
   "cell_type": "markdown",
   "id": "mineral-colombia",
   "metadata": {},
   "source": [
    "* ***location_data***\n",
    "    1. **LocationName** - region, country\n",
    "    2. **ISO** - some sort of unique abbreviation for country\n",
    "    3. **country** - country\n",
    "    4. **region** - region within country\n",
    "    5. **world_region** - parts of the world\n",
    "    6. **MPI** - multidimensional poverty index\n",
    "    7. **geo** - (latitude, longitude)\n",
    "    8. **lat** - latitude\n",
    "    9. **lon** - longitude"
   ]
  },
  {
   "cell_type": "markdown",
   "id": "round-zimbabwe",
   "metadata": {},
   "source": [
    "* ***loan_themes***\n",
    "    1. **id** - Unique ID for loan (Loan ID)\n",
    "    2. **Loan Theme ID** - ID for Loan Theme\n",
    "    3. **Loan Theme Type** - Category name of type of loan\n",
    "    4. **Partner ID**"
   ]
  },
  {
   "cell_type": "markdown",
   "id": "express-dance",
   "metadata": {},
   "source": [
    "* ***regional_lts***\n",
    "    1. **Partner ID**\n",
    "    2. **Field Partner Name**\n",
    "    3. **sector**\n",
    "    4. **Loan Theme ID**\n",
    "    5. **Loan Theme Type**\n",
    "    6. **country**\n",
    "    7. **forkiva**\n",
    "    8. **region**\n",
    "    9. **geocode_old**\n",
    "    10. **ISO**\n",
    "    11. **number**\n",
    "    12. **amount**\n",
    "    13. **LocationName**\n",
    "    14. **geocode**\n",
    "    15. **names**\n",
    "    16. **geo**\n",
    "    17. **lat**\n",
    "    18. **lon**\n",
    "    19. **mpi_region**\n",
    "    20. **mpi_geo**\n",
    "    21. **rural_pct**"
   ]
  },
  {
   "cell_type": "markdown",
   "id": "boolean-parts",
   "metadata": {},
   "source": [
    "<br>\n",
    "\n",
    "#### 2. Supplementary Data\n",
    "\n",
    "In this section, we aim to gather the following data from the World Bank:\n",
    "\n",
    "[Per Capita Expenditure (PCE)](https://www.quora.com/What-does-per-capita-expenditure-mean?share=1) for each country - this is the total market value of all purchases in a country divided by that country's total population (data: https://bit.ly/3blw0be)"
   ]
  },
  {
   "cell_type": "code",
   "execution_count": 5,
   "id": "killing-judge",
   "metadata": {
    "tags": [
     "hide-input"
    ]
   },
   "outputs": [
    {
     "name": "stdout",
     "output_type": "stream",
     "text": [
      "PCE data shape: (178, 62)\n"
     ]
    }
   ],
   "source": [
    "PCE_data = pd.read_csv('C://Users//CT//Documents//GitHub//knowledge-hub//book//csvs//kiva-project//PCE data.csv')\n",
    "\n",
    "print('PCE data shape:',PCE_data.shape)"
   ]
  },
  {
   "cell_type": "code",
   "execution_count": 6,
   "id": "ongoing-foundation",
   "metadata": {
    "tags": [
     "hide-input"
    ]
   },
   "outputs": [
    {
     "data": {
      "text/plain": [
       "dict_keys(['loan_data', 'location_data', 'loan_themes', 'regional_lts', 'PCE_data'])"
      ]
     },
     "execution_count": 6,
     "metadata": {},
     "output_type": "execute_result"
    }
   ],
   "source": [
    "# add this dataset to the dictionary\n",
    "dfs['PCE_data'] = PCE_data\n",
    "\n",
    "dfs.keys()"
   ]
  },
  {
   "cell_type": "markdown",
   "id": "streaming-lafayette",
   "metadata": {},
   "source": [
    "<br>\n",
    "\n",
    "#### Data Summary"
   ]
  },
  {
   "cell_type": "code",
   "execution_count": 7,
   "id": "basic-preservation",
   "metadata": {
    "tags": [
     "hide-input"
    ]
   },
   "outputs": [
    {
     "name": "stdout",
     "output_type": "stream",
     "text": [
      "\n",
      "SUMMARY STATISTICS WITHOUT AGGREGATION: loan_data \n",
      "\n"
     ]
    },
    {
     "data": {
      "text/html": [
       "<div>\n",
       "<style scoped>\n",
       "    .dataframe tbody tr th:only-of-type {\n",
       "        vertical-align: middle;\n",
       "    }\n",
       "\n",
       "    .dataframe tbody tr th {\n",
       "        vertical-align: top;\n",
       "    }\n",
       "\n",
       "    .dataframe thead th {\n",
       "        text-align: right;\n",
       "    }\n",
       "</style>\n",
       "<table border=\"1\" class=\"dataframe\">\n",
       "  <thead>\n",
       "    <tr style=\"text-align: right;\">\n",
       "      <th></th>\n",
       "      <th>id</th>\n",
       "      <th>funded_amount</th>\n",
       "      <th>loan_amount</th>\n",
       "      <th>partner_id</th>\n",
       "      <th>term_in_months</th>\n",
       "      <th>lender_count</th>\n",
       "    </tr>\n",
       "  </thead>\n",
       "  <tbody>\n",
       "    <tr>\n",
       "      <th>count</th>\n",
       "      <td>6.712050e+05</td>\n",
       "      <td>671205.000000</td>\n",
       "      <td>671205.000000</td>\n",
       "      <td>657698.000000</td>\n",
       "      <td>671205.000000</td>\n",
       "      <td>671205.000000</td>\n",
       "    </tr>\n",
       "    <tr>\n",
       "      <th>mean</th>\n",
       "      <td>9.932486e+05</td>\n",
       "      <td>785.995061</td>\n",
       "      <td>842.397107</td>\n",
       "      <td>178.199616</td>\n",
       "      <td>13.739022</td>\n",
       "      <td>20.590922</td>\n",
       "    </tr>\n",
       "    <tr>\n",
       "      <th>std</th>\n",
       "      <td>1.966113e+05</td>\n",
       "      <td>1130.398941</td>\n",
       "      <td>1198.660073</td>\n",
       "      <td>94.247581</td>\n",
       "      <td>8.598919</td>\n",
       "      <td>28.459551</td>\n",
       "    </tr>\n",
       "    <tr>\n",
       "      <th>min</th>\n",
       "      <td>6.530470e+05</td>\n",
       "      <td>0.000000</td>\n",
       "      <td>25.000000</td>\n",
       "      <td>9.000000</td>\n",
       "      <td>1.000000</td>\n",
       "      <td>0.000000</td>\n",
       "    </tr>\n",
       "    <tr>\n",
       "      <th>25%</th>\n",
       "      <td>8.230720e+05</td>\n",
       "      <td>250.000000</td>\n",
       "      <td>275.000000</td>\n",
       "      <td>126.000000</td>\n",
       "      <td>8.000000</td>\n",
       "      <td>7.000000</td>\n",
       "    </tr>\n",
       "    <tr>\n",
       "      <th>50%</th>\n",
       "      <td>9.927800e+05</td>\n",
       "      <td>450.000000</td>\n",
       "      <td>500.000000</td>\n",
       "      <td>145.000000</td>\n",
       "      <td>13.000000</td>\n",
       "      <td>13.000000</td>\n",
       "    </tr>\n",
       "    <tr>\n",
       "      <th>75%</th>\n",
       "      <td>1.163653e+06</td>\n",
       "      <td>900.000000</td>\n",
       "      <td>1000.000000</td>\n",
       "      <td>204.000000</td>\n",
       "      <td>14.000000</td>\n",
       "      <td>24.000000</td>\n",
       "    </tr>\n",
       "    <tr>\n",
       "      <th>max</th>\n",
       "      <td>1.340339e+06</td>\n",
       "      <td>100000.000000</td>\n",
       "      <td>100000.000000</td>\n",
       "      <td>536.000000</td>\n",
       "      <td>158.000000</td>\n",
       "      <td>2986.000000</td>\n",
       "    </tr>\n",
       "  </tbody>\n",
       "</table>\n",
       "</div>"
      ],
      "text/plain": [
       "                 id  funded_amount    loan_amount     partner_id  \\\n",
       "count  6.712050e+05  671205.000000  671205.000000  657698.000000   \n",
       "mean   9.932486e+05     785.995061     842.397107     178.199616   \n",
       "std    1.966113e+05    1130.398941    1198.660073      94.247581   \n",
       "min    6.530470e+05       0.000000      25.000000       9.000000   \n",
       "25%    8.230720e+05     250.000000     275.000000     126.000000   \n",
       "50%    9.927800e+05     450.000000     500.000000     145.000000   \n",
       "75%    1.163653e+06     900.000000    1000.000000     204.000000   \n",
       "max    1.340339e+06  100000.000000  100000.000000     536.000000   \n",
       "\n",
       "       term_in_months   lender_count  \n",
       "count   671205.000000  671205.000000  \n",
       "mean        13.739022      20.590922  \n",
       "std          8.598919      28.459551  \n",
       "min          1.000000       0.000000  \n",
       "25%          8.000000       7.000000  \n",
       "50%         13.000000      13.000000  \n",
       "75%         14.000000      24.000000  \n",
       "max        158.000000    2986.000000  "
      ]
     },
     "metadata": {},
     "output_type": "display_data"
    },
    {
     "name": "stdout",
     "output_type": "stream",
     "text": [
      "\n",
      "\n"
     ]
    },
    {
     "data": {
      "text/html": [
       "<div>\n",
       "<style scoped>\n",
       "    .dataframe tbody tr th:only-of-type {\n",
       "        vertical-align: middle;\n",
       "    }\n",
       "\n",
       "    .dataframe tbody tr th {\n",
       "        vertical-align: top;\n",
       "    }\n",
       "\n",
       "    .dataframe thead th {\n",
       "        text-align: right;\n",
       "    }\n",
       "</style>\n",
       "<table border=\"1\" class=\"dataframe\">\n",
       "  <thead>\n",
       "    <tr style=\"text-align: right;\">\n",
       "      <th></th>\n",
       "      <th>activity</th>\n",
       "      <th>sector</th>\n",
       "      <th>use</th>\n",
       "      <th>country_code</th>\n",
       "      <th>country</th>\n",
       "      <th>region</th>\n",
       "      <th>currency</th>\n",
       "      <th>posted_time</th>\n",
       "      <th>disbursed_time</th>\n",
       "      <th>funded_time</th>\n",
       "      <th>tags</th>\n",
       "      <th>borrower_genders</th>\n",
       "      <th>repayment_interval</th>\n",
       "      <th>date</th>\n",
       "    </tr>\n",
       "  </thead>\n",
       "  <tbody>\n",
       "    <tr>\n",
       "      <th>count</th>\n",
       "      <td>671205</td>\n",
       "      <td>671205</td>\n",
       "      <td>666973</td>\n",
       "      <td>671197</td>\n",
       "      <td>671205</td>\n",
       "      <td>614405</td>\n",
       "      <td>671205</td>\n",
       "      <td>671205</td>\n",
       "      <td>668809</td>\n",
       "      <td>622874</td>\n",
       "      <td>499789</td>\n",
       "      <td>666984</td>\n",
       "      <td>671205</td>\n",
       "      <td>671205</td>\n",
       "    </tr>\n",
       "    <tr>\n",
       "      <th>unique</th>\n",
       "      <td>163</td>\n",
       "      <td>15</td>\n",
       "      <td>424912</td>\n",
       "      <td>86</td>\n",
       "      <td>87</td>\n",
       "      <td>12695</td>\n",
       "      <td>67</td>\n",
       "      <td>667399</td>\n",
       "      <td>5719</td>\n",
       "      <td>498007</td>\n",
       "      <td>86719</td>\n",
       "      <td>11298</td>\n",
       "      <td>4</td>\n",
       "      <td>1298</td>\n",
       "    </tr>\n",
       "    <tr>\n",
       "      <th>top</th>\n",
       "      <td>Farming</td>\n",
       "      <td>Agriculture</td>\n",
       "      <td>to buy a water filter to provide safe drinking...</td>\n",
       "      <td>PH</td>\n",
       "      <td>Philippines</td>\n",
       "      <td>Kaduna</td>\n",
       "      <td>PHP</td>\n",
       "      <td>2017-05-15 00:00:00+00:00</td>\n",
       "      <td>2017-02-01 08:00:00+00:00</td>\n",
       "      <td>2016-09-21 13:03:24+00:00</td>\n",
       "      <td>user_favorite</td>\n",
       "      <td>female</td>\n",
       "      <td>monthly</td>\n",
       "      <td>2017-03-20</td>\n",
       "    </tr>\n",
       "    <tr>\n",
       "      <th>freq</th>\n",
       "      <td>72955</td>\n",
       "      <td>180302</td>\n",
       "      <td>5217</td>\n",
       "      <td>160441</td>\n",
       "      <td>160441</td>\n",
       "      <td>10000</td>\n",
       "      <td>160440</td>\n",
       "      <td>25</td>\n",
       "      <td>2800</td>\n",
       "      <td>33</td>\n",
       "      <td>27088</td>\n",
       "      <td>426502</td>\n",
       "      <td>342717</td>\n",
       "      <td>1308</td>\n",
       "    </tr>\n",
       "  </tbody>\n",
       "</table>\n",
       "</div>"
      ],
      "text/plain": [
       "       activity       sector  \\\n",
       "count    671205       671205   \n",
       "unique      163           15   \n",
       "top     Farming  Agriculture   \n",
       "freq      72955       180302   \n",
       "\n",
       "                                                      use country_code  \\\n",
       "count                                              666973       671197   \n",
       "unique                                             424912           86   \n",
       "top     to buy a water filter to provide safe drinking...           PH   \n",
       "freq                                                 5217       160441   \n",
       "\n",
       "            country  region currency                posted_time  \\\n",
       "count        671205  614405   671205                     671205   \n",
       "unique           87   12695       67                     667399   \n",
       "top     Philippines  Kaduna      PHP  2017-05-15 00:00:00+00:00   \n",
       "freq         160441   10000   160440                         25   \n",
       "\n",
       "                   disbursed_time                funded_time           tags  \\\n",
       "count                      668809                     622874         499789   \n",
       "unique                       5719                     498007          86719   \n",
       "top     2017-02-01 08:00:00+00:00  2016-09-21 13:03:24+00:00  user_favorite   \n",
       "freq                         2800                         33          27088   \n",
       "\n",
       "       borrower_genders repayment_interval        date  \n",
       "count            666984             671205      671205  \n",
       "unique            11298                  4        1298  \n",
       "top              female            monthly  2017-03-20  \n",
       "freq             426502             342717        1308  "
      ]
     },
     "metadata": {},
     "output_type": "display_data"
    },
    {
     "name": "stdout",
     "output_type": "stream",
     "text": [
      "\n",
      "\n",
      "\n",
      "SUMMARY STATISTICS WITHOUT AGGREGATION: location_data \n",
      "\n"
     ]
    },
    {
     "data": {
      "text/html": [
       "<div>\n",
       "<style scoped>\n",
       "    .dataframe tbody tr th:only-of-type {\n",
       "        vertical-align: middle;\n",
       "    }\n",
       "\n",
       "    .dataframe tbody tr th {\n",
       "        vertical-align: top;\n",
       "    }\n",
       "\n",
       "    .dataframe thead th {\n",
       "        text-align: right;\n",
       "    }\n",
       "</style>\n",
       "<table border=\"1\" class=\"dataframe\">\n",
       "  <thead>\n",
       "    <tr style=\"text-align: right;\">\n",
       "      <th></th>\n",
       "      <th>MPI</th>\n",
       "      <th>lat</th>\n",
       "      <th>lon</th>\n",
       "    </tr>\n",
       "  </thead>\n",
       "  <tbody>\n",
       "    <tr>\n",
       "      <th>count</th>\n",
       "      <td>984.000000</td>\n",
       "      <td>892.000000</td>\n",
       "      <td>892.000000</td>\n",
       "    </tr>\n",
       "    <tr>\n",
       "      <th>mean</th>\n",
       "      <td>0.211330</td>\n",
       "      <td>9.169710</td>\n",
       "      <td>16.635888</td>\n",
       "    </tr>\n",
       "    <tr>\n",
       "      <th>std</th>\n",
       "      <td>0.183621</td>\n",
       "      <td>16.484531</td>\n",
       "      <td>61.234566</td>\n",
       "    </tr>\n",
       "    <tr>\n",
       "      <th>min</th>\n",
       "      <td>0.000000</td>\n",
       "      <td>-34.947896</td>\n",
       "      <td>-122.747131</td>\n",
       "    </tr>\n",
       "    <tr>\n",
       "      <th>25%</th>\n",
       "      <td>0.053000</td>\n",
       "      <td>-1.027901</td>\n",
       "      <td>-12.819854</td>\n",
       "    </tr>\n",
       "    <tr>\n",
       "      <th>50%</th>\n",
       "      <td>0.155000</td>\n",
       "      <td>11.211379</td>\n",
       "      <td>26.419389</td>\n",
       "    </tr>\n",
       "    <tr>\n",
       "      <th>75%</th>\n",
       "      <td>0.341500</td>\n",
       "      <td>18.084292</td>\n",
       "      <td>47.019436</td>\n",
       "    </tr>\n",
       "    <tr>\n",
       "      <th>max</th>\n",
       "      <td>0.744000</td>\n",
       "      <td>49.264748</td>\n",
       "      <td>138.581284</td>\n",
       "    </tr>\n",
       "  </tbody>\n",
       "</table>\n",
       "</div>"
      ],
      "text/plain": [
       "              MPI         lat         lon\n",
       "count  984.000000  892.000000  892.000000\n",
       "mean     0.211330    9.169710   16.635888\n",
       "std      0.183621   16.484531   61.234566\n",
       "min      0.000000  -34.947896 -122.747131\n",
       "25%      0.053000   -1.027901  -12.819854\n",
       "50%      0.155000   11.211379   26.419389\n",
       "75%      0.341500   18.084292   47.019436\n",
       "max      0.744000   49.264748  138.581284"
      ]
     },
     "metadata": {},
     "output_type": "display_data"
    },
    {
     "name": "stdout",
     "output_type": "stream",
     "text": [
      "\n",
      "\n"
     ]
    },
    {
     "data": {
      "text/html": [
       "<div>\n",
       "<style scoped>\n",
       "    .dataframe tbody tr th:only-of-type {\n",
       "        vertical-align: middle;\n",
       "    }\n",
       "\n",
       "    .dataframe tbody tr th {\n",
       "        vertical-align: top;\n",
       "    }\n",
       "\n",
       "    .dataframe thead th {\n",
       "        text-align: right;\n",
       "    }\n",
       "</style>\n",
       "<table border=\"1\" class=\"dataframe\">\n",
       "  <thead>\n",
       "    <tr style=\"text-align: right;\">\n",
       "      <th></th>\n",
       "      <th>LocationName</th>\n",
       "      <th>ISO</th>\n",
       "      <th>country</th>\n",
       "      <th>region</th>\n",
       "      <th>world_region</th>\n",
       "      <th>geo</th>\n",
       "    </tr>\n",
       "  </thead>\n",
       "  <tbody>\n",
       "    <tr>\n",
       "      <th>count</th>\n",
       "      <td>984</td>\n",
       "      <td>1008</td>\n",
       "      <td>1008</td>\n",
       "      <td>984</td>\n",
       "      <td>1008</td>\n",
       "      <td>2772</td>\n",
       "    </tr>\n",
       "    <tr>\n",
       "      <th>unique</th>\n",
       "      <td>984</td>\n",
       "      <td>102</td>\n",
       "      <td>102</td>\n",
       "      <td>928</td>\n",
       "      <td>6</td>\n",
       "      <td>881</td>\n",
       "    </tr>\n",
       "    <tr>\n",
       "      <th>top</th>\n",
       "      <td>Tadla-Azilal, Morocco</td>\n",
       "      <td>NGA</td>\n",
       "      <td>Nigeria</td>\n",
       "      <td>Eastern</td>\n",
       "      <td>Sub-Saharan Africa</td>\n",
       "      <td>(1000.0, 1000.0)</td>\n",
       "    </tr>\n",
       "    <tr>\n",
       "      <th>freq</th>\n",
       "      <td>1</td>\n",
       "      <td>37</td>\n",
       "      <td>37</td>\n",
       "      <td>8</td>\n",
       "      <td>432</td>\n",
       "      <td>1880</td>\n",
       "    </tr>\n",
       "  </tbody>\n",
       "</table>\n",
       "</div>"
      ],
      "text/plain": [
       "                 LocationName   ISO  country   region        world_region  \\\n",
       "count                     984  1008     1008      984                1008   \n",
       "unique                    984   102      102      928                   6   \n",
       "top     Tadla-Azilal, Morocco   NGA  Nigeria  Eastern  Sub-Saharan Africa   \n",
       "freq                        1    37       37        8                 432   \n",
       "\n",
       "                     geo  \n",
       "count               2772  \n",
       "unique               881  \n",
       "top     (1000.0, 1000.0)  \n",
       "freq                1880  "
      ]
     },
     "metadata": {},
     "output_type": "display_data"
    },
    {
     "name": "stdout",
     "output_type": "stream",
     "text": [
      "\n",
      "\n",
      "\n",
      "SUMMARY STATISTICS WITHOUT AGGREGATION: loan_themes \n",
      "\n"
     ]
    },
    {
     "data": {
      "text/html": [
       "<div>\n",
       "<style scoped>\n",
       "    .dataframe tbody tr th:only-of-type {\n",
       "        vertical-align: middle;\n",
       "    }\n",
       "\n",
       "    .dataframe tbody tr th {\n",
       "        vertical-align: top;\n",
       "    }\n",
       "\n",
       "    .dataframe thead th {\n",
       "        text-align: right;\n",
       "    }\n",
       "</style>\n",
       "<table border=\"1\" class=\"dataframe\">\n",
       "  <thead>\n",
       "    <tr style=\"text-align: right;\">\n",
       "      <th></th>\n",
       "      <th>id</th>\n",
       "      <th>Partner ID</th>\n",
       "    </tr>\n",
       "  </thead>\n",
       "  <tbody>\n",
       "    <tr>\n",
       "      <th>count</th>\n",
       "      <td>7.790920e+05</td>\n",
       "      <td>764279.000000</td>\n",
       "    </tr>\n",
       "    <tr>\n",
       "      <th>mean</th>\n",
       "      <td>1.047475e+06</td>\n",
       "      <td>180.825840</td>\n",
       "    </tr>\n",
       "    <tr>\n",
       "      <th>std</th>\n",
       "      <td>2.282538e+05</td>\n",
       "      <td>97.914029</td>\n",
       "    </tr>\n",
       "    <tr>\n",
       "      <th>min</th>\n",
       "      <td>6.386310e+05</td>\n",
       "      <td>9.000000</td>\n",
       "    </tr>\n",
       "    <tr>\n",
       "      <th>25%</th>\n",
       "      <td>8.499768e+05</td>\n",
       "      <td>126.000000</td>\n",
       "    </tr>\n",
       "    <tr>\n",
       "      <th>50%</th>\n",
       "      <td>1.046528e+06</td>\n",
       "      <td>145.000000</td>\n",
       "    </tr>\n",
       "    <tr>\n",
       "      <th>75%</th>\n",
       "      <td>1.244768e+06</td>\n",
       "      <td>204.000000</td>\n",
       "    </tr>\n",
       "    <tr>\n",
       "      <th>max</th>\n",
       "      <td>1.444243e+06</td>\n",
       "      <td>557.000000</td>\n",
       "    </tr>\n",
       "  </tbody>\n",
       "</table>\n",
       "</div>"
      ],
      "text/plain": [
       "                 id     Partner ID\n",
       "count  7.790920e+05  764279.000000\n",
       "mean   1.047475e+06     180.825840\n",
       "std    2.282538e+05      97.914029\n",
       "min    6.386310e+05       9.000000\n",
       "25%    8.499768e+05     126.000000\n",
       "50%    1.046528e+06     145.000000\n",
       "75%    1.244768e+06     204.000000\n",
       "max    1.444243e+06     557.000000"
      ]
     },
     "metadata": {},
     "output_type": "display_data"
    },
    {
     "name": "stdout",
     "output_type": "stream",
     "text": [
      "\n",
      "\n"
     ]
    },
    {
     "data": {
      "text/html": [
       "<div>\n",
       "<style scoped>\n",
       "    .dataframe tbody tr th:only-of-type {\n",
       "        vertical-align: middle;\n",
       "    }\n",
       "\n",
       "    .dataframe tbody tr th {\n",
       "        vertical-align: top;\n",
       "    }\n",
       "\n",
       "    .dataframe thead th {\n",
       "        text-align: right;\n",
       "    }\n",
       "</style>\n",
       "<table border=\"1\" class=\"dataframe\">\n",
       "  <thead>\n",
       "    <tr style=\"text-align: right;\">\n",
       "      <th></th>\n",
       "      <th>Loan Theme ID</th>\n",
       "      <th>Loan Theme Type</th>\n",
       "    </tr>\n",
       "  </thead>\n",
       "  <tbody>\n",
       "    <tr>\n",
       "      <th>count</th>\n",
       "      <td>764279</td>\n",
       "      <td>764279</td>\n",
       "    </tr>\n",
       "    <tr>\n",
       "      <th>unique</th>\n",
       "      <td>956</td>\n",
       "      <td>203</td>\n",
       "    </tr>\n",
       "    <tr>\n",
       "      <th>top</th>\n",
       "      <td>a1050000000wf0q</td>\n",
       "      <td>General</td>\n",
       "    </tr>\n",
       "    <tr>\n",
       "      <th>freq</th>\n",
       "      <td>110264</td>\n",
       "      <td>380693</td>\n",
       "    </tr>\n",
       "  </tbody>\n",
       "</table>\n",
       "</div>"
      ],
      "text/plain": [
       "          Loan Theme ID Loan Theme Type\n",
       "count            764279          764279\n",
       "unique              956             203\n",
       "top     a1050000000wf0q         General\n",
       "freq             110264          380693"
      ]
     },
     "metadata": {},
     "output_type": "display_data"
    },
    {
     "name": "stdout",
     "output_type": "stream",
     "text": [
      "\n",
      "\n",
      "\n",
      "SUMMARY STATISTICS WITHOUT AGGREGATION: regional_lts \n",
      "\n"
     ]
    },
    {
     "data": {
      "text/html": [
       "<div>\n",
       "<style scoped>\n",
       "    .dataframe tbody tr th:only-of-type {\n",
       "        vertical-align: middle;\n",
       "    }\n",
       "\n",
       "    .dataframe tbody tr th {\n",
       "        vertical-align: top;\n",
       "    }\n",
       "\n",
       "    .dataframe thead th {\n",
       "        text-align: right;\n",
       "    }\n",
       "</style>\n",
       "<table border=\"1\" class=\"dataframe\">\n",
       "  <thead>\n",
       "    <tr style=\"text-align: right;\">\n",
       "      <th></th>\n",
       "      <th>Partner ID</th>\n",
       "      <th>number</th>\n",
       "      <th>amount</th>\n",
       "      <th>lat</th>\n",
       "      <th>lon</th>\n",
       "      <th>rural_pct</th>\n",
       "    </tr>\n",
       "  </thead>\n",
       "  <tbody>\n",
       "    <tr>\n",
       "      <th>count</th>\n",
       "      <td>15736.000000</td>\n",
       "      <td>15736.000000</td>\n",
       "      <td>1.573600e+04</td>\n",
       "      <td>13662.000000</td>\n",
       "      <td>13662.000000</td>\n",
       "      <td>14344.000000</td>\n",
       "    </tr>\n",
       "    <tr>\n",
       "      <th>mean</th>\n",
       "      <td>191.376144</td>\n",
       "      <td>53.628432</td>\n",
       "      <td>2.003991e+04</td>\n",
       "      <td>14.328878</td>\n",
       "      <td>29.433569</td>\n",
       "      <td>68.084635</td>\n",
       "    </tr>\n",
       "    <tr>\n",
       "      <th>std</th>\n",
       "      <td>118.705003</td>\n",
       "      <td>403.079799</td>\n",
       "      <td>9.636941e+04</td>\n",
       "      <td>16.757689</td>\n",
       "      <td>83.255739</td>\n",
       "      <td>26.550064</td>\n",
       "    </tr>\n",
       "    <tr>\n",
       "      <th>min</th>\n",
       "      <td>9.000000</td>\n",
       "      <td>1.000000</td>\n",
       "      <td>2.500000e+01</td>\n",
       "      <td>-34.610548</td>\n",
       "      <td>-172.790661</td>\n",
       "      <td>0.000000</td>\n",
       "    </tr>\n",
       "    <tr>\n",
       "      <th>25%</th>\n",
       "      <td>123.000000</td>\n",
       "      <td>1.000000</td>\n",
       "      <td>9.500000e+02</td>\n",
       "      <td>6.266728</td>\n",
       "      <td>-71.967463</td>\n",
       "      <td>60.000000</td>\n",
       "    </tr>\n",
       "    <tr>\n",
       "      <th>50%</th>\n",
       "      <td>154.000000</td>\n",
       "      <td>4.000000</td>\n",
       "      <td>2.600000e+03</td>\n",
       "      <td>13.484101</td>\n",
       "      <td>41.899993</td>\n",
       "      <td>73.000000</td>\n",
       "    </tr>\n",
       "    <tr>\n",
       "      <th>75%</th>\n",
       "      <td>217.000000</td>\n",
       "      <td>15.000000</td>\n",
       "      <td>8.750000e+03</td>\n",
       "      <td>22.189940</td>\n",
       "      <td>106.677321</td>\n",
       "      <td>85.000000</td>\n",
       "    </tr>\n",
       "    <tr>\n",
       "      <th>max</th>\n",
       "      <td>545.000000</td>\n",
       "      <td>22538.000000</td>\n",
       "      <td>4.929900e+06</td>\n",
       "      <td>51.314017</td>\n",
       "      <td>159.972900</td>\n",
       "      <td>100.000000</td>\n",
       "    </tr>\n",
       "  </tbody>\n",
       "</table>\n",
       "</div>"
      ],
      "text/plain": [
       "         Partner ID        number        amount           lat           lon  \\\n",
       "count  15736.000000  15736.000000  1.573600e+04  13662.000000  13662.000000   \n",
       "mean     191.376144     53.628432  2.003991e+04     14.328878     29.433569   \n",
       "std      118.705003    403.079799  9.636941e+04     16.757689     83.255739   \n",
       "min        9.000000      1.000000  2.500000e+01    -34.610548   -172.790661   \n",
       "25%      123.000000      1.000000  9.500000e+02      6.266728    -71.967463   \n",
       "50%      154.000000      4.000000  2.600000e+03     13.484101     41.899993   \n",
       "75%      217.000000     15.000000  8.750000e+03     22.189940    106.677321   \n",
       "max      545.000000  22538.000000  4.929900e+06     51.314017    159.972900   \n",
       "\n",
       "          rural_pct  \n",
       "count  14344.000000  \n",
       "mean      68.084635  \n",
       "std       26.550064  \n",
       "min        0.000000  \n",
       "25%       60.000000  \n",
       "50%       73.000000  \n",
       "75%       85.000000  \n",
       "max      100.000000  "
      ]
     },
     "metadata": {},
     "output_type": "display_data"
    },
    {
     "name": "stdout",
     "output_type": "stream",
     "text": [
      "\n",
      "\n"
     ]
    },
    {
     "data": {
      "text/html": [
       "<div>\n",
       "<style scoped>\n",
       "    .dataframe tbody tr th:only-of-type {\n",
       "        vertical-align: middle;\n",
       "    }\n",
       "\n",
       "    .dataframe tbody tr th {\n",
       "        vertical-align: top;\n",
       "    }\n",
       "\n",
       "    .dataframe thead th {\n",
       "        text-align: right;\n",
       "    }\n",
       "</style>\n",
       "<table border=\"1\" class=\"dataframe\">\n",
       "  <thead>\n",
       "    <tr style=\"text-align: right;\">\n",
       "      <th></th>\n",
       "      <th>Field Partner Name</th>\n",
       "      <th>sector</th>\n",
       "      <th>Loan Theme ID</th>\n",
       "      <th>Loan Theme Type</th>\n",
       "      <th>country</th>\n",
       "      <th>forkiva</th>\n",
       "      <th>region</th>\n",
       "      <th>geocode_old</th>\n",
       "      <th>ISO</th>\n",
       "      <th>LocationName</th>\n",
       "      <th>geocode</th>\n",
       "      <th>names</th>\n",
       "      <th>geo</th>\n",
       "      <th>mpi_region</th>\n",
       "      <th>mpi_geo</th>\n",
       "    </tr>\n",
       "  </thead>\n",
       "  <tbody>\n",
       "    <tr>\n",
       "      <th>count</th>\n",
       "      <td>15736</td>\n",
       "      <td>15736</td>\n",
       "      <td>15736</td>\n",
       "      <td>15736</td>\n",
       "      <td>15736</td>\n",
       "      <td>15736</td>\n",
       "      <td>15736</td>\n",
       "      <td>1200</td>\n",
       "      <td>15722</td>\n",
       "      <td>15736</td>\n",
       "      <td>13662</td>\n",
       "      <td>13661</td>\n",
       "      <td>15736</td>\n",
       "      <td>15722</td>\n",
       "      <td>9671</td>\n",
       "    </tr>\n",
       "    <tr>\n",
       "      <th>unique</th>\n",
       "      <td>302</td>\n",
       "      <td>11</td>\n",
       "      <td>718</td>\n",
       "      <td>170</td>\n",
       "      <td>79</td>\n",
       "      <td>2</td>\n",
       "      <td>9526</td>\n",
       "      <td>340</td>\n",
       "      <td>77</td>\n",
       "      <td>9561</td>\n",
       "      <td>6557</td>\n",
       "      <td>6275</td>\n",
       "      <td>6558</td>\n",
       "      <td>392</td>\n",
       "      <td>335</td>\n",
       "    </tr>\n",
       "    <tr>\n",
       "      <th>top</th>\n",
       "      <td>Alalay sa Kaunlaran (ASKI)</td>\n",
       "      <td>General Financial Inclusion</td>\n",
       "      <td>a1050000000wf0V</td>\n",
       "      <td>General</td>\n",
       "      <td>Philippines</td>\n",
       "      <td>No</td>\n",
       "      <td>Chouf</td>\n",
       "      <td>(-1.2833333, 36.8166667)</td>\n",
       "      <td>PHL</td>\n",
       "      <td>Chouf, Lebanon</td>\n",
       "      <td>[(19.7126764, 105.8393447)]</td>\n",
       "      <td>Philippines</td>\n",
       "      <td>(1000.0, 1000.0)</td>\n",
       "      <td>Northern Mindanao, Philippines</td>\n",
       "      <td>(8.020163499999999, 124.6856509)</td>\n",
       "    </tr>\n",
       "    <tr>\n",
       "      <th>freq</th>\n",
       "      <td>1207</td>\n",
       "      <td>13679</td>\n",
       "      <td>1152</td>\n",
       "      <td>5661</td>\n",
       "      <td>3467</td>\n",
       "      <td>13211</td>\n",
       "      <td>25</td>\n",
       "      <td>20</td>\n",
       "      <td>3467</td>\n",
       "      <td>25</td>\n",
       "      <td>43</td>\n",
       "      <td>137</td>\n",
       "      <td>2074</td>\n",
       "      <td>1174</td>\n",
       "      <td>1174</td>\n",
       "    </tr>\n",
       "  </tbody>\n",
       "</table>\n",
       "</div>"
      ],
      "text/plain": [
       "                Field Partner Name                       sector  \\\n",
       "count                        15736                        15736   \n",
       "unique                         302                           11   \n",
       "top     Alalay sa Kaunlaran (ASKI)  General Financial Inclusion   \n",
       "freq                          1207                        13679   \n",
       "\n",
       "          Loan Theme ID Loan Theme Type      country forkiva region  \\\n",
       "count             15736           15736        15736   15736  15736   \n",
       "unique              718             170           79       2   9526   \n",
       "top     a1050000000wf0V         General  Philippines      No  Chouf   \n",
       "freq               1152            5661         3467   13211     25   \n",
       "\n",
       "                     geocode_old    ISO    LocationName  \\\n",
       "count                       1200  15722           15736   \n",
       "unique                       340     77            9561   \n",
       "top     (-1.2833333, 36.8166667)    PHL  Chouf, Lebanon   \n",
       "freq                          20   3467              25   \n",
       "\n",
       "                            geocode        names               geo  \\\n",
       "count                         13662        13661             15736   \n",
       "unique                         6557         6275              6558   \n",
       "top     [(19.7126764, 105.8393447)]  Philippines  (1000.0, 1000.0)   \n",
       "freq                             43          137              2074   \n",
       "\n",
       "                            mpi_region                           mpi_geo  \n",
       "count                            15722                              9671  \n",
       "unique                             392                               335  \n",
       "top     Northern Mindanao, Philippines  (8.020163499999999, 124.6856509)  \n",
       "freq                              1174                              1174  "
      ]
     },
     "metadata": {},
     "output_type": "display_data"
    },
    {
     "name": "stdout",
     "output_type": "stream",
     "text": [
      "\n",
      "\n",
      "\n",
      "SUMMARY STATISTICS WITHOUT AGGREGATION: PCE_data \n",
      "\n"
     ]
    },
    {
     "data": {
      "text/html": [
       "<div>\n",
       "<style scoped>\n",
       "    .dataframe tbody tr th:only-of-type {\n",
       "        vertical-align: middle;\n",
       "    }\n",
       "\n",
       "    .dataframe tbody tr th {\n",
       "        vertical-align: top;\n",
       "    }\n",
       "\n",
       "    .dataframe thead th {\n",
       "        text-align: right;\n",
       "    }\n",
       "</style>\n",
       "<table border=\"1\" class=\"dataframe\">\n",
       "  <thead>\n",
       "    <tr style=\"text-align: right;\">\n",
       "      <th></th>\n",
       "      <th>1960</th>\n",
       "      <th>1961</th>\n",
       "      <th>1962</th>\n",
       "      <th>1963</th>\n",
       "      <th>1964</th>\n",
       "      <th>1965</th>\n",
       "      <th>1966</th>\n",
       "      <th>1967</th>\n",
       "      <th>1968</th>\n",
       "      <th>1969</th>\n",
       "      <th>...</th>\n",
       "      <th>2010</th>\n",
       "      <th>2011</th>\n",
       "      <th>2012</th>\n",
       "      <th>2013</th>\n",
       "      <th>2014</th>\n",
       "      <th>2015</th>\n",
       "      <th>2016</th>\n",
       "      <th>2017</th>\n",
       "      <th>2018</th>\n",
       "      <th>Unnamed: 60</th>\n",
       "    </tr>\n",
       "  </thead>\n",
       "  <tbody>\n",
       "    <tr>\n",
       "      <th>count</th>\n",
       "      <td>42.000000</td>\n",
       "      <td>43.000000</td>\n",
       "      <td>44.000000</td>\n",
       "      <td>44.000000</td>\n",
       "      <td>46.000000</td>\n",
       "      <td>49.000000</td>\n",
       "      <td>50.000000</td>\n",
       "      <td>51.000000</td>\n",
       "      <td>51.000000</td>\n",
       "      <td>52.000000</td>\n",
       "      <td>...</td>\n",
       "      <td>178.000000</td>\n",
       "      <td>165.000000</td>\n",
       "      <td>164.000000</td>\n",
       "      <td>163.000000</td>\n",
       "      <td>161.000000</td>\n",
       "      <td>159.000000</td>\n",
       "      <td>158.000000</td>\n",
       "      <td>156.000000</td>\n",
       "      <td>147.000000</td>\n",
       "      <td>0.0</td>\n",
       "    </tr>\n",
       "    <tr>\n",
       "      <th>mean</th>\n",
       "      <td>1809.494762</td>\n",
       "      <td>1847.716977</td>\n",
       "      <td>1877.875227</td>\n",
       "      <td>1940.011136</td>\n",
       "      <td>2015.650652</td>\n",
       "      <td>2010.033673</td>\n",
       "      <td>2288.681000</td>\n",
       "      <td>2320.084902</td>\n",
       "      <td>2392.880000</td>\n",
       "      <td>2671.819423</td>\n",
       "      <td>...</td>\n",
       "      <td>7432.308315</td>\n",
       "      <td>7394.381152</td>\n",
       "      <td>7501.210305</td>\n",
       "      <td>7620.346564</td>\n",
       "      <td>7789.201615</td>\n",
       "      <td>7952.960314</td>\n",
       "      <td>8114.411582</td>\n",
       "      <td>8357.417692</td>\n",
       "      <td>8682.582653</td>\n",
       "      <td>NaN</td>\n",
       "    </tr>\n",
       "    <tr>\n",
       "      <th>std</th>\n",
       "      <td>2328.596444</td>\n",
       "      <td>2368.869204</td>\n",
       "      <td>2396.605752</td>\n",
       "      <td>2484.395372</td>\n",
       "      <td>2564.813108</td>\n",
       "      <td>2590.874723</td>\n",
       "      <td>3100.951093</td>\n",
       "      <td>3202.102899</td>\n",
       "      <td>3313.045327</td>\n",
       "      <td>3692.897134</td>\n",
       "      <td>...</td>\n",
       "      <td>9241.753759</td>\n",
       "      <td>8860.780457</td>\n",
       "      <td>8887.466955</td>\n",
       "      <td>8930.195998</td>\n",
       "      <td>9055.941821</td>\n",
       "      <td>9209.450015</td>\n",
       "      <td>9352.514087</td>\n",
       "      <td>9508.928613</td>\n",
       "      <td>9765.671221</td>\n",
       "      <td>NaN</td>\n",
       "    </tr>\n",
       "    <tr>\n",
       "      <th>min</th>\n",
       "      <td>5.400000</td>\n",
       "      <td>5.460000</td>\n",
       "      <td>6.260000</td>\n",
       "      <td>7.100000</td>\n",
       "      <td>7.600000</td>\n",
       "      <td>7.830000</td>\n",
       "      <td>8.960000</td>\n",
       "      <td>8.720000</td>\n",
       "      <td>8.820000</td>\n",
       "      <td>9.000000</td>\n",
       "      <td>...</td>\n",
       "      <td>189.820000</td>\n",
       "      <td>198.280000</td>\n",
       "      <td>199.700000</td>\n",
       "      <td>213.930000</td>\n",
       "      <td>215.140000</td>\n",
       "      <td>204.180000</td>\n",
       "      <td>194.430000</td>\n",
       "      <td>188.640000</td>\n",
       "      <td>189.160000</td>\n",
       "      <td>NaN</td>\n",
       "    </tr>\n",
       "    <tr>\n",
       "      <th>25%</th>\n",
       "      <td>638.492500</td>\n",
       "      <td>615.280000</td>\n",
       "      <td>586.805000</td>\n",
       "      <td>615.527500</td>\n",
       "      <td>574.932500</td>\n",
       "      <td>524.920000</td>\n",
       "      <td>570.900000</td>\n",
       "      <td>577.155000</td>\n",
       "      <td>583.605000</td>\n",
       "      <td>581.315000</td>\n",
       "      <td>...</td>\n",
       "      <td>1038.437500</td>\n",
       "      <td>1071.930000</td>\n",
       "      <td>1175.210000</td>\n",
       "      <td>1257.215000</td>\n",
       "      <td>1326.620000</td>\n",
       "      <td>1312.475000</td>\n",
       "      <td>1439.117500</td>\n",
       "      <td>1523.852500</td>\n",
       "      <td>1552.660000</td>\n",
       "      <td>NaN</td>\n",
       "    </tr>\n",
       "    <tr>\n",
       "      <th>50%</th>\n",
       "      <td>947.700000</td>\n",
       "      <td>958.810000</td>\n",
       "      <td>1090.455000</td>\n",
       "      <td>1131.675000</td>\n",
       "      <td>1166.285000</td>\n",
       "      <td>1056.250000</td>\n",
       "      <td>1181.270000</td>\n",
       "      <td>1233.510000</td>\n",
       "      <td>1212.540000</td>\n",
       "      <td>1266.920000</td>\n",
       "      <td>...</td>\n",
       "      <td>3180.270000</td>\n",
       "      <td>3264.480000</td>\n",
       "      <td>3280.025000</td>\n",
       "      <td>3569.600000</td>\n",
       "      <td>3813.130000</td>\n",
       "      <td>3945.950000</td>\n",
       "      <td>4085.135000</td>\n",
       "      <td>4403.790000</td>\n",
       "      <td>4579.960000</td>\n",
       "      <td>NaN</td>\n",
       "    </tr>\n",
       "    <tr>\n",
       "      <th>75%</th>\n",
       "      <td>2022.472500</td>\n",
       "      <td>2058.570000</td>\n",
       "      <td>2096.865000</td>\n",
       "      <td>2161.477500</td>\n",
       "      <td>2315.760000</td>\n",
       "      <td>2330.140000</td>\n",
       "      <td>2511.492500</td>\n",
       "      <td>2537.875000</td>\n",
       "      <td>2602.420000</td>\n",
       "      <td>2824.700000</td>\n",
       "      <td>...</td>\n",
       "      <td>9308.487500</td>\n",
       "      <td>8833.490000</td>\n",
       "      <td>9080.125000</td>\n",
       "      <td>9492.310000</td>\n",
       "      <td>9691.510000</td>\n",
       "      <td>10008.145000</td>\n",
       "      <td>10458.250000</td>\n",
       "      <td>10925.800000</td>\n",
       "      <td>11395.550000</td>\n",
       "      <td>NaN</td>\n",
       "    </tr>\n",
       "    <tr>\n",
       "      <th>max</th>\n",
       "      <td>10350.000000</td>\n",
       "      <td>10847.400000</td>\n",
       "      <td>11143.700000</td>\n",
       "      <td>11568.600000</td>\n",
       "      <td>11941.800000</td>\n",
       "      <td>12326.700000</td>\n",
       "      <td>13818.600000</td>\n",
       "      <td>14632.700000</td>\n",
       "      <td>15066.200000</td>\n",
       "      <td>15839.300000</td>\n",
       "      <td>...</td>\n",
       "      <td>48546.600000</td>\n",
       "      <td>40030.900000</td>\n",
       "      <td>40534.200000</td>\n",
       "      <td>41121.300000</td>\n",
       "      <td>41139.500000</td>\n",
       "      <td>41384.100000</td>\n",
       "      <td>41516.800000</td>\n",
       "      <td>41636.300000</td>\n",
       "      <td>41717.200000</td>\n",
       "      <td>NaN</td>\n",
       "    </tr>\n",
       "  </tbody>\n",
       "</table>\n",
       "<p>8 rows × 60 columns</p>\n",
       "</div>"
      ],
      "text/plain": [
       "               1960          1961          1962          1963          1964  \\\n",
       "count     42.000000     43.000000     44.000000     44.000000     46.000000   \n",
       "mean    1809.494762   1847.716977   1877.875227   1940.011136   2015.650652   \n",
       "std     2328.596444   2368.869204   2396.605752   2484.395372   2564.813108   \n",
       "min        5.400000      5.460000      6.260000      7.100000      7.600000   \n",
       "25%      638.492500    615.280000    586.805000    615.527500    574.932500   \n",
       "50%      947.700000    958.810000   1090.455000   1131.675000   1166.285000   \n",
       "75%     2022.472500   2058.570000   2096.865000   2161.477500   2315.760000   \n",
       "max    10350.000000  10847.400000  11143.700000  11568.600000  11941.800000   \n",
       "\n",
       "               1965          1966          1967          1968          1969  \\\n",
       "count     49.000000     50.000000     51.000000     51.000000     52.000000   \n",
       "mean    2010.033673   2288.681000   2320.084902   2392.880000   2671.819423   \n",
       "std     2590.874723   3100.951093   3202.102899   3313.045327   3692.897134   \n",
       "min        7.830000      8.960000      8.720000      8.820000      9.000000   \n",
       "25%      524.920000    570.900000    577.155000    583.605000    581.315000   \n",
       "50%     1056.250000   1181.270000   1233.510000   1212.540000   1266.920000   \n",
       "75%     2330.140000   2511.492500   2537.875000   2602.420000   2824.700000   \n",
       "max    12326.700000  13818.600000  14632.700000  15066.200000  15839.300000   \n",
       "\n",
       "       ...          2010          2011          2012          2013  \\\n",
       "count  ...    178.000000    165.000000    164.000000    163.000000   \n",
       "mean   ...   7432.308315   7394.381152   7501.210305   7620.346564   \n",
       "std    ...   9241.753759   8860.780457   8887.466955   8930.195998   \n",
       "min    ...    189.820000    198.280000    199.700000    213.930000   \n",
       "25%    ...   1038.437500   1071.930000   1175.210000   1257.215000   \n",
       "50%    ...   3180.270000   3264.480000   3280.025000   3569.600000   \n",
       "75%    ...   9308.487500   8833.490000   9080.125000   9492.310000   \n",
       "max    ...  48546.600000  40030.900000  40534.200000  41121.300000   \n",
       "\n",
       "               2014          2015          2016          2017          2018  \\\n",
       "count    161.000000    159.000000    158.000000    156.000000    147.000000   \n",
       "mean    7789.201615   7952.960314   8114.411582   8357.417692   8682.582653   \n",
       "std     9055.941821   9209.450015   9352.514087   9508.928613   9765.671221   \n",
       "min      215.140000    204.180000    194.430000    188.640000    189.160000   \n",
       "25%     1326.620000   1312.475000   1439.117500   1523.852500   1552.660000   \n",
       "50%     3813.130000   3945.950000   4085.135000   4403.790000   4579.960000   \n",
       "75%     9691.510000  10008.145000  10458.250000  10925.800000  11395.550000   \n",
       "max    41139.500000  41384.100000  41516.800000  41636.300000  41717.200000   \n",
       "\n",
       "       Unnamed: 60  \n",
       "count          0.0  \n",
       "mean           NaN  \n",
       "std            NaN  \n",
       "min            NaN  \n",
       "25%            NaN  \n",
       "50%            NaN  \n",
       "75%            NaN  \n",
       "max            NaN  \n",
       "\n",
       "[8 rows x 60 columns]"
      ]
     },
     "metadata": {},
     "output_type": "display_data"
    },
    {
     "name": "stdout",
     "output_type": "stream",
     "text": [
      "\n",
      "\n"
     ]
    },
    {
     "data": {
      "text/html": [
       "<div>\n",
       "<style scoped>\n",
       "    .dataframe tbody tr th:only-of-type {\n",
       "        vertical-align: middle;\n",
       "    }\n",
       "\n",
       "    .dataframe tbody tr th {\n",
       "        vertical-align: top;\n",
       "    }\n",
       "\n",
       "    .dataframe thead th {\n",
       "        text-align: right;\n",
       "    }\n",
       "</style>\n",
       "<table border=\"1\" class=\"dataframe\">\n",
       "  <thead>\n",
       "    <tr style=\"text-align: right;\">\n",
       "      <th></th>\n",
       "      <th>Unnamed: 0</th>\n",
       "      <th>region</th>\n",
       "    </tr>\n",
       "  </thead>\n",
       "  <tbody>\n",
       "    <tr>\n",
       "      <th>count</th>\n",
       "      <td>178</td>\n",
       "      <td>178</td>\n",
       "    </tr>\n",
       "    <tr>\n",
       "      <th>unique</th>\n",
       "      <td>178</td>\n",
       "      <td>7</td>\n",
       "    </tr>\n",
       "    <tr>\n",
       "      <th>top</th>\n",
       "      <td>Tajikistan</td>\n",
       "      <td>Sub-Saharan Africa</td>\n",
       "    </tr>\n",
       "    <tr>\n",
       "      <th>freq</th>\n",
       "      <td>1</td>\n",
       "      <td>44</td>\n",
       "    </tr>\n",
       "  </tbody>\n",
       "</table>\n",
       "</div>"
      ],
      "text/plain": [
       "        Unnamed: 0              region\n",
       "count          178                 178\n",
       "unique         178                   7\n",
       "top     Tajikistan  Sub-Saharan Africa\n",
       "freq             1                  44"
      ]
     },
     "metadata": {},
     "output_type": "display_data"
    },
    {
     "name": "stdout",
     "output_type": "stream",
     "text": [
      "\n",
      "\n"
     ]
    }
   ],
   "source": [
    "for key, val in dfs.items():\n",
    "\n",
    "    # 1. Get the summary table\n",
    "    num_summary = val.describe()\n",
    "    cat_summary = val.loc[:,val.dtypes==np.object].describe(include=['O'])\n",
    "    \n",
    "    # 2. Display it\n",
    "\n",
    "    print('\\nSUMMARY STATISTICS WITHOUT AGGREGATION: {}'.format(key),'\\n')\n",
    "    \n",
    "    display(num_summary)\n",
    "    \n",
    "    print('\\n')\n",
    "    \n",
    "    display(cat_summary)\n",
    "    \n",
    "    print('\\n')"
   ]
  },
  {
   "cell_type": "markdown",
   "id": "noted-vulnerability",
   "metadata": {},
   "source": [
    "### Exploratory Data Analysis\n",
    "\n",
    "#### The impact of KIVA donors\n",
    "\n",
    "In this section, we seek to explore the data to answer certain questions around KIVA donor contributions.\n",
    "\n",
    "_**1. How much of the total loan amount has Kiva financed?**_"
   ]
  },
  {
   "cell_type": "code",
   "execution_count": 8,
   "id": "sharing-wealth",
   "metadata": {
    "tags": [
     "hide-input"
    ]
   },
   "outputs": [
    {
     "data": {
      "image/png": "[encoded data removed]",
      "text/plain": [
       "<Figure size 432x288 with 1 Axes>"
      ]
     },
     "metadata": {},
     "output_type": "display_data"
    }
   ],
   "source": [
    "# 1. Calculate the percentage of loan requests that have been funded\n",
    "percentage1 = (loan_data.funded_amount.sum()/loan_data.loan_amount.sum())*100\n",
    "percentage1 = round(percentage1, 2)\n",
    "\n",
    "# 2. Display the result\n",
    "status = ['Financed by KIVA','Not financed by KIVA']\n",
    "\n",
    "values = [percentage1, (100-percentage1)]\n",
    "\n",
    "fig1, ax1 = plt.subplots()\n",
    "\n",
    "ax1.pie(values, labels=status,\n",
    "        autopct='%1.2f%%',\n",
    "        startangle=90,\n",
    "        colors=np.array(['#7e81c4','#cbcce7']))\n",
    "\n",
    "ax1.axis('equal')  # Equal aspect ratio ensures that pie is drawn as a circle.\n",
    "\n",
    "plt.show()"
   ]
  },
  {
   "cell_type": "markdown",
   "id": "satisfactory-optics",
   "metadata": {},
   "source": [
    "<br>\n",
    "\n",
    "<br>\n",
    "\n",
    "_**2. How much money have Kiva donors contributed over time?**_"
   ]
  },
  {
   "cell_type": "code",
   "execution_count": 9,
   "id": "conditional-absorption",
   "metadata": {
    "tags": [
     "hide-input"
    ]
   },
   "outputs": [
    {
     "name": "stdout",
     "output_type": "stream",
     "text": [
      "\n",
      " DAILY CONTRIBUTIONS OF KIVA DONORS AS A COLLECTIVE\n"
     ]
    },
    {
     "data": {
      "image/png": "[encoded data removed]",
      "text/plain": [
       "<Figure size 432x288 with 1 Axes>"
      ]
     },
     "metadata": {
      "needs_background": "light"
     },
     "output_type": "display_data"
    }
   ],
   "source": [
    "print('\\n', 'DAILY CONTRIBUTIONS OF KIVA DONORS AS A COLLECTIVE')\n",
    "\n",
    "# convert datetime values to appropriate formats\n",
    "loan_data['posted_time'] = loan_data['posted_time'].astype('datetime64')\n",
    "loan_data['disbursed_time'] = loan_data['disbursed_time'].astype('datetime64')\n",
    "loan_data['funded_time'] = loan_data['funded_time'].astype('datetime64')\n",
    "\n",
    "# pick out dates\n",
    "loan_data.loc[:,'disbursement_date'] = loan_data['disbursed_time'].dt.date\n",
    "\n",
    "# create a pivot-table\n",
    "tab1 = pd.pivot_table(loan_data, values='funded_amount', index=['disbursement_date'], aggfunc='sum')\n",
    "\n",
    "# plot this table\n",
    "from pandas.plotting import register_matplotlib_converters\n",
    "register_matplotlib_converters()\n",
    "\n",
    "fig, ax = plt.subplots()\n",
    "\n",
    "ax.plot(tab1.index, tab1['funded_amount'], color='#7e81c4')\n",
    "\n",
    "# rotate and align the tick labels so they look better\n",
    "fig.autofmt_xdate()\n",
    "\n",
    "# declare the title and show the completed graph\n",
    "\n",
    "plt.xlabel('Dates')\n",
    "\n",
    "plt.ylabel('Funded amount (in million USD)')\n",
    "\n",
    "plt.show()"
   ]
  },
  {
   "cell_type": "markdown",
   "id": "christian-crossing",
   "metadata": {},
   "source": [
    "<br>\n",
    "\n",
    "<br>\n",
    "\n",
    "_**3. How much money have Kiva donors given to individual loans?**_"
   ]
  },
  {
   "cell_type": "code",
   "execution_count": 10,
   "id": "israeli-potato",
   "metadata": {
    "tags": [
     "hide-input"
    ]
   },
   "outputs": [
    {
     "data": {
      "image/png": "[encoded data removed]",
      "text/plain": [
       "<Figure size 432x288 with 1 Axes>"
      ]
     },
     "metadata": {
      "needs_background": "light"
     },
     "output_type": "display_data"
    }
   ],
   "source": [
    "# create a pivot-table\n",
    "loan_count_per_funded_amount = pd.pivot_table(loan_data, values='id', index=['funded_amount'], aggfunc='count')\n",
    "\n",
    "# rename the column\n",
    "loan_count_per_funded_amount.columns = ['number_of_loans']\n",
    "\n",
    "# sort the results in descending order\n",
    "loan_count_per_funded_amount = loan_count_per_funded_amount.sort_values(by=['number_of_loans'], ascending=False)\n",
    "\n",
    "# and display top 10 results\n",
    "amounts = ['225','300','200','500','250','125','400','350','325','275']\n",
    "\n",
    "fig, ax = plt.subplots()\n",
    "\n",
    "ax.bar(amounts,loan_count_per_funded_amount.iloc[0:10,0],color='#7e81c4')\n",
    "\n",
    "plt.ylabel('Number of loans')\n",
    "\n",
    "ax.set_xticklabels(labels=amounts, rotation = (90), fontsize = 10, va='top', ha='left')\n",
    "\n",
    "plt.xlabel('Top 10 fund amounts given to each loan (in USD)')\n",
    "\n",
    "plt.title('THE MOST COMMON KIVA DONATION AMOUNTS')\n",
    "\n",
    "plt.show()"
   ]
  },
  {
   "cell_type": "markdown",
   "id": "charitable-sport",
   "metadata": {},
   "source": [
    "<br>\n",
    "\n",
    "<br>\n",
    "\n",
    "_**4. How much money have Kiva donors given to individual countries?**_"
   ]
  },
  {
   "cell_type": "code",
   "execution_count": 11,
   "id": "superior-forth",
   "metadata": {
    "tags": [
     "hide-input"
    ]
   },
   "outputs": [
    {
     "data": {
      "image/png": "[encoded data removed]",
      "text/plain": [
       "<Figure size 432x288 with 1 Axes>"
      ]
     },
     "metadata": {
      "needs_background": "light"
     },
     "output_type": "display_data"
    }
   ],
   "source": [
    "# create a pivot-table\n",
    "tab2 = pd.pivot_table(loan_data, values='funded_amount', index=['country'], aggfunc='sum')\n",
    "\n",
    "# sort the results in descending order\n",
    "tab2 = tab2.sort_values(by=['funded_amount'], ascending=False)\n",
    "\n",
    "# rename the aggregated column to an appropiate label\n",
    "tab2.columns = ['sum_of_funded_amount']\n",
    "\n",
    "# make some index entries into columns\n",
    "tab2 = tab2.reset_index(level=['country'])\n",
    "\n",
    "# and display top 10 results\n",
    "\n",
    "fig, ax = plt.subplots()\n",
    "\n",
    "ax.bar(tab2.iloc[0:10,0],(tab2.iloc[0:10,1]/1000000),color='#7e81c4')\n",
    "\n",
    "plt.ylabel('Funding in million USD')\n",
    "\n",
    "ax.set_xticklabels(labels=tab2.iloc[0:10,0], rotation = (90), fontsize = 10, va='top', ha='left')\n",
    "\n",
    "plt.xlabel('Top 10 countries')\n",
    "\n",
    "plt.title('COUNTRIES THAT RECEIVED THE MOST IN KIVA FUNDING')\n",
    "\n",
    "plt.show()"
   ]
  },
  {
   "cell_type": "code",
   "execution_count": 12,
   "id": "common-disease",
   "metadata": {
    "tags": [
     "hide-input"
    ]
   },
   "outputs": [
    {
     "data": {
      "image/png": "[encoded data removed]",
      "text/plain": [
       "<Figure size 432x288 with 1 Axes>"
      ]
     },
     "metadata": {
      "needs_background": "light"
     },
     "output_type": "display_data"
    }
   ],
   "source": [
    "# create a pivot-table\n",
    "loans_per_country = pd.pivot_table(loan_data, values='id', index=['country'], aggfunc='count')\n",
    "\n",
    "# sort the results in descending order\n",
    "loans_per_country = loans_per_country.sort_values(by=['id'], ascending=False)\n",
    "\n",
    "# rename the aggregated column to an appropiate label\n",
    "loans_per_country.columns = ['number_of_loans']\n",
    "\n",
    "# make some index entries into columns\n",
    "loans_per_country = loans_per_country.reset_index(level=['country'])\n",
    "\n",
    "# and display top 10 results\n",
    "loans_per_country.head(10)\n",
    "\n",
    "# and display top 10 results\n",
    "\n",
    "fig, ax = plt.subplots()\n",
    "\n",
    "ax.bar(loans_per_country.iloc[0:10,0],loans_per_country.iloc[0:10,1],color='#7e81c4')\n",
    "\n",
    "plt.ylabel('Number of loans')\n",
    "\n",
    "ax.set_xticklabels(labels=tab2.iloc[0:10,0], rotation = (90), fontsize = 10, va='top', ha='left')\n",
    "\n",
    "plt.xlabel('Top 10 countries')\n",
    "\n",
    "plt.title('COUNTRIES THAT HAD THE HIGHEST NUMBER OF LOANS ON KIVA')\n",
    "\n",
    "plt.show()"
   ]
  },
  {
   "cell_type": "markdown",
   "id": "waiting-withdrawal",
   "metadata": {},
   "source": [
    "This shows that the top 10 countries in terms of the number of loans and amount of funding from KIVA were the same and each country maintained its position.\n",
    "\n",
    "Countries that had the highest contribution per loan were:"
   ]
  },
  {
   "cell_type": "code",
   "execution_count": 13,
   "id": "narrow-protein",
   "metadata": {
    "tags": [
     "hide-input"
    ]
   },
   "outputs": [
    {
     "name": "stdout",
     "output_type": "stream",
     "text": [
      "The shape of tab2 before merge:  (87, 2)\n",
      "The shape of tab2 after merge:  (87, 3)\n"
     ]
    }
   ],
   "source": [
    "# initial status message\n",
    "print('The shape of tab2 before merge: ', tab2.shape)\n",
    "\n",
    "# join the data, keeping only relevant entries\n",
    "tab2 = tab2.merge(loans_per_country, on='country')\n",
    "\n",
    "# final status message\n",
    "print('The shape of tab2 after merge: ', tab2.shape)"
   ]
  },
  {
   "cell_type": "code",
   "execution_count": 14,
   "id": "generic-shopper",
   "metadata": {
    "tags": [
     "hide-input"
    ]
   },
   "outputs": [
    {
     "data": {
      "image/png": "[encoded data removed]",
      "text/plain": [
       "<Figure size 432x288 with 1 Axes>"
      ]
     },
     "metadata": {
      "needs_background": "light"
     },
     "output_type": "display_data"
    }
   ],
   "source": [
    "# add a calculated column to the newly merged tab2\n",
    "tab2.loc[:, 'contribution_per_loan'] = tab2['sum_of_funded_amount']/tab2['number_of_loans']\n",
    "\n",
    "# sort the results in descending order\n",
    "tab2 = tab2.sort_values(by=['contribution_per_loan'], ascending=False)\n",
    "\n",
    "# and display top 10 results\n",
    "\n",
    "fig, ax = plt.subplots()\n",
    "\n",
    "ax.bar(tab2.iloc[0:10,0], round(tab2.iloc[0:10,3], 2), color='#7e81c4')\n",
    "\n",
    "plt.ylabel('Kiva donor contribution per loan')\n",
    "\n",
    "ax.set_xticklabels(labels=tab2.iloc[0:10,0], rotation = (90), fontsize = 10, va='top', ha='left')\n",
    "\n",
    "plt.xlabel('Top 10 countries')\n",
    "\n",
    "plt.title('COUNTRIES THAT HAD THE HIGHEST CONTRIBUTION PER LOAN ON KIVA')\n",
    "\n",
    "plt.show()"
   ]
  },
  {
   "cell_type": "markdown",
   "id": "least-possession",
   "metadata": {},
   "source": [
    "Countries that had the lowest contribution per loan were:"
   ]
  },
  {
   "cell_type": "code",
   "execution_count": 15,
   "id": "expired-immunology",
   "metadata": {
    "tags": [
     "hide-input"
    ]
   },
   "outputs": [
    {
     "data": {
      "image/png": "[encoded data removed]",
      "text/plain": [
       "<Figure size 432x288 with 1 Axes>"
      ]
     },
     "metadata": {
      "needs_background": "light"
     },
     "output_type": "display_data"
    }
   ],
   "source": [
    "# add a calculated column to the newly merged tab2\n",
    "tab2.loc[:, 'contribution_per_loan'] = tab2['sum_of_funded_amount']/tab2['number_of_loans']\n",
    "\n",
    "# sort the results in ascending order\n",
    "tab2 = tab2.sort_values(by=['contribution_per_loan'], ascending=True)\n",
    "\n",
    "# and display top 10 results\n",
    "\n",
    "fig, ax = plt.subplots()\n",
    "\n",
    "ax.bar(tab2.iloc[0:10,0], round(tab2.iloc[0:10,3], 2), color='#7e81c4')\n",
    "\n",
    "plt.ylabel('Kiva donor contribution per loan')\n",
    "\n",
    "ax.set_xticklabels(labels=tab2.iloc[0:10,0], rotation = (90), fontsize = 10, va='top', ha='left')\n",
    "\n",
    "plt.xlabel('Bottom 10 countries')\n",
    "\n",
    "plt.title('COUNTRIES THAT HAD THE LOWEST CONTRIBUTION PER LOAN ON KIVA')\n",
    "\n",
    "plt.show()"
   ]
  },
  {
   "cell_type": "markdown",
   "id": "dirty-folks",
   "metadata": {},
   "source": [
    "<br>\n",
    "\n",
    "<br>\n",
    "\n",
    "_**5. What is the geographical footprint of where funds given by KIVA donors end up?**_"
   ]
  },
  {
   "cell_type": "code",
   "execution_count": 16,
   "id": "together-chile",
   "metadata": {
    "tags": [
     "hide-input"
    ]
   },
   "outputs": [
    {
     "name": "stdout",
     "output_type": "stream",
     "text": [
      "partner_id\n",
      "\n",
      "Partner ID\n",
      "partner_id\n"
     ]
    }
   ],
   "source": [
    "# make a copy of the loan_data dataset and combine it with partner data\n",
    "loan_data_copy = loan_data.copy()\n",
    "\n",
    "# ensure that the common column is the same datatype and they share the same name\n",
    "# the datatype chosen was float64 to preserve any decimal points\n",
    "print(loan_data_copy.iloc[:,10].name) # original name; stays the same\n",
    "print('')\n",
    "\n",
    "print(regional_lts.iloc[:,0].name) #original name - will be changed\n",
    "#change column name\n",
    "regional_lts.columns = ['partner_id', 'Field Partner Name', 'sector',\n",
    "                        'Loan Theme ID', 'Loan Theme Type', 'country',\n",
    "                        'forkiva', 'region', 'geocode_old',\n",
    "                        'ISO', 'number', 'amount',\n",
    "                        'LocationName', 'geocode', 'names',\n",
    "                        'geo', 'lat', 'lon',\n",
    "                        'mpi_region', 'mpi_geo', 'rural_pct']\n",
    "# confirm change\n",
    "print(regional_lts.iloc[:,0].name)\n",
    "\n",
    "# change the datatype\n",
    "regional_lts.iloc[:,0] = regional_lts.iloc[:,0].astype('float64')"
   ]
  },
  {
   "cell_type": "code",
   "execution_count": 17,
   "id": "therapeutic-gabriel",
   "metadata": {
    "tags": [
     "hide-input"
    ]
   },
   "outputs": [],
   "source": [
    "# create a pivot-table\n",
    "tab3 = pd.pivot_table(loan_data_copy, values='funded_amount', index=['partner_id'], aggfunc='sum')\n",
    "\n",
    "# sort the results in descending order\n",
    "tab3 = tab3.sort_values(by=['funded_amount'], ascending=False)\n",
    "\n",
    "# rename the aggregated column to an appropiate label\n",
    "tab3.columns = ['sum_of_funded_amount']\n",
    "\n",
    "# make some index entries into columns\n",
    "tab3 = tab3.reset_index(level=['partner_id'])"
   ]
  },
  {
   "cell_type": "code",
   "execution_count": 18,
   "id": "rocky-recovery",
   "metadata": {
    "tags": [
     "hide-input"
    ]
   },
   "outputs": [],
   "source": [
    "# create another pivot-table\n",
    "tab4 = pd.pivot_table(regional_lts, values='amount',\n",
    "                      index=['partner_id', 'Field Partner Name',\n",
    "                             'country'],\n",
    "                      aggfunc='count')\n",
    "\n",
    "# sort the results in descending order\n",
    "tab4 = tab4.sort_values(by=['amount'], ascending=False)\n",
    "\n",
    "# rename the aggregated column to an appropiate label\n",
    "tab4.columns = ['count_of_amount']\n",
    "\n",
    "# make some index entries into columns\n",
    "tab4 = tab4.reset_index(level=['partner_id', 'Field Partner Name', 'country'])"
   ]
  },
  {
   "cell_type": "code",
   "execution_count": 19,
   "id": "collective-volunteer",
   "metadata": {
    "tags": [
     "hide-input"
    ]
   },
   "outputs": [],
   "source": [
    "# create a third pivot-table\n",
    "tab5 = pd.pivot_table(loan_data_copy, values='id', index=['partner_id'], aggfunc='count')\n",
    "\n",
    "# sort the results in descending order\n",
    "tab5 = tab5.sort_values(by=['id'], ascending=False)\n",
    "\n",
    "# rename the aggregated column to an appropiate label\n",
    "tab5.columns = ['number_of_loans']\n",
    "\n",
    "# make some index entries into columns\n",
    "tab5 = tab5.reset_index(level=['partner_id'])"
   ]
  },
  {
   "cell_type": "code",
   "execution_count": 20,
   "id": "hungarian-angle",
   "metadata": {
    "tags": [
     "hide-input"
    ]
   },
   "outputs": [
    {
     "name": "stdout",
     "output_type": "stream",
     "text": [
      "The shape of tab3 before merge:  (366, 2)\n",
      "The shape of tab3 after merge:  (366, 3)\n",
      "The shape of tab3 before merge:  (366, 3)\n",
      "The shape of tab3 after merge:  (331, 6)\n",
      "Out of the 366 partners that disbursed loans, KIVA had the contact details of 90.0% of them.\n"
     ]
    }
   ],
   "source": [
    "# initial status message\n",
    "print('The shape of tab3 before merge: ', tab3.shape)\n",
    "\n",
    "# join the data, keeping only relevant entries\n",
    "tab3 = tab3.merge(tab5, on='partner_id')\n",
    "\n",
    "# final status message\n",
    "print('The shape of tab3 after merge: ', tab3.shape)\n",
    "\n",
    "\n",
    "# initial status message\n",
    "print('The shape of tab3 before merge: ', tab3.shape)\n",
    "\n",
    "# join the data, keeping only relevant entries\n",
    "tab3 = tab3.merge(tab4, on='partner_id')\n",
    "\n",
    "# final status message\n",
    "print('The shape of tab3 after merge: ', tab3.shape)\n",
    "\n",
    "\n",
    "percentage2 = tab3.shape[0]/366 * 100\n",
    "percentage2 = round(percentage2, 0)\n",
    "\n",
    "print('Out of the 366 partners that disbursed loans, KIVA had the contact details of '+str(percentage2)+'% of them.')"
   ]
  },
  {
   "cell_type": "markdown",
   "id": "changing-designation",
   "metadata": {},
   "source": [
    "The partners that received the most funding by KIVA were:"
   ]
  },
  {
   "cell_type": "code",
   "execution_count": 21,
   "id": "discrete-grass",
   "metadata": {
    "tags": [
     "hide-input"
    ]
   },
   "outputs": [
    {
     "data": {
      "image/png": "[encoded data removed]",
      "text/plain": [
       "<Figure size 432x288 with 1 Axes>"
      ]
     },
     "metadata": {
      "needs_background": "light"
     },
     "output_type": "display_data"
    }
   ],
   "source": [
    "# to have more details of the partners that received the most funding by KIVA,\n",
    "# sort the results in descending order\n",
    "tab3 = tab3.sort_values(by=['sum_of_funded_amount'], ascending=False)\n",
    "\n",
    "# drop the unecessary columns\n",
    "tab3 = tab3.drop('count_of_amount',1)\n",
    "\n",
    "# display top 10 results; do they match with the original tab3? They match!\n",
    "fig, ax = plt.subplots()\n",
    "ax.bar(tab3.iloc[0:10,3], (tab3.iloc[0:10,1]/1000000), color='#7e81c4')\n",
    "plt.ylabel('Kiva donor overall contribution (in million USD)')\n",
    "ax.set_xticklabels(labels=tab3.iloc[0:10,3], rotation = (90), fontsize = 10, va='top', ha='left')\n",
    "plt.xlabel('Field partners')\n",
    "plt.title('FIELD PARTNERS THAT RECEIVED THE MOST FUNDING ON KIVA')\n",
    "plt.show()"
   ]
  },
  {
   "cell_type": "markdown",
   "id": "authorized-procurement",
   "metadata": {},
   "source": [
    "The partners that serviced the highest number of loans on KIVA were:"
   ]
  },
  {
   "cell_type": "code",
   "execution_count": 22,
   "id": "instrumental-curtis",
   "metadata": {
    "tags": [
     "hide-input"
    ]
   },
   "outputs": [
    {
     "data": {
      "image/png": "[encoded data removed]",
      "text/plain": [
       "<Figure size 432x288 with 1 Axes>"
      ]
     },
     "metadata": {
      "needs_background": "light"
     },
     "output_type": "display_data"
    }
   ],
   "source": [
    "# sort the results in descending order\n",
    "tab3 = tab3.sort_values(by=['number_of_loans'], ascending=False)\n",
    "\n",
    "# display top 10 results in terms of number of loans\n",
    "fig, ax = plt.subplots()\n",
    "ax.bar(tab3.iloc[0:10,3], tab3.iloc[0:10,2], color='#7e81c4')\n",
    "plt.ylabel('Total number of loans on Kiva')\n",
    "ax.set_xticklabels(labels=tab3.iloc[0:10,3], rotation = (90), fontsize = 10, va='top', ha='left')\n",
    "plt.xlabel('Top 10 Field partners')\n",
    "plt.title('FIELD PARTNERS THAT SERVICED THE HIGHEST LOANS ON KIVA')\n",
    "plt.show()"
   ]
  },
  {
   "cell_type": "code",
   "execution_count": 23,
   "id": "rough-writing",
   "metadata": {
    "tags": [
     "hide-input"
    ]
   },
   "outputs": [
    {
     "data": {
      "image/png": "[encoded data removed]",
      "text/plain": [
       "<Figure size 432x288 with 1 Axes>"
      ]
     },
     "metadata": {
      "needs_background": "light"
     },
     "output_type": "display_data"
    }
   ],
   "source": [
    "# add a calculated column to the newly merged tab3\n",
    "tab3.loc[:, 'contribution_per_loan'] = tab3['sum_of_funded_amount']/tab3['number_of_loans']\n",
    "\n",
    "# sort the results in descending order\n",
    "tab3 = tab3.sort_values(by=['contribution_per_loan'], ascending=False)\n",
    "\n",
    "# display top 20 results in terms of donor contribution per loan\n",
    "fig, ax = plt.subplots()\n",
    "ax.bar(tab3.iloc[0:20,3], tab3.iloc[0:20,5], color='#7e81c4')\n",
    "plt.ylabel('Kiva donor contribution per loan')\n",
    "ax.set_xticklabels(labels=tab3.iloc[0:20,3], rotation = (90), fontsize = 10, va='top', ha='left')\n",
    "plt.xlabel('Top 20 Field partners')\n",
    "plt.title('FIELD PARTNERS THAT RECEIVED THE MOST VALUABLE LOANS ON KIVA')\n",
    "plt.show()"
   ]
  },
  {
   "cell_type": "markdown",
   "id": "lesser-symposium",
   "metadata": {},
   "source": [
    "The per capita contribution shows most of the largest contributions per loan actually went directly to social impact businesses.\n",
    "\n",
    "<br>\n",
    "\n",
    "<br>\n",
    "\n",
    "<br>\n",
    "\n",
    "#### The characteristics of KIVA borrowers\n",
    "\n",
    "In this section, we seek to understand KIVA borrower characteristics.\n",
    "\n",
    "1. What is the size of the shortfall for each individual borrower in a given sector?"
   ]
  },
  {
   "cell_type": "code",
   "execution_count": null,
   "id": "legendary-delay",
   "metadata": {
    "tags": [
     "hide-input"
    ]
   },
   "outputs": [],
   "source": []
  }
 ],
 "metadata": {
  "kernelspec": {
   "display_name": "Python 3",
   "language": "python",
   "name": "python3"
  },
  "language_info": {
   "codemirror_mode": {
    "name": "ipython",
    "version": 3
   },
   "file_extension": ".py",
   "mimetype": "text/x-python",
   "name": "python",
   "nbconvert_exporter": "python",
   "pygments_lexer": "ipython3",
   "version": "3.9.0"
  }
 },
 "nbformat": 4,
 "nbformat_minor": 5
}
