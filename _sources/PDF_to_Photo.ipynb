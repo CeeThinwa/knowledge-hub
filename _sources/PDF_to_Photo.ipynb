{
 "cells": [
  {
   "cell_type": "markdown",
   "metadata": {
    "cell_id": "b74e2992-887a-44e8-b626-7c3278b913e4",
    "deepnote_cell_height": 69.60000610351562,
    "deepnote_cell_type": "markdown",
    "id": "5Wl2xoWJvEEP"
   },
   "source": [
    "## Behind The Scenes"
   ]
  },
  {
   "cell_type": "code",
   "execution_count": 1,
   "metadata": {
    "cell_id": "00001-7f7e769e-d785-4268-8db4-a1fe1ed12cf7",
    "colab": {
     "base_uri": "https://localhost:8080/"
    },
    "deepnote_cell_height": 354,
    "deepnote_cell_type": "code",
    "deepnote_to_be_reexecuted": false,
    "execution_millis": 13957,
    "execution_start": 1648128407415,
    "id": "aQq0zEqanJos",
    "outputId": "25b77738-288c-428f-e2a3-70c96bca8d14",
    "source_hash": "6cf15d92"
   },
   "outputs": [
    {
     "name": "stdout",
     "output_type": "stream",
     "text": [
      "Requirement already satisfied: PyMuPDF in c:\\users\\ct\\documents\\github\\knowledge-hub\\venv\\lib\\site-packages (1.19.6)\n"
     ]
    },
    {
     "name": "stderr",
     "output_type": "stream",
     "text": [
      "WARNING: You are using pip version 21.1.2; however, version 22.0.4 is available.\n",
      "You should consider upgrading via the 'C:\\Users\\CT\\Documents\\GitHub\\knowledge-hub\\venv\\Scripts\\python.exe -m pip install --upgrade pip' command.\n"
     ]
    },
    {
     "name": "stdout",
     "output_type": "stream",
     "text": [
      "Requirement already satisfied: Pillow in c:\\users\\ct\\documents\\github\\knowledge-hub\\venv\\lib\\site-packages (9.0.1)\n"
     ]
    },
    {
     "name": "stderr",
     "output_type": "stream",
     "text": [
      "WARNING: You are using pip version 21.1.2; however, version 22.0.4 is available.\n",
      "You should consider upgrading via the 'C:\\Users\\CT\\Documents\\GitHub\\knowledge-hub\\venv\\Scripts\\python.exe -m pip install --upgrade pip' command.\n"
     ]
    }
   ],
   "source": [
    "!pip install PyMuPDF\n",
    "!pip install Pillow"
   ]
  },
  {
   "cell_type": "markdown",
   "metadata": {
    "cell_id": "00002-1d8f91e7-ec37-4779-8315-e1c63b4e75e4",
    "deepnote_cell_height": 69.60000610351562,
    "deepnote_cell_type": "markdown",
    "id": "wHpq143Qz9uU"
   },
   "source": [
    "## Getting photos contained in PDFs"
   ]
  },
  {
   "cell_type": "code",
   "execution_count": 2,
   "metadata": {
    "cell_id": "00003-e2fdd32a-c49a-4aa9-8f20-bf9224f1ea77",
    "deepnote_cell_height": 98.60000610351562,
    "deepnote_cell_type": "code",
    "deepnote_to_be_reexecuted": false,
    "execution_millis": 0,
    "execution_start": 1648128421424,
    "id": "TRcuTOK0mCzH",
    "source_hash": "d44e5be9"
   },
   "outputs": [],
   "source": [
    "import fitz # this is the PyMuPDF library\n",
    "from PIL import Image # PIL is the Pillow library"
   ]
  },
  {
   "cell_type": "markdown",
   "metadata": {
    "cell_id": "00004-cd549a6c-bf1f-4a88-8e4a-eafaa30ebeb9",
    "deepnote_cell_height": 61.600006103515625,
    "deepnote_cell_type": "markdown",
    "id": "qv17Sp3fx2Uo"
   },
   "source": [
    "### Final Function"
   ]
  },
  {
   "cell_type": "code",
   "execution_count": 3,
   "metadata": {
    "cell_id": "00005-aa9d670f-5bca-4c26-891e-392fca6f57d6",
    "deepnote_cell_height": 782.5999755859375,
    "deepnote_cell_type": "code",
    "deepnote_to_be_reexecuted": false,
    "execution_millis": 0,
    "execution_start": 1648128421473,
    "id": "PBzFvLoc1L3P",
    "source_hash": "81933ee7"
   },
   "outputs": [],
   "source": [
    "def image_extractor(pdf_path='', image_folder_path=''):\n",
    "  \n",
    "  image_extractor_output = []\n",
    "  \n",
    "  # 1. Open the PDF\n",
    "  pdf_file = fitz.open(pdf_path)\n",
    "  \n",
    "  for i in range(len(pdf_file)):\n",
    "\n",
    "    image_descriptions = []\n",
    "    pillow_objects = []\n",
    "    \n",
    "    # 2. Get the page itself\n",
    "    page = pdf_file[i]\n",
    "    \n",
    "    # 3. Get the list of images in a page as a list of tuples\n",
    "    images = page.get_images()\n",
    "    \n",
    "    for j in range(len(images)):\n",
    "      \n",
    "      # 4. Get the XREF of the image in a particular image tuple\n",
    "      xref = images[j][0]\n",
    "            \n",
    "      # 5. Extract the base_image dictionary\n",
    "      base_image = pdf_file.extract_image(xref)\n",
    "      image_descriptions.append(base_image)\n",
    "      \n",
    "      # 6. Make the image a .PNG file and save it\n",
    "      png_pic = fitz.Pixmap(pdf_file, xref)\n",
    "      image_path = str(image_folder_path+'{}.PNG'.format(j))\n",
    "      png_pic.save(image_path)\n",
    "\n",
    "      # 7. Make the image a Pillow object and save it\n",
    "      im = Image.open(image_path)\n",
    "      pillow_objects.append(im)\n",
    "      \n",
    "    image_extractor_output.append(image_descriptions)\n",
    "    image_extractor_output.append(pillow_objects)\n",
    "    \n",
    "    return image_extractor_output"
   ]
  },
  {
   "cell_type": "code",
   "execution_count": 4,
   "metadata": {
    "cell_id": "00006-6ac859a1-ee83-463c-9e56-1b598a41e667",
    "deepnote_cell_height": 440.6000061035156,
    "deepnote_cell_type": "code",
    "deepnote_to_be_reexecuted": false,
    "execution_millis": 1152010,
    "execution_start": 1648128421474,
    "id": "olwThUe0ZMjY",
    "source_hash": "63a46447"
   },
   "outputs": [],
   "source": [
    "def resizer(pdf_input='', folder='', resize_factor=float(1)):\n",
    "\n",
    "  # 1. Get the two lists of image descriptions and pillow objects extracted\n",
    "  #    from the PDFs\n",
    "  output = image_extractor(pdf_path=pdf_input, image_folder_path=folder)\n",
    "  image_descriptions = output[0]\n",
    "  pillow_objects = output[1]\n",
    "  \n",
    "  for i in range(len(pillow_objects)):\n",
    "    # 2. Resize all the images\n",
    "    width = image_descriptions[i][\"width\"]\n",
    "    height = image_descriptions[i][\"height\"]\n",
    "    new_width = int(width*resize_factor)\n",
    "    new_height = int(height*resize_factor)\n",
    "    pillow_objects[i] = pillow_objects[i].resize((new_width, new_height))\n",
    "    \n",
    "    # 3. Save the resized images\n",
    "    image_path = str(folder+'{}.PNG'.format(i))\n",
    "    pillow_objects[i].save(image_path)\n",
    "\n",
    "    return pillow_objects"
   ]
  },
  {
   "cell_type": "code",
   "execution_count": 5,
   "metadata": {
    "cell_id": "00007-b49809c8-4104-4bd0-887c-bd03c9224ec8",
    "deepnote_cell_height": 368.6000061035156,
    "deepnote_cell_type": "code",
    "deepnote_to_be_reexecuted": false,
    "execution_millis": 1152009,
    "execution_start": 1648128421504,
    "id": "kK1pt62AlVBS",
    "source_hash": "7e3c768c"
   },
   "outputs": [],
   "source": [
    "def rotator(pdf_input='', folder='', angle=float(0)):\n",
    "\n",
    "  # 1. Get the two lists of image descriptions and pillow objects extracted\n",
    "  #    from the PDFs\n",
    "  output = image_extractor(pdf_path=pdf_input, image_folder_path=folder)\n",
    "  pillow_objects = output[1]\n",
    "  \n",
    "  for i in range(len(pillow_objects)):\n",
    "    # 2. Rotate all the images\n",
    "    pillow_objects[i] = pillow_objects[i].rotate(angle, expand=True)\n",
    "    \n",
    "    # 3. Save the rotated images\n",
    "    image_path = str(folder+'{}.PNG'.format(i))\n",
    "    pillow_objects[i].save(image_path)\n",
    "\n",
    "    return pillow_objects\n"
   ]
  },
  {
   "cell_type": "code",
   "execution_count": 6,
   "metadata": {
    "cell_id": "00008-44c2de7c-2918-4ddc-92df-815646f7b3e9",
    "deepnote_cell_height": 530.5999755859375,
    "deepnote_cell_type": "code",
    "deepnote_to_be_reexecuted": false,
    "execution_millis": 1151992,
    "execution_start": 1648128421504,
    "id": "Sg7D3nUAxPgY",
    "source_hash": "177d5c8f"
   },
   "outputs": [],
   "source": [
    "def resizer_and_rotator(pdf_input='', folder='', resize_factor=float(1),\n",
    "                        angle=float(0)):\n",
    "\n",
    "  # 1. Get the two lists of image descriptions and pillow objects extracted\n",
    "  #    from the PDFs\n",
    "  output = image_extractor(pdf_path=pdf_input, image_folder_path=folder)\n",
    "  image_descriptions = output[0]\n",
    "  pillow_objects = output[1]\n",
    "  \n",
    "  for i in range(len(pillow_objects)):\n",
    "    # 2. Resize all the images\n",
    "    width = image_descriptions[i][\"width\"]\n",
    "    height = image_descriptions[i][\"height\"]\n",
    "    new_width = int(width*resize_factor)\n",
    "    new_height = int(height*resize_factor)\n",
    "    pillow_objects[i] = pillow_objects[i].resize((new_width, new_height))\n",
    "\n",
    "    # 3. Rotate all the images\n",
    "    pillow_objects[i] = pillow_objects[i].rotate(angle, expand=True)\n",
    "    \n",
    "    # 4. Save the transformed images\n",
    "    image_path = str(folder+'{}.PNG'.format(i))\n",
    "    pillow_objects[i].save(image_path)\n",
    "\n",
    "    return pillow_objects\n"
   ]
  },
  {
   "cell_type": "code",
   "execution_count": 7,
   "metadata": {
    "cell_id": "00009-6b352b58-8960-486e-a535-a85b368969af",
    "deepnote_cell_height": 98.60000610351562,
    "deepnote_cell_type": "code",
    "deepnote_to_be_reexecuted": false,
    "execution_millis": 439181,
    "execution_start": 1648128421506,
    "id": "Z8rM66sZ4uGT",
    "source_hash": "1f4aac19"
   },
   "outputs": [],
   "source": [
    "p = './pdfs/Statistical_models_in_R.pdf'\n",
    "f = './images/'"
   ]
  },
  {
   "cell_type": "markdown",
   "metadata": {
    "cell_id": "018e6d82adbb4b2991aeb9d90a0bd70d",
    "deepnote_cell_height": 69.60000610351562,
    "deepnote_cell_type": "markdown",
    "tags": []
   },
   "source": [
    "![](https://raw.githubusercontent.com/CeeThinwa/Solving-real-world-problems-with-statistical-modelling/master/Statistical_models_in_R.pdf)"
   ]
  },
  {
   "cell_type": "code",
   "execution_count": 13,
   "metadata": {
    "cell_id": "00010-2002a581-8d28-49ff-93e8-360eef379919",
    "deepnote_cell_height": 216.8000030517578,
    "deepnote_cell_type": "code",
    "deepnote_to_be_reexecuted": false,
    "execution_millis": 157,
    "execution_start": 1648128421507,
    "id": "B8eN2m2jZZSY",
    "source_hash": "e2bdfd17"
   },
   "outputs": [
    {
     "name": "stdout",
     "output_type": "stream",
     "text": [
      "Wall time: 7.19 ms\n"
     ]
    },
    {
     "data": {
      "text/plain": [
       "[[], []]"
      ]
     },
     "execution_count": 13,
     "metadata": {},
     "output_type": "execute_result"
    }
   ],
   "source": [
    "%%time\n",
    "\n",
    "image_extractor(pdf_path='./pdfs/Statistical_models_in_R.pdf', image_folder_path='./images/')"
   ]
  },
  {
   "cell_type": "code",
   "execution_count": 9,
   "metadata": {
    "cell_id": "00011-f045983a-050b-472e-bd78-44a11a89caad",
    "deepnote_cell_height": 197.60000610351562,
    "deepnote_cell_type": "code",
    "deepnote_to_be_reexecuted": false,
    "execution_millis": 18,
    "execution_start": 1648128421672,
    "id": "UD0aBOedTkYS",
    "source_hash": "cfd2ef07"
   },
   "outputs": [
    {
     "ename": "TypeError",
     "evalue": "'NoneType' object is not subscriptable",
     "output_type": "error",
     "traceback": [
      "\u001b[1;31m---------------------------------------------------------------------------\u001b[0m",
      "\u001b[1;31mTypeError\u001b[0m                                 Traceback (most recent call last)",
      "\u001b[1;32m<timed eval>\u001b[0m in \u001b[0;36m<module>\u001b[1;34m\u001b[0m\n",
      "\u001b[1;31mTypeError\u001b[0m: 'NoneType' object is not subscriptable"
     ]
    }
   ],
   "source": [
    "%%time\n",
    "\n",
    "display(resizer_and_rotator(pdf_input=p, folder=f, resize_factor=0.075,\n",
    "                            angle=90)[0])"
   ]
  },
  {
   "cell_type": "code",
   "execution_count": 10,
   "metadata": {
    "cell_id": "00012-e674e8e9-1eb8-44b5-8f82-d883904f8fb5",
    "colab": {
     "background_save": true
    },
    "deepnote_cell_height": 161.60000610351562,
    "deepnote_cell_type": "code",
    "deepnote_to_be_reexecuted": false,
    "execution_millis": 1,
    "execution_start": 1648128421736,
    "id": "cJKn3OnkvZ3B",
    "source_hash": "5d988285"
   },
   "outputs": [
    {
     "ename": "TypeError",
     "evalue": "'NoneType' object is not subscriptable",
     "output_type": "error",
     "traceback": [
      "\u001b[1;31m---------------------------------------------------------------------------\u001b[0m",
      "\u001b[1;31mTypeError\u001b[0m                                 Traceback (most recent call last)",
      "\u001b[1;32m<timed eval>\u001b[0m in \u001b[0;36m<module>\u001b[1;34m\u001b[0m\n",
      "\u001b[1;31mTypeError\u001b[0m: 'NoneType' object is not subscriptable"
     ]
    }
   ],
   "source": [
    "%%time\n",
    "rotator(pdf_input=p, folder=f, angle=90)[0]"
   ]
  },
  {
   "cell_type": "markdown",
   "metadata": {
    "created_in_deepnote_cell": true,
    "deepnote_cell_type": "markdown",
    "tags": []
   },
   "source": [
    "<a style='text-decoration:none;line-height:16px;display:flex;color:#5B5B62;padding:10px;justify-content:end;' href='https://deepnote.com?utm_source=created-in-deepnote-cell&projectId=1c0e5d1d-0a6e-4b1a-bf33-0acca524d05e' target=\"_blank\">\n",
    "<img alt='Created in deepnote.com' style='display:inline;max-height:16px;margin:0px;margin-right:7.5px;' src='data:image/svg+xml;base64,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' > </img>\n",
    "Created in <span style='font-weight:600;margin-left:4px;'>Deepnote</span></a>"
   ]
  }
 ],
 "metadata": {
  "colab": {
   "collapsed_sections": [],
   "name": "Copy of PDF Photo Analyzer.ipynb",
   "provenance": []
  },
  "deepnote": {
   "is_reactive": false
  },
  "deepnote_execution_queue": [],
  "deepnote_notebook_id": "f2d2fa5f-ea28-4e82-a703-56fdd6457da6",
  "kernelspec": {
   "display_name": "Python 3",
   "language": "python",
   "name": "python3"
  },
  "language_info": {
   "codemirror_mode": {
    "name": "ipython",
    "version": 3
   },
   "file_extension": ".py",
   "mimetype": "text/x-python",
   "name": "python",
   "nbconvert_exporter": "python",
   "pygments_lexer": "ipython3",
   "version": "3.9.0"
  }
 },
 "nbformat": 4,
 "nbformat_minor": 4
}
