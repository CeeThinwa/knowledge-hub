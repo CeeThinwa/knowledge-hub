{
 "cells": [
  {
   "cell_type": "markdown",
   "id": "middle-sentence",
   "metadata": {},
   "source": [
    "# Kiva Project (adapted from https://bit.ly/2J7G9f8)\n",
    "\n",
    "## PROBLEM:\n",
    "\n",
    "### Context\n",
    "\n",
    "Kiva.org is an online crowdfunding platform to extend financial services to poor and financially excluded people around the world. Kiva lenders have provided over $1 billion dollars in loans to over 2 million people.\n",
    "\n",
    "In order to set investment priorities, help inform lenders, and understand their target communities, knowing the level of poverty of each borrower is critical. However, this requires inference based on a limited set of information for each borrower.\n",
    "\n",
    "Submissions in this challenge will take the form of Python data analysis.\n",
    "\n",
    "Kiva has provided a dataset of loans issued over the 2014-2018 time period, and participants are invited to use this data as well as source external public datasets to help Kiva build models for assessing borrower welfare levels. With a stronger understanding of their borrowers and their poverty levels, Kiva will be able to better assess and maximize the impact of their work.\n",
    "\n",
    "### Problem statement\n",
    "\n",
    "For the locations in which Kiva has active loans, the objective is to pair Kiva's data with additional data sources to estimate the welfare level of borrowers in specific regions, based on shared economic and demographic characteristics.\n",
    "\n",
    "A good solution would connect the features of each loan or product to one of several poverty mapping datasets, which indicate the average level of welfare in a region on as granular a level as possible. Many datasets indicate the poverty rate in a given area, with varying levels of granularity. Kiva would like to be able to disaggregate these regional averages by gender, sector, or borrowing behavior in order to estimate a Kiva borrower’s level of welfare using all of the relevant information about them. Strong submissions will attempt to map vaguely described locations to more accurate geocodes.\n",
    "\n",
    "### Personal disclaimer\n",
    "\n",
    "From a research perspective, the results obtained are never going to be a full representation of the realities that borrowers experience. It is meant to spark a discussion around how we can identify the welfare level of borrowers and improve them where we can.\n",
    "\n",
    "\n",
    "## SOLUTION:\n",
    "\n",
    "### Python Packages & Functions"
   ]
  },
  {
   "cell_type": "code",
   "execution_count": null,
   "id": "aging-hepatitis",
   "metadata": {},
   "outputs": [],
   "source": [
    "# Packages\n",
    "import numpy as np\n",
    "import pandas as pd\n",
    "\n",
    "import matplotlib.pyplot as plt\n",
    "import matplotlib.dates as mdates"
   ]
  }
 ],
 "metadata": {
  "kernelspec": {
   "display_name": "Python 3",
   "language": "python",
   "name": "python3"
  },
  "language_info": {
   "codemirror_mode": {
    "name": "ipython",
    "version": 3
   },
   "file_extension": ".py",
   "mimetype": "text/x-python",
   "name": "python",
   "nbconvert_exporter": "python",
   "pygments_lexer": "ipython3",
   "version": "3.9.0"
  }
 },
 "nbformat": 4,
 "nbformat_minor": 5
}
